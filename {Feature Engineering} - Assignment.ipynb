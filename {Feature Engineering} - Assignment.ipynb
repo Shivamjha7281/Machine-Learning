{
 "cells": [
  {
   "cell_type": "code",
   "execution_count": 108,
   "id": "43498796-4fc3-4a02-adaf-27a451eb285c",
   "metadata": {},
   "outputs": [],
   "source": [
    "import pandas as pd\n",
    "student_data={'Gender': ['Male', 'Female', 'Male'],\n",
    "              'City': ['Delhi', 'Mumbai', 'Delhi'],\n",
    "              'Marks':[85, 92, 78]}\n",
    "df_student_data = pd.DataFrame(student_data)"
   ]
  },
  {
   "cell_type": "markdown",
   "id": "17f77d16-23b7-4fc0-b509-f84dc45642a7",
   "metadata": {},
   "source": [
    "**1. What is a parameter?**"
   ]
  },
  {
   "cell_type": "markdown",
   "id": "9a95479d-54ff-4d4c-bd4f-a6b60ec34dd3",
   "metadata": {},
   "source": [
    "- Parameters are values inside a model that are learned from the training data.\n",
    "\n",
    "- They help the model make predictions (like deciding how much each input matters).\n",
    "\n",
    "- Common examples include weights and bias in linear or logistic regression.\n",
    "\n",
    "- The model adjusts these values during training to reduce prediction error.\n",
    "\n",
    "- Parameters are not set by humans — they are calculated by the model itself.\n",
    "\n",
    "Example:\n",
    "\n",
    "Imagine you're a delivery driver using a GPS app. The app predicts how long your trip will take based on:\n",
    "- Distance\n",
    "- Traffic\n",
    "- Weather\n",
    "\n",
    "Your GPS system (the model) learns over time:\n",
    "\n",
    "- How much traffic affects your speed = 1 parameter\n",
    "- How weather slows you down = another parameter\n",
    "- How distance relates to time = another parameter\n",
    "\n",
    "The GPS adjusts these parameters after each trip to predict better next time — just like a machine learning model does during training!"
   ]
  },
  {
   "cell_type": "markdown",
   "id": "85e50648-6de4-4521-a45f-dc110ad83ee6",
   "metadata": {},
   "source": [
    "**2. What is correlation?**"
   ]
  },
  {
   "cell_type": "markdown",
   "id": "b18046e9-ac29-4456-ad39-58de36bfce1b",
   "metadata": {},
   "source": [
    "- Correlation shows the relationship between two variables — how they move together.\n",
    "- If both increase or decrease together → it's a positive correlation.\n",
    "- If one increases while the other decreases → it's a negative correlation.\n",
    "- If there's no pattern between them → no correlation.\n",
    "- Correlation is measured between -1 and +1:\n",
    "    - +1 = perfect positive\n",
    "    - -1 = perfect negative\n",
    "    - 0 = no correlation\n",
    "\n",
    "Example:\n",
    "\n",
    "- Suppose you run a juice shop.\n",
    "    - Variable 1: Temperature outside\n",
    "    - Variable 2: Number of juices sold\n",
    "- As temperature goes up, more people buy juice.\n",
    "- This is a positive correlation.\n",
    "- So if it's hotter, your sales go up — they move together!\n",
    "\n",
    "**What does negative correlation mean?**\n",
    "\n",
    "A negative correlation means that:When one variable increases, the other decreases, and vice versa. So they move in opposite directions.\n",
    "\n",
    "Example:\n",
    "- Imagine you're preparing for exams:\n",
    "    - Variable 1: Hours spent on social media\n",
    "    - Variable 2: Exam scores\n",
    "- As your social media time increases, your exam score decreases.\n",
    "That's a negative correlation.\n",
    "\n",
    "- Correlation Value:\n",
    "    - Negative correlation values are less than 0.\n",
    "    - A perfect negative correlation = -1\n",
    "    - Weak negative = closer to 0"
   ]
  },
  {
   "cell_type": "markdown",
   "id": "adc719ab-6542-4617-89f2-f7e3ee92c269",
   "metadata": {},
   "source": [
    "**3. Define Machine Learning. What are the main components in Machine Learning?**"
   ]
  },
  {
   "cell_type": "markdown",
   "id": "979311a2-161d-4758-bbd8-78903e8f27a9",
   "metadata": {},
   "source": [
    "Machine Learning (ML) is a branch of artificial intelligence (AI) where computers learn from data and make decisions or predictions without being explicitly programmed. It’s like teaching a computer to learn from experience, just like humans do.\n",
    "\n",
    "Main Components of Machine Learning:\n",
    "\n",
    "- Data:\n",
    "    - The starting point — real-world information (numbers, text, images, etc.)\n",
    "    - Example: Sales records, exam scores, or patient health data\n",
    "- Model\n",
    "    - A system (like a formula or network) that learns patterns from the data\n",
    "    - Example: Linear regression, decision tree, neural network\n",
    "-  Algorithm\n",
    "    - The method used to train the model on the data\n",
    "    - Example: Linear regression algorithm, Gradient Descent, Random Forest\n",
    "-  Training\n",
    "    - The process of feeding data to the model so it learns\n",
    "    - The model adjusts internal parameters (like weights) during this step\n",
    "- Prediction / Inference\n",
    "    - Once trained, the model can make predictions on new/unseen data\n",
    "    - Example: Predicting tomorrow’s sales or whether a student will pass\n",
    "- Evaluation\n",
    "    - Measures how well the model is performing\n",
    "    - Common metrics: Accuracy, R² score, Mean Squared Error\n",
    "\n",
    "Machine Learning is all about giving data to a model, training it using an algorithm, and letting it make predictions or decisions — improving over time."
   ]
  },
  {
   "cell_type": "markdown",
   "id": "6b39e80d-a769-4f42-bf84-a88181d417fe",
   "metadata": {},
   "source": [
    "**4. How does loss value help in determining whether the model is good or not?**"
   ]
  },
  {
   "cell_type": "markdown",
   "id": "6d8a7ef9-3d8b-439a-a11a-4ed2ebcaba25",
   "metadata": {},
   "source": [
    "Loss Value in Machine Learning:\n",
    "- The loss value is a number that tells us how bad the model's prediction is compared to the actual result.\n",
    "- The goal of any ML model is to reduce the loss as much as possible during training.\n",
    "\n",
    "\n",
    "How Loss Value Helps Judge the Model:\n",
    "- Measures Mistakes\n",
    "    - The loss value shows how far off the model’s prediction is from the real answer.\n",
    "    - Higher loss = bigger error\n",
    "    - Lower loss = better predictions\n",
    "- Guides Model Training\n",
    "    - During training, the model uses loss to adjust its parameters (like weights).\n",
    "    - The model keeps learning until the loss becomes as low as possible.\n",
    "- Compares Models\n",
    "    - You can train different models and compare their loss values.\n",
    "    - The one with the lowest loss is likely the best performer (on the same data).\n",
    "- Helps Avoid Overfitting\n",
    "    - Monitoring loss on both training and validation data helps spot overfitting.\n",
    "        - Low training loss + high validation loss = overfitting\n",
    "- Decides When to Stop Training\n",
    "    - If the loss stops improving, the model may have learned all it can.\n",
    "    - This is a sign to end training to avoid wasting time or overfitting.\n",
    "- Analogy:\n",
    "    - Think of the loss value like marks lost in an exam:\n",
    "        - 100 marks exam → you score 80\n",
    "        - ou lost 20 marks → your \"loss\" is 20\n",
    "    - Smaller loss = better performance \n",
    "    - Larger loss = more room for improvement"
   ]
  },
  {
   "cell_type": "markdown",
   "id": "495c2384-d1d8-456a-9afd-8c09b525e11c",
   "metadata": {},
   "source": [
    "**5. What are continuous and categorical variables?**"
   ]
  },
  {
   "cell_type": "markdown",
   "id": "a7347f50-a337-4805-af2b-9b38a786f9a5",
   "metadata": {},
   "source": [
    "Continuous Variables:\n",
    "- Continuous variables are numeric values that can take any value within a range, including decimals.\n",
    "-  Examples:\n",
    "    - Total bill amount: ₹23.75, ₹105.90\n",
    "    - Height: 165.5 cm\n",
    "    - Temperature: 36.6°C\n",
    "    - Time: 2.35 seconds\n",
    "-  You can measure continuous variables.\n",
    "\n",
    "Categorical Variables:\n",
    "- Categorical variables are non-numeric (or sometimes numeric labels) that represent groups or categories.\n",
    "- Examples:\n",
    "    - Gender: Male, Female\n",
    "    - Day: Mon, Tue, Wed\n",
    "    - Smoker: Yes, No\n",
    "    - Size category: Small, Medium, Large\n",
    "    - Time of meal: Lunch, Dinner\n",
    "- You can classify categorical variables into groups, but you can’t calculate a meaningful average.\n",
    "- Analogy:\n",
    "    - For a house:\n",
    "        - Price: ₹56,00,000 → Continuous\n",
    "        - Location: Mumbai, Delhi → Categorical\n",
    "        - Number of Bedrooms: 1, 2, 3 → Can be categorical (if treated as labels) or continuous (if used as numeric)"
   ]
  },
  {
   "cell_type": "markdown",
   "id": "7b06384f-0385-4724-9c05-29b3165ee592",
   "metadata": {},
   "source": [
    "**6. How do we handle categorical variables in Machine Learning? What are the common techniques?**"
   ]
  },
  {
   "cell_type": "markdown",
   "id": "44637205-ad86-4839-9a4f-e9cb1e13360f",
   "metadata": {},
   "source": [
    "Why We handle categorical variables?\n",
    "- Because machine learning models can’t understand words like \"Male\" or \"Sunday\" — we must convert them into numbers.\n",
    "\n",
    "Common Techniques to Handle Categorical Variables:\n",
    "\n",
    "1. Label Encoding\n",
    "    - Converts categories into numbers (0, 1, 2, ...)\n",
    "    - Useful when categories have an order (ordinal data)\n",
    "    - Example:"
   ]
  },
  {
   "cell_type": "code",
   "execution_count": 35,
   "id": "6d49a029-2a25-4ac8-b471-4e5965056bd7",
   "metadata": {},
   "outputs": [
    {
     "data": {
      "text/html": [
       "<div>\n",
       "<style scoped>\n",
       "    .dataframe tbody tr th:only-of-type {\n",
       "        vertical-align: middle;\n",
       "    }\n",
       "\n",
       "    .dataframe tbody tr th {\n",
       "        vertical-align: top;\n",
       "    }\n",
       "\n",
       "    .dataframe thead th {\n",
       "        text-align: right;\n",
       "    }\n",
       "</style>\n",
       "<table border=\"1\" class=\"dataframe\">\n",
       "  <thead>\n",
       "    <tr style=\"text-align: right;\">\n",
       "      <th></th>\n",
       "      <th>total_bill</th>\n",
       "      <th>tip</th>\n",
       "      <th>sex</th>\n",
       "      <th>smoker</th>\n",
       "      <th>day</th>\n",
       "      <th>time</th>\n",
       "      <th>size</th>\n",
       "    </tr>\n",
       "  </thead>\n",
       "  <tbody>\n",
       "    <tr>\n",
       "      <th>0</th>\n",
       "      <td>16.99</td>\n",
       "      <td>1.01</td>\n",
       "      <td>Female</td>\n",
       "      <td>No</td>\n",
       "      <td>Sun</td>\n",
       "      <td>Dinner</td>\n",
       "      <td>2</td>\n",
       "    </tr>\n",
       "    <tr>\n",
       "      <th>1</th>\n",
       "      <td>10.34</td>\n",
       "      <td>1.66</td>\n",
       "      <td>Male</td>\n",
       "      <td>No</td>\n",
       "      <td>Sun</td>\n",
       "      <td>Dinner</td>\n",
       "      <td>3</td>\n",
       "    </tr>\n",
       "    <tr>\n",
       "      <th>2</th>\n",
       "      <td>21.01</td>\n",
       "      <td>3.50</td>\n",
       "      <td>Male</td>\n",
       "      <td>No</td>\n",
       "      <td>Sun</td>\n",
       "      <td>Dinner</td>\n",
       "      <td>3</td>\n",
       "    </tr>\n",
       "    <tr>\n",
       "      <th>3</th>\n",
       "      <td>23.68</td>\n",
       "      <td>3.31</td>\n",
       "      <td>Male</td>\n",
       "      <td>No</td>\n",
       "      <td>Sun</td>\n",
       "      <td>Dinner</td>\n",
       "      <td>2</td>\n",
       "    </tr>\n",
       "    <tr>\n",
       "      <th>4</th>\n",
       "      <td>24.59</td>\n",
       "      <td>3.61</td>\n",
       "      <td>Female</td>\n",
       "      <td>No</td>\n",
       "      <td>Sun</td>\n",
       "      <td>Dinner</td>\n",
       "      <td>4</td>\n",
       "    </tr>\n",
       "    <tr>\n",
       "      <th>...</th>\n",
       "      <td>...</td>\n",
       "      <td>...</td>\n",
       "      <td>...</td>\n",
       "      <td>...</td>\n",
       "      <td>...</td>\n",
       "      <td>...</td>\n",
       "      <td>...</td>\n",
       "    </tr>\n",
       "    <tr>\n",
       "      <th>239</th>\n",
       "      <td>29.03</td>\n",
       "      <td>5.92</td>\n",
       "      <td>Male</td>\n",
       "      <td>No</td>\n",
       "      <td>Sat</td>\n",
       "      <td>Dinner</td>\n",
       "      <td>3</td>\n",
       "    </tr>\n",
       "    <tr>\n",
       "      <th>240</th>\n",
       "      <td>27.18</td>\n",
       "      <td>2.00</td>\n",
       "      <td>Female</td>\n",
       "      <td>Yes</td>\n",
       "      <td>Sat</td>\n",
       "      <td>Dinner</td>\n",
       "      <td>2</td>\n",
       "    </tr>\n",
       "    <tr>\n",
       "      <th>241</th>\n",
       "      <td>22.67</td>\n",
       "      <td>2.00</td>\n",
       "      <td>Male</td>\n",
       "      <td>Yes</td>\n",
       "      <td>Sat</td>\n",
       "      <td>Dinner</td>\n",
       "      <td>2</td>\n",
       "    </tr>\n",
       "    <tr>\n",
       "      <th>242</th>\n",
       "      <td>17.82</td>\n",
       "      <td>1.75</td>\n",
       "      <td>Male</td>\n",
       "      <td>No</td>\n",
       "      <td>Sat</td>\n",
       "      <td>Dinner</td>\n",
       "      <td>2</td>\n",
       "    </tr>\n",
       "    <tr>\n",
       "      <th>243</th>\n",
       "      <td>18.78</td>\n",
       "      <td>3.00</td>\n",
       "      <td>Female</td>\n",
       "      <td>No</td>\n",
       "      <td>Thur</td>\n",
       "      <td>Dinner</td>\n",
       "      <td>2</td>\n",
       "    </tr>\n",
       "  </tbody>\n",
       "</table>\n",
       "<p>244 rows × 7 columns</p>\n",
       "</div>"
      ],
      "text/plain": [
       "     total_bill   tip     sex smoker   day    time  size\n",
       "0         16.99  1.01  Female     No   Sun  Dinner     2\n",
       "1         10.34  1.66    Male     No   Sun  Dinner     3\n",
       "2         21.01  3.50    Male     No   Sun  Dinner     3\n",
       "3         23.68  3.31    Male     No   Sun  Dinner     2\n",
       "4         24.59  3.61  Female     No   Sun  Dinner     4\n",
       "..          ...   ...     ...    ...   ...     ...   ...\n",
       "239       29.03  5.92    Male     No   Sat  Dinner     3\n",
       "240       27.18  2.00  Female    Yes   Sat  Dinner     2\n",
       "241       22.67  2.00    Male    Yes   Sat  Dinner     2\n",
       "242       17.82  1.75    Male     No   Sat  Dinner     2\n",
       "243       18.78  3.00  Female     No  Thur  Dinner     2\n",
       "\n",
       "[244 rows x 7 columns]"
      ]
     },
     "execution_count": 35,
     "metadata": {},
     "output_type": "execute_result"
    }
   ],
   "source": [
    "import pandas as pd\n",
    "import seaborn as sns\n",
    "\n",
    "df=sns.load_dataset('tips')\n",
    "df"
   ]
  },
  {
   "cell_type": "code",
   "execution_count": 41,
   "id": "c01311e0-b595-42b5-ade7-b6c9935c7173",
   "metadata": {},
   "outputs": [],
   "source": [
    "from sklearn.preprocessing import LabelEncoder\n",
    "\n",
    "le=LabelEncoder()\n",
    "df['sex']=le.fit_transform(df['sex']) #Male=1, Female=0"
   ]
  },
  {
   "cell_type": "markdown",
   "id": "f9853285-5c6d-4621-bc40-fd13db7fccbb",
   "metadata": {},
   "source": [
    "2. One-Hot Encoding\n",
    "    - Converts each category into a separate column with 0/1\n",
    "    - Best for nominal (unordered) categories\n",
    "    -  Example:"
   ]
  },
  {
   "cell_type": "code",
   "execution_count": 45,
   "id": "2d120a83-2f17-4739-a777-615fc95688b9",
   "metadata": {},
   "outputs": [
    {
     "data": {
      "text/html": [
       "<div>\n",
       "<style scoped>\n",
       "    .dataframe tbody tr th:only-of-type {\n",
       "        vertical-align: middle;\n",
       "    }\n",
       "\n",
       "    .dataframe tbody tr th {\n",
       "        vertical-align: top;\n",
       "    }\n",
       "\n",
       "    .dataframe thead th {\n",
       "        text-align: right;\n",
       "    }\n",
       "</style>\n",
       "<table border=\"1\" class=\"dataframe\">\n",
       "  <thead>\n",
       "    <tr style=\"text-align: right;\">\n",
       "      <th></th>\n",
       "      <th>total_bill</th>\n",
       "      <th>tip</th>\n",
       "      <th>sex</th>\n",
       "      <th>smoker</th>\n",
       "      <th>time</th>\n",
       "      <th>size</th>\n",
       "      <th>day_Fri</th>\n",
       "      <th>day_Sat</th>\n",
       "      <th>day_Sun</th>\n",
       "    </tr>\n",
       "  </thead>\n",
       "  <tbody>\n",
       "    <tr>\n",
       "      <th>0</th>\n",
       "      <td>16.99</td>\n",
       "      <td>1.01</td>\n",
       "      <td>0</td>\n",
       "      <td>No</td>\n",
       "      <td>Dinner</td>\n",
       "      <td>2</td>\n",
       "      <td>False</td>\n",
       "      <td>False</td>\n",
       "      <td>True</td>\n",
       "    </tr>\n",
       "    <tr>\n",
       "      <th>1</th>\n",
       "      <td>10.34</td>\n",
       "      <td>1.66</td>\n",
       "      <td>1</td>\n",
       "      <td>No</td>\n",
       "      <td>Dinner</td>\n",
       "      <td>3</td>\n",
       "      <td>False</td>\n",
       "      <td>False</td>\n",
       "      <td>True</td>\n",
       "    </tr>\n",
       "    <tr>\n",
       "      <th>2</th>\n",
       "      <td>21.01</td>\n",
       "      <td>3.50</td>\n",
       "      <td>1</td>\n",
       "      <td>No</td>\n",
       "      <td>Dinner</td>\n",
       "      <td>3</td>\n",
       "      <td>False</td>\n",
       "      <td>False</td>\n",
       "      <td>True</td>\n",
       "    </tr>\n",
       "    <tr>\n",
       "      <th>3</th>\n",
       "      <td>23.68</td>\n",
       "      <td>3.31</td>\n",
       "      <td>1</td>\n",
       "      <td>No</td>\n",
       "      <td>Dinner</td>\n",
       "      <td>2</td>\n",
       "      <td>False</td>\n",
       "      <td>False</td>\n",
       "      <td>True</td>\n",
       "    </tr>\n",
       "    <tr>\n",
       "      <th>4</th>\n",
       "      <td>24.59</td>\n",
       "      <td>3.61</td>\n",
       "      <td>0</td>\n",
       "      <td>No</td>\n",
       "      <td>Dinner</td>\n",
       "      <td>4</td>\n",
       "      <td>False</td>\n",
       "      <td>False</td>\n",
       "      <td>True</td>\n",
       "    </tr>\n",
       "    <tr>\n",
       "      <th>...</th>\n",
       "      <td>...</td>\n",
       "      <td>...</td>\n",
       "      <td>...</td>\n",
       "      <td>...</td>\n",
       "      <td>...</td>\n",
       "      <td>...</td>\n",
       "      <td>...</td>\n",
       "      <td>...</td>\n",
       "      <td>...</td>\n",
       "    </tr>\n",
       "    <tr>\n",
       "      <th>239</th>\n",
       "      <td>29.03</td>\n",
       "      <td>5.92</td>\n",
       "      <td>1</td>\n",
       "      <td>No</td>\n",
       "      <td>Dinner</td>\n",
       "      <td>3</td>\n",
       "      <td>False</td>\n",
       "      <td>True</td>\n",
       "      <td>False</td>\n",
       "    </tr>\n",
       "    <tr>\n",
       "      <th>240</th>\n",
       "      <td>27.18</td>\n",
       "      <td>2.00</td>\n",
       "      <td>0</td>\n",
       "      <td>Yes</td>\n",
       "      <td>Dinner</td>\n",
       "      <td>2</td>\n",
       "      <td>False</td>\n",
       "      <td>True</td>\n",
       "      <td>False</td>\n",
       "    </tr>\n",
       "    <tr>\n",
       "      <th>241</th>\n",
       "      <td>22.67</td>\n",
       "      <td>2.00</td>\n",
       "      <td>1</td>\n",
       "      <td>Yes</td>\n",
       "      <td>Dinner</td>\n",
       "      <td>2</td>\n",
       "      <td>False</td>\n",
       "      <td>True</td>\n",
       "      <td>False</td>\n",
       "    </tr>\n",
       "    <tr>\n",
       "      <th>242</th>\n",
       "      <td>17.82</td>\n",
       "      <td>1.75</td>\n",
       "      <td>1</td>\n",
       "      <td>No</td>\n",
       "      <td>Dinner</td>\n",
       "      <td>2</td>\n",
       "      <td>False</td>\n",
       "      <td>True</td>\n",
       "      <td>False</td>\n",
       "    </tr>\n",
       "    <tr>\n",
       "      <th>243</th>\n",
       "      <td>18.78</td>\n",
       "      <td>3.00</td>\n",
       "      <td>0</td>\n",
       "      <td>No</td>\n",
       "      <td>Dinner</td>\n",
       "      <td>2</td>\n",
       "      <td>False</td>\n",
       "      <td>False</td>\n",
       "      <td>False</td>\n",
       "    </tr>\n",
       "  </tbody>\n",
       "</table>\n",
       "<p>244 rows × 9 columns</p>\n",
       "</div>"
      ],
      "text/plain": [
       "     total_bill   tip  sex smoker    time  size  day_Fri  day_Sat  day_Sun\n",
       "0         16.99  1.01    0     No  Dinner     2    False    False     True\n",
       "1         10.34  1.66    1     No  Dinner     3    False    False     True\n",
       "2         21.01  3.50    1     No  Dinner     3    False    False     True\n",
       "3         23.68  3.31    1     No  Dinner     2    False    False     True\n",
       "4         24.59  3.61    0     No  Dinner     4    False    False     True\n",
       "..          ...   ...  ...    ...     ...   ...      ...      ...      ...\n",
       "239       29.03  5.92    1     No  Dinner     3    False     True    False\n",
       "240       27.18  2.00    0    Yes  Dinner     2    False     True    False\n",
       "241       22.67  2.00    1    Yes  Dinner     2    False     True    False\n",
       "242       17.82  1.75    1     No  Dinner     2    False     True    False\n",
       "243       18.78  3.00    0     No  Dinner     2    False    False    False\n",
       "\n",
       "[244 rows x 9 columns]"
      ]
     },
     "execution_count": 45,
     "metadata": {},
     "output_type": "execute_result"
    }
   ],
   "source": [
    "pd.get_dummies(df, columns=['day'], drop_first=True)"
   ]
  },
  {
   "cell_type": "markdown",
   "id": "40cc8153-d8aa-47cb-a101-02e3ab307d6a",
   "metadata": {},
   "source": [
    "3. Ordinal Encoding\n",
    "    - Assigns numbers to categories based on order\n",
    "    - Useful when categories have a natural rank (e.g., Low < Medium < High)\n",
    "    -  Example:"
   ]
  },
  {
   "cell_type": "code",
   "execution_count": 80,
   "id": "e5b43b1f-0515-4524-880e-9cb71250c0af",
   "metadata": {},
   "outputs": [
    {
     "name": "stdout",
     "output_type": "stream",
     "text": [
      "     time  time_encoded\n",
      "0  Dinner           1.0\n",
      "1  Dinner           1.0\n"
     ]
    }
   ],
   "source": [
    "from sklearn.preprocessing import OrdinalEncoder\n",
    "\n",
    "# Define ordinal categories\n",
    "# day_order=['Thur', 'Fri', 'Sat', 'Sun']\n",
    "time_order=['Lunch', 'Dinner']\n",
    "\n",
    "# Create the encoder\n",
    "encoder=OrdinalEncoder(categories=[time_order])\n",
    "\n",
    "# Apply ordinal encoding to 'time'\n",
    "df[['time_encoded']]=encoder.fit_transform(df[['time']])\n",
    "\n",
    "#View result\n",
    "print(df[['time', 'time_encoded']].head(2))"
   ]
  },
  {
   "cell_type": "markdown",
   "id": "61619109-6b5b-4b01-900f-a30dbd00c17c",
   "metadata": {},
   "source": [
    "4. Target Encoding (Advanced)\n",
    "    - Replace categories with the mean of the target variable for each category\n",
    "    - Used in competitions (like Kaggle) and for high-cardinality features\n",
    "    - Use with caution — can cause data leakage if not split properly "
   ]
  },
  {
   "cell_type": "markdown",
   "id": "cc326086-4813-4549-8930-ea360f8c0867",
   "metadata": {},
   "source": [
    "**7. What do you mean by training and testing a dataset?**"
   ]
  },
  {
   "cell_type": "markdown",
   "id": "bf192bb0-7b2e-47a9-9c77-d60072914fe6",
   "metadata": {},
   "source": [
    "1. Training Dataset\n",
    "    - The training dataset is the portion of data that is used to teach the model.\n",
    "    - The model learns patterns from this data.\n",
    "    - It adjusts its internal parameters (like weights) based on it.\n",
    "    - This is like preparing for an exam using your textbooks.\n",
    "\n",
    "2. Testing Dataset\n",
    "    - The testing dataset is used to evaluate how well the trained model performs on new, unseen data.\n",
    "    - You don’t show this data to the model during training.\n",
    "    - It helps check how well the model generalizes to new inputs.\n",
    "    - This is like giving yourself a mock test after studying.\n",
    "\n",
    "- Why Split the Data?\n",
    "    - Because we want to:\n",
    "        - Train the model on known data\n",
    "        - Test its performance on unknown data\n",
    "        - This prevents overfitting (when the model memorizes instead of learning).\n",
    " \n",
    "Typical Split Ratio:"
   ]
  },
  {
   "cell_type": "code",
   "execution_count": 87,
   "id": "ad1677cf-f67a-42ce-aad7-0a5ccc4bdcab",
   "metadata": {},
   "outputs": [],
   "source": [
    "from sklearn.model_selection import train_test_split\n",
    "\n",
    "X_train, X_test, y_train, y_test = train_test_split(X, y, test_size=0.2, random_state=42)"
   ]
  },
  {
   "cell_type": "markdown",
   "id": "54729583-db10-4dc7-983d-5349eeaccd54",
   "metadata": {},
   "source": [
    "80% training\n",
    "\n",
    "20% testing"
   ]
  },
  {
   "cell_type": "markdown",
   "id": "e4eb281a-9145-4bdd-8163-3dcdaacb8554",
   "metadata": {},
   "source": [
    "- Training set = used to teach the model\n",
    "\n",
    "- Testing set = used to evaluate the model\n",
    "\n",
    "- Model learns from training, not testing\n",
    "\n",
    "- Testing simulates real-world unseen data\n",
    "\n",
    "- Good performance on test data = model is reliable "
   ]
  },
  {
   "cell_type": "markdown",
   "id": "9637e8ac-7d97-47e1-80a4-e38b65fef3b6",
   "metadata": {},
   "source": [
    "**8. What is sklearn.preprocessing?**"
   ]
  },
  {
   "cell_type": "markdown",
   "id": "d3c4e4ce-a4b8-4df9-8790-535adcfc804a",
   "metadata": {},
   "source": [
    "- sklearn.preprocessing is a module in scikit-learn that provides tools to prepare (preprocess) your data before feeding it into a machine learning model.\n",
    "\n",
    "- These tools help convert your raw data into a clean and model-friendly format.\n",
    "\n",
    "- Why is preprocessing important?\n",
    "    - Because raw data often has:\n",
    "        - ext labels instead of numbers\n",
    "        - Different scales (₹10 to ₹1,00,000)\n",
    "        - Missing or unstandardized values\n",
    "    - Machine learning models need clean, numeric, and properly scaled input, which preprocessing handles.\n",
    "\n",
    "\n",
    "- sklearn.preprocessing is like the \"data cleaning & converting\" toolbox before you start modeling."
   ]
  },
  {
   "cell_type": "markdown",
   "id": "f38ff621-492a-4599-b7b9-101869c0f9d3",
   "metadata": {},
   "source": [
    "**9. What is a Test set?**"
   ]
  },
  {
   "cell_type": "markdown",
   "id": "89fbc929-ac9e-43c3-b617-c5acdfbf6593",
   "metadata": {},
   "source": [
    "- The test set is a portion of your dataset that you use to check how well your model works on new, unseen data.\n",
    "\n",
    "- A test set is used to evaluate your machine learning model after training, to see how it performs on new, unseen data.\n",
    "\n",
    "- Think of it like this:\n",
    "    - We train our model using the training set (like studying from a book).\n",
    "    - Then, you test the model using the test set (like giving a mock exam)\n",
    "\n",
    "- The test set is never shown to the model during training.\n",
    "\n",
    "- It helps you measure how well your model can predict real-world outcomes.\n",
    "\n",
    "\n",
    "- Why is the Test Set Important?\n",
    "    - It checks if your model is actually learning or just memorizing.\n",
    "    - It tells you how well the model will perform on new data.\n",
    "    - It helps you compare different models fairly.\n",
    "    - It helps detect overfitting or underfitting."
   ]
  },
  {
   "cell_type": "code",
   "execution_count": 102,
   "id": "8460aa8b-9f66-48a6-b26f-ea421e430312",
   "metadata": {},
   "outputs": [],
   "source": [
    "from sklearn.model_selection import train_test_split\n",
    "\n",
    "X_train, X_test, y_train, y_test = train_test_split(X, y, test_size=0.2, random_state=42)"
   ]
  },
  {
   "cell_type": "markdown",
   "id": "a31f57dd-0c01-4439-88e0-b22166ab01df",
   "metadata": {},
   "source": [
    "X_train, y_train → Training data (80%)\n",
    "\n",
    "X_test, y_test → Test set (20%)"
   ]
  },
  {
   "cell_type": "markdown",
   "id": "3c499268-1583-480f-b549-0de8aa570946",
   "metadata": {},
   "source": [
    "**10. How do we split data for model fitting (training and testing) in Python?**"
   ]
  },
  {
   "cell_type": "code",
   "execution_count": 110,
   "id": "d980ab66-93fa-4f15-b81f-48985462d68c",
   "metadata": {},
   "outputs": [],
   "source": [
    "#Import the necessary module\n",
    "from sklearn.model_selection import train_test_split\n",
    "\n",
    "X = df.drop('target_column', axis=1)  # All columns except the target\n",
    "y = df['target_column']               # The column you want to predict\n",
    "\n",
    "X_train, X_test, y_train, y_test = train_test_split(\n",
    "    X, y, test_size=0.2, random_state=42)"
   ]
  },
  {
   "cell_type": "markdown",
   "id": "b74ab032-39a3-4284-918f-c3c4a8306f15",
   "metadata": {},
   "source": [
    "- X_train\t- Features used to train the model\n",
    "- X_test\t- Features used to test the model\n",
    "- y_train\t- Target values for training\n",
    "- y_test\t- Target values for testing"
   ]
  },
  {
   "cell_type": "markdown",
   "id": "0c41dbbc-03cd-4a22-a602-805c99ce538b",
   "metadata": {},
   "source": [
    "- Parameters Explained:\n",
    "    - test_size=0.2 → 20% for testing, 80% for training\n",
    "    - random_state=42 → Keeps the split reproducible"
   ]
  },
  {
   "cell_type": "markdown",
   "id": "f197ef83-d824-4373-b4f3-1ffc7b4a317c",
   "metadata": {},
   "source": [
    "Example:\n",
    "- If your dataset has 100 rows and you set test_size=0.2, you'll get:\n",
    "    - 80 rows in training set\n",
    "    - 20 rows in test set\n",
    "\n",
    "- Use train_test_split() to divide your data into a training set (for learning) and a test set (for evaluating). This ensures your model performs well on new data."
   ]
  },
  {
   "cell_type": "markdown",
   "id": "8ae349bf-b7f2-4d56-97d3-4fba1a90cbef",
   "metadata": {},
   "source": [
    "Example:\n",
    "- Situation:\n",
    "    - You're preparing for a math exam. You have a book with 100 practice questions.\n",
    "    - You decide to:\n",
    "        - Practice 80 questions → to learn and improve\n",
    "        - Save 20 questions → to test yourself later and see how well you learned\n",
    "\n",
    "- In Machine Learning Terms:\n",
    "    - Practice questions (80) - Training set – model learns here\n",
    "    - Test questions (20)\t- Test set – model is tested here\n",
    "    - Your learning from practice - Model training\n",
    "    - Your test performance - Model evaluation\n",
    "    \n",
    "- Why is this Important?\n",
    "    - If you practice on all 100 questions and then test yourself on the same 100, you won’t know if you truly understood — because you’re just memorizing, not learning.\n",
    "\n",
    "    - But if you test on new, unseen questions, you get a true idea of your skills — just like a machine learning model!"
   ]
  },
  {
   "cell_type": "markdown",
   "id": "bafbd1f4-8935-4d29-86e9-4b119f7790a2",
   "metadata": {},
   "source": [
    "Key Idea:\n",
    "\n",
    "Splitting data into training and test sets ensures the model learns from some data and is tested on new data to check how well it can perform in real-world situations."
   ]
  },
  {
   "cell_type": "markdown",
   "id": "c120f066-b96c-43df-b4b4-b38757739643",
   "metadata": {},
   "source": [
    "**How do you approach a Machine Learning problem?**"
   ]
  },
  {
   "cell_type": "markdown",
   "id": "bf2650b9-bf27-4fe1-8bed-018be09473b7",
   "metadata": {},
   "source": [
    "1. Understand the Problem\n",
    "    - What are you trying to predict or classify?\n",
    "    - What is the goal? (e.g., predict price, detect spam, classify customers)\n",
    "    - Is it a classification, regression, or clustering problem?\n",
    "2. Collect and Understand the Data\n",
    "    - Where is the data coming from? (CSV, database, API, etc.)\n",
    "    - What are the features (inputs) and target (output)?\n",
    "    - Use:"
   ]
  },
  {
   "cell_type": "code",
   "execution_count": 130,
   "id": "1fdda6b8-a648-4188-8cbf-2f79ea04222f",
   "metadata": {},
   "outputs": [],
   "source": [
    "df.head(), df.info(), df.describe()"
   ]
  },
  {
   "cell_type": "markdown",
   "id": "0762a8f2-d0e1-44f8-aa66-f77ef494d0db",
   "metadata": {},
   "source": [
    "3. Preprocess the Data\n",
    "   - Handle missing values: fill or drop\n",
    "   - Encode categorical variables: Label or One-Hot Encoding\n",
    "   - Feature scaling: StandardScaler, MinMaxScaler\n",
    "   - Example:"
   ]
  },
  {
   "cell_type": "code",
   "execution_count": null,
   "id": "30ac1d9b-8ece-413b-ab7b-42c144ed7643",
   "metadata": {},
   "outputs": [],
   "source": [
    "from sklearn.preprocessing import StandardScaler"
   ]
  },
  {
   "cell_type": "markdown",
   "id": "47d2fbba-92a0-4306-acf8-5b6b173581a0",
   "metadata": {},
   "source": [
    "4. Split the Data\n",
    "    - Split into training and test sets\n",
    "    - Example:"
   ]
  },
  {
   "cell_type": "code",
   "execution_count": 136,
   "id": "17a0ddee-6870-49e3-9579-d070210758d5",
   "metadata": {},
   "outputs": [],
   "source": [
    "from sklearn.model_selection import train_test_split\n",
    "X_train, X_test, y_train, y_test = train_test_split(X, y, test_size=0.2)"
   ]
  },
  {
   "cell_type": "markdown",
   "id": "adf1d23a-9e8d-481d-9422-efc90feaacf1",
   "metadata": {},
   "source": [
    " 5. Choose a Model\n",
    "    - Classification → Logistic Regression, Decision Tree, etc.\n",
    "    - Regression → Linear Regression, Random Forest\n",
    "    - Example:"
   ]
  },
  {
   "cell_type": "code",
   "execution_count": null,
   "id": "3103b44b-c1f2-4f29-9b53-ef19e2633d81",
   "metadata": {},
   "outputs": [],
   "source": [
    "from sklearn.linear_model import LinearRegression\n",
    "model = LinearRegression()"
   ]
  },
  {
   "cell_type": "markdown",
   "id": "27bb040d-d4bc-4ffc-8f53-3a7b3e0f3129",
   "metadata": {},
   "source": [
    "6. Train the Model\n",
    "    - Fit the model to the training data:"
   ]
  },
  {
   "cell_type": "code",
   "execution_count": 142,
   "id": "ed351a88-aea2-4c79-befb-76e1022b6e17",
   "metadata": {},
   "outputs": [],
   "source": [
    "model.fit(X_train, y_train)"
   ]
  },
  {
   "cell_type": "markdown",
   "id": "0a5ba2d9-ff7b-4e06-85ba-ebb08e36bf53",
   "metadata": {},
   "source": [
    "7. Evaluate the Model\n",
    "    - Use test data to check accuracy:"
   ]
  },
  {
   "cell_type": "code",
   "execution_count": null,
   "id": "2baa1c16-e929-4993-8324-adb3d820c7e5",
   "metadata": {},
   "outputs": [],
   "source": [
    "predictions = model.predict(X_test)\n",
    "from sklearn.metrics import mean_squared_error"
   ]
  },
  {
   "cell_type": "markdown",
   "id": "838ac7d8-1d8c-4793-8682-669a42bfe075",
   "metadata": {},
   "source": [
    "8. Improve the Model (Optional)\n",
    "    - Try different models\n",
    "    - Tune hyperparameters\n",
    "    - Add or remove features"
   ]
  },
  {
   "cell_type": "markdown",
   "id": "7761af54-a7a5-482b-8df3-05948babc2a2",
   "metadata": {},
   "source": [
    "9. Make Predictions\n",
    "    - Now use the model on real or new data:"
   ]
  },
  {
   "cell_type": "code",
   "execution_count": null,
   "id": "ae24412f-76f2-4755-a20d-0115d46550bd",
   "metadata": {},
   "outputs": [],
   "source": [
    "model.predict(new_data)"
   ]
  },
  {
   "cell_type": "markdown",
   "id": "ecc4828b-1206-4815-abae-5caec601ab47",
   "metadata": {},
   "source": [
    "10. Deploy (Optional)\n",
    "    - Save and deploy your model into a web app, dashboard, or system."
   ]
  },
  {
   "cell_type": "markdown",
   "id": "941da73f-126e-4155-b255-93c71594cc40",
   "metadata": {},
   "source": [
    "**11. Why do we have to perform EDA before fitting a model to the data?**"
   ]
  },
  {
   "cell_type": "markdown",
   "id": "b830907b-0692-4735-9c98-4faf587ebfb5",
   "metadata": {},
   "source": [
    "- Understand the Data:\n",
    "    - EDA helps you get familiar with the dataset — what it contains, and how it behaves.\n",
    "        - What are the columns?\n",
    "        - What is the shape of the data?\n",
    "        - What is the target variable?\n",
    "        - Are there any duplicates?\n",
    "\n",
    "- Detect Missing or Incorrect Data\n",
    "    - Before training a model, we must clean the data.\n",
    "        - Are there missing values?\n",
    "        - Are there outliers or errors (like negative ages)?\n",
    "        - Is the data type correct (e.g., numbers are not stored as text)?\n",
    " \n",
    "- Identify Relationships Between Features\n",
    "    - EDA shows which features are important for predicting the target.\n",
    "        - Are some features highly correlated?\n",
    "        - Do some features have no impact at all?\n",
    "        - This helps with feature selection.\n",
    " \n",
    "- Choose the Right Model and Preprocessing Steps\n",
    "    - Understanding data distribution helps you decide:\n",
    "        - Should you scale the data?\n",
    "        - Should you apply label encoding or one-hot encoding?\n",
    "        - Should you use a classification or regression model?\n",
    "\n",
    "- Avoid Garbage In → Garbage Out\n",
    "    - If you train a model on dirty, misunderstood, or low-quality data, the output will also be bad — no matter how good your model is.\n",
    " \n",
    "- Example:\n",
    "    - Imagine you are predicting student scores:\n",
    "        - Without EDA:\n",
    "            -  You fit the model directly and get bad accuracy.\n",
    "        - With EDA:\n",
    "            - You discover that some students have \"Absent\" as score.\n",
    "            - You notice \"study hours\" and \"score\" have strong correlation.\n",
    "            - You see that “parent job” has no effect on the score.\n",
    "            - You clean and prepare only useful features → Better model! "
   ]
  },
  {
   "cell_type": "markdown",
   "id": "a9a3fe88-e114-46ee-b18a-b55cf903f7f2",
   "metadata": {},
   "source": [
    "**12. What is correlation?**"
   ]
  },
  {
   "cell_type": "markdown",
   "id": "e49b09e6-b6f2-42b8-b5a3-a55cc7bee45a",
   "metadata": {},
   "source": [
    "- Correlation is a statistical measure that shows how two variables are related — how one changes when the other changes.\n",
    "- It tells us:\n",
    "    - Do they increase or decrease together?\n",
    "    - Or does one go up while the other goes down?\n",
    "    - Or are they not related at all?\n",
    "\n",
    "- Types of Correlation:\n",
    "    - Positive\n",
    "        - Both variables increase together\n",
    "    - Negative\n",
    "        - One increases, the other decreases\n",
    "    - No Correlation\n",
    "        - No clear pattern between them\n",
    "     \n",
    "- Correlation Value (Range: -1 to +1)\n",
    "    - +1 - Perfect positive\n",
    "    - 0 - No correlation\n",
    "    - -1 - Perfect negative\n",
    "\n",
    "- Example:\n",
    "    - Imagine you run a juice shop:\n",
    "        - Variable 1: Temperature\n",
    "        - Variable 2: Number of juices sold\n",
    "    - As the temperature increases, people buy more juice.\n",
    "    - That’s a positive correlation."
   ]
  },
  {
   "cell_type": "code",
   "execution_count": 154,
   "id": "697b12e7-e7b4-443b-90b3-cd88f2131f28",
   "metadata": {},
   "outputs": [
    {
     "name": "stdout",
     "output_type": "stream",
     "text": [
      "             study_hours  marks\n",
      "study_hours          1.0    1.0\n",
      "marks                1.0    1.0\n"
     ]
    }
   ],
   "source": [
    "import pandas as pd\n",
    "\n",
    "df = pd.DataFrame({\n",
    "    'study_hours': [1, 2, 3, 4, 5],\n",
    "    'marks': [50, 60, 70, 80, 90]\n",
    "})\n",
    "\n",
    "print(df.corr())\n"
   ]
  },
  {
   "cell_type": "markdown",
   "id": "481ef8b6-768e-4dd9-80a5-a311890bb1c1",
   "metadata": {},
   "source": [
    "**13. What does negative correlation mean?**"
   ]
  },
  {
   "cell_type": "markdown",
   "id": "3a77518b-6386-4b0b-ba4b-b2e592433580",
   "metadata": {},
   "source": [
    "- Negative correlation means that when one variable increases, the other decreases — they move in opposite directions.\n",
    "\n",
    "- Example:\n",
    "    - More exercise time → less body weight\n",
    "    - More TV watching → lower study scores\n",
    "\n",
    "- So:\n",
    "    - One goes up, the other goes down\n",
    " \n",
    "- Correlation Values:\n",
    "    - -1 - Perfect negative correlation\n",
    "    - -0.7 - Strong negative correlation\n",
    "    - 0\t- No correlation\n",
    "    - +1 - Perfect positive correlation\n",
    "\n",
    "- A negative correlation means two variables are connected in such a way that when one increases, the other decreases."
   ]
  },
  {
   "cell_type": "markdown",
   "id": "5b362532-3a2c-4bb2-9b09-4733816d3897",
   "metadata": {},
   "source": [
    "**14. How can you find correlation between variables in Python?**"
   ]
  },
  {
   "cell_type": "code",
   "execution_count": 159,
   "id": "9155797c-6334-4280-ac21-af29d4142b96",
   "metadata": {},
   "outputs": [],
   "source": [
    "import pandas as pd\n",
    "\n",
    "# Example data\n",
    "data = {\n",
    "    'study_hours': [1, 2, 3, 4, 5],\n",
    "    'marks': [50, 60, 70, 80, 90],\n",
    "    'sleep_hours': [8, 7, 6, 5, 4]\n",
    "}\n",
    "\n",
    "df = pd.DataFrame(data)"
   ]
  },
  {
   "cell_type": "code",
   "execution_count": 161,
   "id": "bde478be-50d1-4ba9-a5ac-1339898efb9b",
   "metadata": {},
   "outputs": [
    {
     "name": "stdout",
     "output_type": "stream",
     "text": [
      "             study_hours  marks  sleep_hours\n",
      "study_hours          1.0    1.0         -1.0\n",
      "marks                1.0    1.0         -1.0\n",
      "sleep_hours         -1.0   -1.0          1.0\n"
     ]
    }
   ],
   "source": [
    "correlation_matrix = df.corr()\n",
    "print(correlation_matrix)"
   ]
  },
  {
   "cell_type": "markdown",
   "id": "47811b2e-8a26-4688-910a-3673151e9756",
   "metadata": {},
   "source": [
    "- study_hours and marks: +1.0 → Strong positive correlation \n",
    "\n",
    "- sleep_hours and marks: –1.0 → Strong negative correlation \n",
    "\n",
    "- study_hours and sleep_hours: –1.0 → As one goes up, the other goes down"
   ]
  },
  {
   "cell_type": "code",
   "execution_count": 163,
   "id": "db7e4dda-0d8d-416e-a4c6-6287f1829350",
   "metadata": {},
   "outputs": [
    {
     "data": {
      "image/png": "[encoded data removed]",
      "text/plain": [
       "<Figure size 640x480 with 2 Axes>"
      ]
     },
     "metadata": {},
     "output_type": "display_data"
    }
   ],
   "source": [
    "import seaborn as sns\n",
    "import matplotlib.pyplot as plt\n",
    "\n",
    "sns.heatmap(df.corr(), annot=True, cmap='coolwarm')\n",
    "plt.title(\"Correlation Matrix\")\n",
    "plt.show()"
   ]
  },
  {
   "cell_type": "code",
   "execution_count": null,
   "id": "568bf6bb-75e7-4734-a0ce-1e25af27fb17",
   "metadata": {},
   "outputs": [],
   "source": []
  },
  {
   "cell_type": "markdown",
   "id": "69387132-4b39-4fd6-8bc7-ff0eddc10811",
   "metadata": {},
   "source": [
    "**15. What is causation? Explain difference between correlation and causation with an example.**"
   ]
  },
  {
   "cell_type": "markdown",
   "id": "d92ec723-70f0-4a09-ac8d-1fc3790dbbb2",
   "metadata": {},
   "source": [
    "- Causation refers to a relationship between two events where one event directly causes the other to happen. In simple terms, if A causes B, then changing A will change B.\n",
    "\n",
    "Correlation:\n",
    "\n",
    "- A relationship where two variables move together (positively or negatively).\n",
    "- It has No clear direction; variables just move together.\n",
    "- It Indicates association, not proof of cause.\n",
    "- Correlation is often misunderstood as causation.\n",
    "    - Example:\n",
    "        - Ice cream sales and drowning cases both increase in summer.\n",
    "        -  These two are correlated because both rise during hot weather, but one does not cause the other.\n",
    "- Correlation: A and B happen together, but A may not cause B.\n",
    "\n",
    "Causation:\n",
    "\n",
    "- In Causation One variable directly affects the other.\n",
    "- There’s a clear cause and effect in Causation.\n",
    "- It Implies a direct link or influence.\n",
    "- Causation is stronger and must be proved.\n",
    "    - Example:\n",
    "        - Smoking leads to lung cancer.\n",
    "        - There is strong evidence that smoking causes an increase in the risk of lung cancer.\n",
    "- Causation: A directly causes B."
   ]
  },
  {
   "cell_type": "markdown",
   "id": "48c6fa22-eca1-4d32-a9de-ae35b5ddc2d5",
   "metadata": {},
   "source": []
  },
  {
   "cell_type": "markdown",
   "id": "2e690f8d-9eaf-4057-ad8e-55e7484d1799",
   "metadata": {},
   "source": [
    "**16. What is an Optimizer? What are different types of optimizers? Explain each with an example.**"
   ]
  },
  {
   "cell_type": "markdown",
   "id": "b28d7fd8-4413-490e-9a73-d5c64d719700",
   "metadata": {},
   "source": [
    "- In machine learning and deep learning, an optimizer is an algorithm that adjusts the weights of a neural network to minimize the loss function (i.e., error) during training.\n",
    "\n",
    "- Its goal is to help the model learn better and faster by updating weights based on the gradients (from backpropagation).\n",
    "\n",
    "- They help the model reach the best possible performance by minimizing the difference between predicted and actual results (i.e., minimizing the loss).\n",
    "\n",
    "Types of Optimizers:\n",
    "\n",
    "1. Gradient Descent (GD)\n",
    "    - How it works: Calculates gradient of the loss with respect to each parameter and updates all weights in the direction that reduces the loss.\n",
    "    - Formula: θ = θ − η⋅∇J(θ)\n",
    "    - where:\n",
    "        - θ = weights\n",
    "        - η = learning rate\n",
    "        - J(θ) = loss function\n",
    "    - Example: Used when training simple linear regression or logistic regression models on small datasets.\n",
    "    - Limitation: Slow for large datasets; gets stuck in local minima.\n",
    "\n",
    "2. Stochastic Gradient Descent (SGD)\n",
    "\n",
    "    - How it works: Instead of using all data at once, it updates weights using one training example at a time.\n",
    "    - Pros: Faster updates, can escape local minima.\n",
    "    - Cons: Noisy, may not converge smoothly.\n",
    "    - Example: Training a binary classifier using a very large dataset.\n",
    "\n",
    "\n",
    "4. Mini-Batch Gradient Descent\n",
    "    - How it works: Compromise between GD and SGD. It updates weights using a small batch of data.\n",
    "    - Common in practice due to balance of speed and accuracy.\n",
    "    - Example: Used in CNNs and deep neural networks on datasets like MNIST or CIFAR-10.\n",
    "\n",
    "5. Momentum Optimizer\n",
    "    - How it works: Adds a moving average of past gradients to current update (like a ball rolling downhill).\n",
    "    - Example: Helps accelerate training in directions with consistent gradients and dampens oscillations.\n",
    "\n",
    "6. RMSProp (Root Mean Square Propagation)\n",
    "    - How it works: Adapts the learning rate for each parameter using a moving average of squared gradients.\n",
    "    - Good for non-stationary objectives (where data changes over time).\n",
    "    - Example: Recurrent Neural Networks (RNNs), which suffer from exploding or vanishing gradients.\n",
    "\n",
    "7. Adam (Adaptive Moment Estimation)\n",
    "    - Most widely used optimizer in deep learning.\n",
    "    - Combines ideas of Momentum and RMSProp.\n",
    "    - Maintains both:\n",
    "        - Moving average of the gradient (momentum)\n",
    "        - Moving average of the squared gradient (adaptive learning rate)\n",
    "    - Example: Training deep learning models (CNNs, RNNs, Transformers).\n",
    "\n",
    "8. Adagrad (Adaptive Gradient)\n",
    "    - How it works: Adapts learning rate to the parameters by scaling inversely with the square root of all past gradients.\n",
    "    - Good for sparse data (e.g., text data with one-hot vectors).\n",
    "    - Problem: Learning rate can become too small.\n",
    "    - Example: Natural Language Processing (NLP) tasks with sparse input."
   ]
  },
  {
   "cell_type": "markdown",
   "id": "265f4548-6bb4-443c-a8cc-64eafab7d757",
   "metadata": {},
   "source": [
    "**17. What is sklearn.linear_model ?**"
   ]
  },
  {
   "cell_type": "markdown",
   "id": "1e64d29a-d193-4adf-ace2-3ea1d5394f79",
   "metadata": {},
   "source": [
    "- sklearn.linear_model is a part of the Scikit-learn library in Python.\n",
    "\n",
    "- It helps us build models that can predict values or classify things based on a linear relationship.\n",
    "\n",
    "- A linear model means:\n",
    "    - \"If you draw the data on a graph, the relationship between input and output looks like a straight line.\"\n",
    "    - For example: If you study more hours, your marks will increase — this is a linear relationship.\n",
    "\n",
    "- Example: Predicting Student Marks\n",
    "    - Let’s say you have data of:\n",
    "        - Hours Studied → X\n",
    "        - Marks Scored → y\n",
    "        - You can use LinearRegression from sklearn.linear_model to predict future marks."
   ]
  },
  {
   "cell_type": "code",
   "execution_count": 10,
   "id": "41d017a6-b3b5-4a58-a9f6-47a17cf153ab",
   "metadata": {},
   "outputs": [
    {
     "name": "stdout",
     "output_type": "stream",
     "text": [
      "Predicted Marks for 5 hours: [57.5]\n"
     ]
    }
   ],
   "source": [
    "from sklearn.linear_model import LinearRegression\n",
    "\n",
    "# Example data\n",
    "hours_studied = [[2], [4], [6], [8]]\n",
    "marks_scored = [40, 50, 60, 80]\n",
    "\n",
    "# Create model\n",
    "model = LinearRegression()\n",
    "\n",
    "# Train the model\n",
    "model.fit(hours_studied, marks_scored)\n",
    "\n",
    "# Predict marks for 5 hours of study\n",
    "predicted_marks = model.predict([[5]])\n",
    "\n",
    "print(\"Predicted Marks for 5 hours:\", predicted_marks)"
   ]
  },
  {
   "cell_type": "markdown",
   "id": "41012969-2a4d-4bb3-81a6-1d3e727b16cc",
   "metadata": {},
   "source": [
    "This means if a student studies for 5 hours, the model predicts they’ll score 55 marks.\n"
   ]
  },
  {
   "cell_type": "markdown",
   "id": "55469da9-111e-44b1-adac-961a0596f05c",
   "metadata": {},
   "source": []
  },
  {
   "cell_type": "markdown",
   "id": "a2d9fb92-9f8c-48ef-8828-bbf216943494",
   "metadata": {},
   "source": [
    "**18. What does model.fit() do? What arguments must be given?**"
   ]
  },
  {
   "cell_type": "markdown",
   "id": "a7848a03-4c78-4d17-a9d4-5603c0674aee",
   "metadata": {},
   "source": [
    "- model.fit() is used to train our machine learning model.\n",
    "- We should think of it like:\n",
    "    - \"Fit the model = Teach the model with examples so it can learn how to make predictions.\"\n",
    "- Example: Student and Exam Practice\n",
    "    - Imagine you're teaching a student to predict marks based on hours of study:\n",
    "        - Hours Studied (X) = Input\n",
    "        - Marks Scored (y) = Correct Answers (Output)\n",
    "    - You give the student a notebook full of examples:\n",
    "    - \"Student studied 2 hours and scored 40 marks\",\n",
    "    - \"Student studied 4 hours and scored 50 marks\", etc.\n",
    "\n",
    "This is like calling:"
   ]
  },
  {
   "cell_type": "code",
   "execution_count": 17,
   "id": "7a5bfdd1-7a57-488e-ac1d-0f4bb8a20811",
   "metadata": {},
   "outputs": [],
   "source": [
    "model.fit(X, y)"
   ]
  },
  {
   "cell_type": "markdown",
   "id": "9aa035b7-7f49-4b9a-ae88-79abc38204ea",
   "metadata": {},
   "source": [
    "Now the model has learned the pattern between study hours and marks."
   ]
  },
  {
   "cell_type": "markdown",
   "id": "6f9d3eee-5cc0-4c73-b66f-903d3087acc9",
   "metadata": {},
   "source": [
    "- model.fit() always takes two arguments:\n",
    "- X\t- Input features (your data)\n",
    "- y\tTarget/output values (labels)"
   ]
  },
  {
   "cell_type": "code",
   "execution_count": 22,
   "id": "03f07893-1535-4f56-ab39-0947b07c8141",
   "metadata": {},
   "outputs": [
    {
     "data": {
      "text/html": [
       "<style>#sk-container-id-1 {\n",
       "  /* Definition of color scheme common for light and dark mode */\n",
       "  --sklearn-color-text: black;\n",
       "  --sklearn-color-line: gray;\n",
       "  /* Definition of color scheme for unfitted estimators */\n",
       "  --sklearn-color-unfitted-level-0: #fff5e6;\n",
       "  --sklearn-color-unfitted-level-1: #f6e4d2;\n",
       "  --sklearn-color-unfitted-level-2: #ffe0b3;\n",
       "  --sklearn-color-unfitted-level-3: chocolate;\n",
       "  /* Definition of color scheme for fitted estimators */\n",
       "  --sklearn-color-fitted-level-0: #f0f8ff;\n",
       "  --sklearn-color-fitted-level-1: #d4ebff;\n",
       "  --sklearn-color-fitted-level-2: #b3dbfd;\n",
       "  --sklearn-color-fitted-level-3: cornflowerblue;\n",
       "\n",
       "  /* Specific color for light theme */\n",
       "  --sklearn-color-text-on-default-background: var(--sg-text-color, var(--theme-code-foreground, var(--jp-content-font-color1, black)));\n",
       "  --sklearn-color-background: var(--sg-background-color, var(--theme-background, var(--jp-layout-color0, white)));\n",
       "  --sklearn-color-border-box: var(--sg-text-color, var(--theme-code-foreground, var(--jp-content-font-color1, black)));\n",
       "  --sklearn-color-icon: #696969;\n",
       "\n",
       "  @media (prefers-color-scheme: dark) {\n",
       "    /* Redefinition of color scheme for dark theme */\n",
       "    --sklearn-color-text-on-default-background: var(--sg-text-color, var(--theme-code-foreground, var(--jp-content-font-color1, white)));\n",
       "    --sklearn-color-background: var(--sg-background-color, var(--theme-background, var(--jp-layout-color0, #111)));\n",
       "    --sklearn-color-border-box: var(--sg-text-color, var(--theme-code-foreground, var(--jp-content-font-color1, white)));\n",
       "    --sklearn-color-icon: #878787;\n",
       "  }\n",
       "}\n",
       "\n",
       "#sk-container-id-1 {\n",
       "  color: var(--sklearn-color-text);\n",
       "}\n",
       "\n",
       "#sk-container-id-1 pre {\n",
       "  padding: 0;\n",
       "}\n",
       "\n",
       "#sk-container-id-1 input.sk-hidden--visually {\n",
       "  border: 0;\n",
       "  clip: rect(1px 1px 1px 1px);\n",
       "  clip: rect(1px, 1px, 1px, 1px);\n",
       "  height: 1px;\n",
       "  margin: -1px;\n",
       "  overflow: hidden;\n",
       "  padding: 0;\n",
       "  position: absolute;\n",
       "  width: 1px;\n",
       "}\n",
       "\n",
       "#sk-container-id-1 div.sk-dashed-wrapped {\n",
       "  border: 1px dashed var(--sklearn-color-line);\n",
       "  margin: 0 0.4em 0.5em 0.4em;\n",
       "  box-sizing: border-box;\n",
       "  padding-bottom: 0.4em;\n",
       "  background-color: var(--sklearn-color-background);\n",
       "}\n",
       "\n",
       "#sk-container-id-1 div.sk-container {\n",
       "  /* jupyter's `normalize.less` sets `[hidden] { display: none; }`\n",
       "     but bootstrap.min.css set `[hidden] { display: none !important; }`\n",
       "     so we also need the `!important` here to be able to override the\n",
       "     default hidden behavior on the sphinx rendered scikit-learn.org.\n",
       "     See: https://github.com/scikit-learn/scikit-learn/issues/21755 */\n",
       "  display: inline-block !important;\n",
       "  position: relative;\n",
       "}\n",
       "\n",
       "#sk-container-id-1 div.sk-text-repr-fallback {\n",
       "  display: none;\n",
       "}\n",
       "\n",
       "div.sk-parallel-item,\n",
       "div.sk-serial,\n",
       "div.sk-item {\n",
       "  /* draw centered vertical line to link estimators */\n",
       "  background-image: linear-gradient(var(--sklearn-color-text-on-default-background), var(--sklearn-color-text-on-default-background));\n",
       "  background-size: 2px 100%;\n",
       "  background-repeat: no-repeat;\n",
       "  background-position: center center;\n",
       "}\n",
       "\n",
       "/* Parallel-specific style estimator block */\n",
       "\n",
       "#sk-container-id-1 div.sk-parallel-item::after {\n",
       "  content: \"\";\n",
       "  width: 100%;\n",
       "  border-bottom: 2px solid var(--sklearn-color-text-on-default-background);\n",
       "  flex-grow: 1;\n",
       "}\n",
       "\n",
       "#sk-container-id-1 div.sk-parallel {\n",
       "  display: flex;\n",
       "  align-items: stretch;\n",
       "  justify-content: center;\n",
       "  background-color: var(--sklearn-color-background);\n",
       "  position: relative;\n",
       "}\n",
       "\n",
       "#sk-container-id-1 div.sk-parallel-item {\n",
       "  display: flex;\n",
       "  flex-direction: column;\n",
       "}\n",
       "\n",
       "#sk-container-id-1 div.sk-parallel-item:first-child::after {\n",
       "  align-self: flex-end;\n",
       "  width: 50%;\n",
       "}\n",
       "\n",
       "#sk-container-id-1 div.sk-parallel-item:last-child::after {\n",
       "  align-self: flex-start;\n",
       "  width: 50%;\n",
       "}\n",
       "\n",
       "#sk-container-id-1 div.sk-parallel-item:only-child::after {\n",
       "  width: 0;\n",
       "}\n",
       "\n",
       "/* Serial-specific style estimator block */\n",
       "\n",
       "#sk-container-id-1 div.sk-serial {\n",
       "  display: flex;\n",
       "  flex-direction: column;\n",
       "  align-items: center;\n",
       "  background-color: var(--sklearn-color-background);\n",
       "  padding-right: 1em;\n",
       "  padding-left: 1em;\n",
       "}\n",
       "\n",
       "\n",
       "/* Toggleable style: style used for estimator/Pipeline/ColumnTransformer box that is\n",
       "clickable and can be expanded/collapsed.\n",
       "- Pipeline and ColumnTransformer use this feature and define the default style\n",
       "- Estimators will overwrite some part of the style using the `sk-estimator` class\n",
       "*/\n",
       "\n",
       "/* Pipeline and ColumnTransformer style (default) */\n",
       "\n",
       "#sk-container-id-1 div.sk-toggleable {\n",
       "  /* Default theme specific background. It is overwritten whether we have a\n",
       "  specific estimator or a Pipeline/ColumnTransformer */\n",
       "  background-color: var(--sklearn-color-background);\n",
       "}\n",
       "\n",
       "/* Toggleable label */\n",
       "#sk-container-id-1 label.sk-toggleable__label {\n",
       "  cursor: pointer;\n",
       "  display: block;\n",
       "  width: 100%;\n",
       "  margin-bottom: 0;\n",
       "  padding: 0.5em;\n",
       "  box-sizing: border-box;\n",
       "  text-align: center;\n",
       "}\n",
       "\n",
       "#sk-container-id-1 label.sk-toggleable__label-arrow:before {\n",
       "  /* Arrow on the left of the label */\n",
       "  content: \"▸\";\n",
       "  float: left;\n",
       "  margin-right: 0.25em;\n",
       "  color: var(--sklearn-color-icon);\n",
       "}\n",
       "\n",
       "#sk-container-id-1 label.sk-toggleable__label-arrow:hover:before {\n",
       "  color: var(--sklearn-color-text);\n",
       "}\n",
       "\n",
       "/* Toggleable content - dropdown */\n",
       "\n",
       "#sk-container-id-1 div.sk-toggleable__content {\n",
       "  max-height: 0;\n",
       "  max-width: 0;\n",
       "  overflow: hidden;\n",
       "  text-align: left;\n",
       "  /* unfitted */\n",
       "  background-color: var(--sklearn-color-unfitted-level-0);\n",
       "}\n",
       "\n",
       "#sk-container-id-1 div.sk-toggleable__content.fitted {\n",
       "  /* fitted */\n",
       "  background-color: var(--sklearn-color-fitted-level-0);\n",
       "}\n",
       "\n",
       "#sk-container-id-1 div.sk-toggleable__content pre {\n",
       "  margin: 0.2em;\n",
       "  border-radius: 0.25em;\n",
       "  color: var(--sklearn-color-text);\n",
       "  /* unfitted */\n",
       "  background-color: var(--sklearn-color-unfitted-level-0);\n",
       "}\n",
       "\n",
       "#sk-container-id-1 div.sk-toggleable__content.fitted pre {\n",
       "  /* unfitted */\n",
       "  background-color: var(--sklearn-color-fitted-level-0);\n",
       "}\n",
       "\n",
       "#sk-container-id-1 input.sk-toggleable__control:checked~div.sk-toggleable__content {\n",
       "  /* Expand drop-down */\n",
       "  max-height: 200px;\n",
       "  max-width: 100%;\n",
       "  overflow: auto;\n",
       "}\n",
       "\n",
       "#sk-container-id-1 input.sk-toggleable__control:checked~label.sk-toggleable__label-arrow:before {\n",
       "  content: \"▾\";\n",
       "}\n",
       "\n",
       "/* Pipeline/ColumnTransformer-specific style */\n",
       "\n",
       "#sk-container-id-1 div.sk-label input.sk-toggleable__control:checked~label.sk-toggleable__label {\n",
       "  color: var(--sklearn-color-text);\n",
       "  background-color: var(--sklearn-color-unfitted-level-2);\n",
       "}\n",
       "\n",
       "#sk-container-id-1 div.sk-label.fitted input.sk-toggleable__control:checked~label.sk-toggleable__label {\n",
       "  background-color: var(--sklearn-color-fitted-level-2);\n",
       "}\n",
       "\n",
       "/* Estimator-specific style */\n",
       "\n",
       "/* Colorize estimator box */\n",
       "#sk-container-id-1 div.sk-estimator input.sk-toggleable__control:checked~label.sk-toggleable__label {\n",
       "  /* unfitted */\n",
       "  background-color: var(--sklearn-color-unfitted-level-2);\n",
       "}\n",
       "\n",
       "#sk-container-id-1 div.sk-estimator.fitted input.sk-toggleable__control:checked~label.sk-toggleable__label {\n",
       "  /* fitted */\n",
       "  background-color: var(--sklearn-color-fitted-level-2);\n",
       "}\n",
       "\n",
       "#sk-container-id-1 div.sk-label label.sk-toggleable__label,\n",
       "#sk-container-id-1 div.sk-label label {\n",
       "  /* The background is the default theme color */\n",
       "  color: var(--sklearn-color-text-on-default-background);\n",
       "}\n",
       "\n",
       "/* On hover, darken the color of the background */\n",
       "#sk-container-id-1 div.sk-label:hover label.sk-toggleable__label {\n",
       "  color: var(--sklearn-color-text);\n",
       "  background-color: var(--sklearn-color-unfitted-level-2);\n",
       "}\n",
       "\n",
       "/* Label box, darken color on hover, fitted */\n",
       "#sk-container-id-1 div.sk-label.fitted:hover label.sk-toggleable__label.fitted {\n",
       "  color: var(--sklearn-color-text);\n",
       "  background-color: var(--sklearn-color-fitted-level-2);\n",
       "}\n",
       "\n",
       "/* Estimator label */\n",
       "\n",
       "#sk-container-id-1 div.sk-label label {\n",
       "  font-family: monospace;\n",
       "  font-weight: bold;\n",
       "  display: inline-block;\n",
       "  line-height: 1.2em;\n",
       "}\n",
       "\n",
       "#sk-container-id-1 div.sk-label-container {\n",
       "  text-align: center;\n",
       "}\n",
       "\n",
       "/* Estimator-specific */\n",
       "#sk-container-id-1 div.sk-estimator {\n",
       "  font-family: monospace;\n",
       "  border: 1px dotted var(--sklearn-color-border-box);\n",
       "  border-radius: 0.25em;\n",
       "  box-sizing: border-box;\n",
       "  margin-bottom: 0.5em;\n",
       "  /* unfitted */\n",
       "  background-color: var(--sklearn-color-unfitted-level-0);\n",
       "}\n",
       "\n",
       "#sk-container-id-1 div.sk-estimator.fitted {\n",
       "  /* fitted */\n",
       "  background-color: var(--sklearn-color-fitted-level-0);\n",
       "}\n",
       "\n",
       "/* on hover */\n",
       "#sk-container-id-1 div.sk-estimator:hover {\n",
       "  /* unfitted */\n",
       "  background-color: var(--sklearn-color-unfitted-level-2);\n",
       "}\n",
       "\n",
       "#sk-container-id-1 div.sk-estimator.fitted:hover {\n",
       "  /* fitted */\n",
       "  background-color: var(--sklearn-color-fitted-level-2);\n",
       "}\n",
       "\n",
       "/* Specification for estimator info (e.g. \"i\" and \"?\") */\n",
       "\n",
       "/* Common style for \"i\" and \"?\" */\n",
       "\n",
       ".sk-estimator-doc-link,\n",
       "a:link.sk-estimator-doc-link,\n",
       "a:visited.sk-estimator-doc-link {\n",
       "  float: right;\n",
       "  font-size: smaller;\n",
       "  line-height: 1em;\n",
       "  font-family: monospace;\n",
       "  background-color: var(--sklearn-color-background);\n",
       "  border-radius: 1em;\n",
       "  height: 1em;\n",
       "  width: 1em;\n",
       "  text-decoration: none !important;\n",
       "  margin-left: 1ex;\n",
       "  /* unfitted */\n",
       "  border: var(--sklearn-color-unfitted-level-1) 1pt solid;\n",
       "  color: var(--sklearn-color-unfitted-level-1);\n",
       "}\n",
       "\n",
       ".sk-estimator-doc-link.fitted,\n",
       "a:link.sk-estimator-doc-link.fitted,\n",
       "a:visited.sk-estimator-doc-link.fitted {\n",
       "  /* fitted */\n",
       "  border: var(--sklearn-color-fitted-level-1) 1pt solid;\n",
       "  color: var(--sklearn-color-fitted-level-1);\n",
       "}\n",
       "\n",
       "/* On hover */\n",
       "div.sk-estimator:hover .sk-estimator-doc-link:hover,\n",
       ".sk-estimator-doc-link:hover,\n",
       "div.sk-label-container:hover .sk-estimator-doc-link:hover,\n",
       ".sk-estimator-doc-link:hover {\n",
       "  /* unfitted */\n",
       "  background-color: var(--sklearn-color-unfitted-level-3);\n",
       "  color: var(--sklearn-color-background);\n",
       "  text-decoration: none;\n",
       "}\n",
       "\n",
       "div.sk-estimator.fitted:hover .sk-estimator-doc-link.fitted:hover,\n",
       ".sk-estimator-doc-link.fitted:hover,\n",
       "div.sk-label-container:hover .sk-estimator-doc-link.fitted:hover,\n",
       ".sk-estimator-doc-link.fitted:hover {\n",
       "  /* fitted */\n",
       "  background-color: var(--sklearn-color-fitted-level-3);\n",
       "  color: var(--sklearn-color-background);\n",
       "  text-decoration: none;\n",
       "}\n",
       "\n",
       "/* Span, style for the box shown on hovering the info icon */\n",
       ".sk-estimator-doc-link span {\n",
       "  display: none;\n",
       "  z-index: 9999;\n",
       "  position: relative;\n",
       "  font-weight: normal;\n",
       "  right: .2ex;\n",
       "  padding: .5ex;\n",
       "  margin: .5ex;\n",
       "  width: min-content;\n",
       "  min-width: 20ex;\n",
       "  max-width: 50ex;\n",
       "  color: var(--sklearn-color-text);\n",
       "  box-shadow: 2pt 2pt 4pt #999;\n",
       "  /* unfitted */\n",
       "  background: var(--sklearn-color-unfitted-level-0);\n",
       "  border: .5pt solid var(--sklearn-color-unfitted-level-3);\n",
       "}\n",
       "\n",
       ".sk-estimator-doc-link.fitted span {\n",
       "  /* fitted */\n",
       "  background: var(--sklearn-color-fitted-level-0);\n",
       "  border: var(--sklearn-color-fitted-level-3);\n",
       "}\n",
       "\n",
       ".sk-estimator-doc-link:hover span {\n",
       "  display: block;\n",
       "}\n",
       "\n",
       "/* \"?\"-specific style due to the `<a>` HTML tag */\n",
       "\n",
       "#sk-container-id-1 a.estimator_doc_link {\n",
       "  float: right;\n",
       "  font-size: 1rem;\n",
       "  line-height: 1em;\n",
       "  font-family: monospace;\n",
       "  background-color: var(--sklearn-color-background);\n",
       "  border-radius: 1rem;\n",
       "  height: 1rem;\n",
       "  width: 1rem;\n",
       "  text-decoration: none;\n",
       "  /* unfitted */\n",
       "  color: var(--sklearn-color-unfitted-level-1);\n",
       "  border: var(--sklearn-color-unfitted-level-1) 1pt solid;\n",
       "}\n",
       "\n",
       "#sk-container-id-1 a.estimator_doc_link.fitted {\n",
       "  /* fitted */\n",
       "  border: var(--sklearn-color-fitted-level-1) 1pt solid;\n",
       "  color: var(--sklearn-color-fitted-level-1);\n",
       "}\n",
       "\n",
       "/* On hover */\n",
       "#sk-container-id-1 a.estimator_doc_link:hover {\n",
       "  /* unfitted */\n",
       "  background-color: var(--sklearn-color-unfitted-level-3);\n",
       "  color: var(--sklearn-color-background);\n",
       "  text-decoration: none;\n",
       "}\n",
       "\n",
       "#sk-container-id-1 a.estimator_doc_link.fitted:hover {\n",
       "  /* fitted */\n",
       "  background-color: var(--sklearn-color-fitted-level-3);\n",
       "}\n",
       "</style><div id=\"sk-container-id-1\" class=\"sk-top-container\"><div class=\"sk-text-repr-fallback\"><pre>LinearRegression()</pre><b>In a Jupyter environment, please rerun this cell to show the HTML representation or trust the notebook. <br />On GitHub, the HTML representation is unable to render, please try loading this page with nbviewer.org.</b></div><div class=\"sk-container\" hidden><div class=\"sk-item\"><div class=\"sk-estimator fitted sk-toggleable\"><input class=\"sk-toggleable__control sk-hidden--visually\" id=\"sk-estimator-id-1\" type=\"checkbox\" checked><label for=\"sk-estimator-id-1\" class=\"sk-toggleable__label fitted sk-toggleable__label-arrow fitted\">&nbsp;&nbsp;LinearRegression<a class=\"sk-estimator-doc-link fitted\" rel=\"noreferrer\" target=\"_blank\" href=\"https://scikit-learn.org/1.5/modules/generated/sklearn.linear_model.LinearRegression.html\">?<span>Documentation for LinearRegression</span></a><span class=\"sk-estimator-doc-link fitted\">i<span>Fitted</span></span></label><div class=\"sk-toggleable__content fitted\"><pre>LinearRegression()</pre></div> </div></div></div></div>"
      ],
      "text/plain": [
       "LinearRegression()"
      ]
     },
     "execution_count": 22,
     "metadata": {},
     "output_type": "execute_result"
    }
   ],
   "source": [
    "from sklearn.linear_model import LinearRegression\n",
    "\n",
    "# Example data\n",
    "X = [[2], [4], [6], [8]]   # Hours studied\n",
    "y = [40, 50, 60, 80]       # Marks scored\n",
    "\n",
    "# Create the model\n",
    "model = LinearRegression()\n",
    "\n",
    "# Train the model using fit()\n",
    "model.fit(X, y)"
   ]
  },
  {
   "cell_type": "markdown",
   "id": "3619a19d-2f03-4a4c-9af5-a6f1524b3073",
   "metadata": {},
   "source": [
    " Now the model has \"learned\" the relationship between study time and marks."
   ]
  },
  {
   "cell_type": "markdown",
   "id": "6726c846-ae8f-4b4a-bf25-c2890f688864",
   "metadata": {},
   "source": [
    "**19. What does model.predict() do? What arguments must be given?** "
   ]
  },
  {
   "cell_type": "markdown",
   "id": "47dab3b0-7035-40b1-a721-773b56e9c9a0",
   "metadata": {},
   "source": [
    "- model.predict() is used to make predictions using a model that you've already trained with fit().\n",
    "\n",
    "- Think of it like:\n",
    "    - “Now that the model has learned from examples, let’s ask it to make a guess!”\n",
    " \n",
    "- Example: Student Making Predictions\n",
    "    - Imagine you already taught a student (your model) that:\n",
    "        - Studying 2 hours → 40 marks\n",
    "        - Studying 4 hours → 50 marks\n",
    "        - Studying 6 hours → 60 marks\n",
    " \n",
    "- Now we ask: If someone studies for 5 hours, how many marks will they get?\n",
    "- This is exactly what model.predict() does:"
   ]
  },
  {
   "cell_type": "code",
   "execution_count": null,
   "id": "89ec7406-e25f-454d-832d-3eaccbfe411a",
   "metadata": {},
   "outputs": [],
   "source": [
    "model.predict([[5]])"
   ]
  },
  {
   "cell_type": "markdown",
   "id": "c457d6bb-9b10-4d4d-a0a9-90789928afe3",
   "metadata": {},
   "source": [
    "What Argument Must Be Given?\n",
    "- We must give new input data (in the same format as the training input X) to predict():"
   ]
  },
  {
   "cell_type": "code",
   "execution_count": 34,
   "id": "5c7137bd-0fe7-4a71-8fbc-0f4fcb8db323",
   "metadata": {},
   "outputs": [],
   "source": [
    "model.predict(X_new)\n",
    "#Where X_new is a list or array of values you want predictions for."
   ]
  },
  {
   "cell_type": "code",
   "execution_count": 36,
   "id": "1a34d859-fdfd-44c8-9c9f-74720ea4de38",
   "metadata": {},
   "outputs": [
    {
     "name": "stdout",
     "output_type": "stream",
     "text": [
      "Predicted Marks: [57.5]\n"
     ]
    }
   ],
   "source": [
    "from sklearn.linear_model import LinearRegression\n",
    "\n",
    "# Training data\n",
    "X = [[2], [4], [6], [8]]     # Hours studied\n",
    "y = [40, 50, 60, 80]         # Marks scored\n",
    "\n",
    "# Train the model\n",
    "model = LinearRegression()\n",
    "model.fit(X, y)\n",
    "\n",
    "# Now predict marks for 5 hours of study\n",
    "predicted_marks = model.predict([[5]])\n",
    "\n",
    "print(\"Predicted Marks:\", predicted_marks)"
   ]
  },
  {
   "cell_type": "markdown",
   "id": "9ce340f9-f7e1-4bbc-8c56-c0db4c73f1a0",
   "metadata": {},
   "source": [
    "**20. What are continuous and categorical variables?**"
   ]
  },
  {
   "cell_type": "markdown",
   "id": "1ae1cb7a-73f7-4eb9-8831-027cfeab9933",
   "metadata": {},
   "source": [
    "Continuous Variables\n",
    "- A continuous variable can take any numeric value within a range.\n",
    "It can be measured and has infinite possibilities.\n",
    "- Example:\n",
    "    - Height of a person (e.g., 165.5 cm, 170.2 cm)\n",
    "    - Weight (e.g., 60 kg, 72.4 kg)\n",
    "    - Temperature (e.g., 37.0°C, 36.6°C)\n",
    "    - Marks (e.g., 89.5 out of 100)\n",
    "- Continuous = Numbers that can go up/down smoothly (decimals possible)\n",
    "\n",
    "Categorical Variables\n",
    "- A categorical variable represents categories or labels.\n",
    "- It tells us what group or type something belongs to.\n",
    "-  Example:\n",
    "    - Gender → Male, Female, Other\n",
    "    - City → Delhi, Mumbai, Kolkata\n",
    "    - College Type → Government, Private, Deemed\n",
    "    - Result → Pass or Fail\n",
    "-  Categorical = Names or groups, not numbers\n",
    "-  (Some may be numbers like 0/1, but they still represent categories, not actual quantities.)"
   ]
  },
  {
   "cell_type": "markdown",
   "id": "ef669306-87f6-40d2-bc05-b3ab5715997c",
   "metadata": {},
   "source": [
    "**21. What is feature scaling? How does it help in Machine Learning?**"
   ]
  },
  {
   "cell_type": "markdown",
   "id": "09312d4b-bd54-4d5f-a33a-fb1da7316a28",
   "metadata": {},
   "source": [
    "- Feature scaling is a method used in machine learning to standardize or normalize the range of input features (data columns) so they are on a similar scale.\n",
    "\n",
    "- Why is it needed?\n",
    "    - In real-world datasets, features can have very different ranges.\n",
    "    - For example:\n",
    "        - Height (cm) - 160 – 190\n",
    "        - Salary (₹) - 10,000 – 1,00,000\n",
    "        - Age (years) - 18 – 60\n",
    "- These different ranges can confuse many machine learning algorithms (like gradient descent, KNN, SVM), because features with larger values dominate the learning process.\n",
    "\n",
    "- Example:\n",
    "    - Imagine you are comparing students based on:\n",
    "        - Marks (out of 100)\n",
    "        - Study Time (in hours, like 1 to 10)\n",
    "        - Family Income (in ₹, like 10,000 to 1,00,000)\n",
    "\n",
    "- If you don’t scale these features, the model may focus too much on income and ignore marks and study time — just because the income values are much larger."
   ]
  },
  {
   "cell_type": "code",
   "execution_count": 42,
   "id": "30c4cf24-802f-486d-a5c8-0a8c29c0700b",
   "metadata": {},
   "outputs": [
    {
     "name": "stdout",
     "output_type": "stream",
     "text": [
      "[[0.        ]\n",
      " [0.66666667]\n",
      " [1.        ]]\n"
     ]
    }
   ],
   "source": [
    "from sklearn.preprocessing import MinMaxScaler\n",
    "\n",
    "data = [[160], [180], [190]]  # Heights\n",
    "\n",
    "scaler = MinMaxScaler()\n",
    "scaled_data = scaler.fit_transform(data)\n",
    "\n",
    "print(scaled_data)"
   ]
  },
  {
   "cell_type": "markdown",
   "id": "51b61ea5-2750-4e4f-84ce-c24eb4322dbd",
   "metadata": {},
   "source": [
    "- Now, the values are between 0 and 1 — much easier for the model to process!\n",
    "\n",
    "- Feature scaling = Making sure all data columns are on the same playing field, so no one variable dominates learning."
   ]
  },
  {
   "cell_type": "markdown",
   "id": "1307045a-1505-4ab4-8625-778cb9b74135",
   "metadata": {},
   "source": [
    "**22. How do we perform scaling in Python?**"
   ]
  },
  {
   "cell_type": "markdown",
   "id": "d24910dd-c920-4e1e-9c6d-47383e104c54",
   "metadata": {},
   "source": [
    "1. Using Min-Max Scaling (Normalization)\n",
    "    - This scales values between 0 and 1.\n",
    "    -  Example:"
   ]
  },
  {
   "cell_type": "code",
   "execution_count": 48,
   "id": "eedef222-0cb9-47ae-afad-59d1de9249d0",
   "metadata": {},
   "outputs": [
    {
     "name": "stdout",
     "output_type": "stream",
     "text": [
      "[[0.        ]\n",
      " [0.66666667]\n",
      " [1.        ]]\n"
     ]
    }
   ],
   "source": [
    "from sklearn.preprocessing import MinMaxScaler\n",
    "\n",
    "# Sample data (e.g., height, weight)\n",
    "data = [[160], [180], [190]]\n",
    "\n",
    "# Create scaler object\n",
    "scaler = MinMaxScaler()\n",
    "\n",
    "# Fit and transform the data\n",
    "scaled_data = scaler.fit_transform(data)\n",
    "\n",
    "print(scaled_data)"
   ]
  },
  {
   "cell_type": "markdown",
   "id": "388700ad-ae6e-4d10-afa6-91e3c2fdba46",
   "metadata": {},
   "source": [
    "2. Using StandardScaler (Standardization)\n",
    "    -  This scales data so that it has:\n",
    "    -  Mean = 0\n",
    "    - Standard deviation = 1\n",
    "    - Example:"
   ]
  },
  {
   "cell_type": "code",
   "execution_count": 52,
   "id": "86fd927c-dac7-4eed-a61b-82d25b4cc50d",
   "metadata": {},
   "outputs": [
    {
     "name": "stdout",
     "output_type": "stream",
     "text": [
      "[[-1.33630621]\n",
      " [ 0.26726124]\n",
      " [ 1.06904497]]\n"
     ]
    }
   ],
   "source": [
    "from sklearn.preprocessing import StandardScaler\n",
    "\n",
    "# Sample data\n",
    "data = [[160], [180], [190]]\n",
    "\n",
    "# Create scaler object\n",
    "scaler = StandardScaler()\n",
    "\n",
    "# Fit and transform\n",
    "scaled_data = scaler.fit_transform(data)\n",
    "\n",
    "print(scaled_data)"
   ]
  },
  {
   "cell_type": "markdown",
   "id": "449ff068-ebd0-4abc-b299-b08a91834ab5",
   "metadata": {},
   "source": [
    "**23. What is sklearn.preprocessing?**"
   ]
  },
  {
   "cell_type": "markdown",
   "id": "86f0806a-3b1f-41b0-ab11-2135b83c1083",
   "metadata": {},
   "source": [
    "- sklearn.preprocessing is a module in the Scikit-learn (sklearn) library.\n",
    "- It contains tools to prepare your data before feeding it into a machine learning model.\n",
    "\n",
    "- In simple terms:\n",
    "    - sklearn.preprocessing helps you clean, scale, and convert your data so that machine learning models can understand and perform better.\n",
    " \n",
    "- Why is Preprocessing Important?\n",
    "    - ML models don’t work well if:\n",
    "        - Features have different scales (e.g., age vs. income)\n",
    "        - There are categorical variables (like \"Male\" or \"City\")\n",
    "        - The data isn’t normalized or encoded\n",
    "- So, we use sklearn.preprocessing to fix these problems.\n",
    "\n",
    "- Example:\n",
    "    - Imagine you have a dataset of students with:\n",
    "        - Age (18–22)\n",
    "        - Marks (out of 100)\n",
    "        - Gender (\"Male\", \"Female\")\n",
    "Before training a model, you would use:"
   ]
  },
  {
   "cell_type": "code",
   "execution_count": 57,
   "id": "ddc9ed9b-036c-429e-8236-7e34d3b71802",
   "metadata": {},
   "outputs": [],
   "source": [
    "from sklearn.preprocessing import StandardScaler, LabelEncoder\n",
    "\n",
    "# Example data\n",
    "ages = [[18], [20], [22]]\n",
    "marks = [[60], [80], [90]]\n",
    "genders = [\"Male\", \"Female\", \"Male\"]\n",
    "\n",
    "# Scale ages and marks\n",
    "scaler = StandardScaler()\n",
    "scaled_ages = scaler.fit_transform(ages)\n",
    "scaled_marks = scaler.fit_transform(marks)\n",
    "\n",
    "# Encode genders\n",
    "encoder = LabelEncoder()\n",
    "encoded_genders = encoder.fit_transform(genders)"
   ]
  },
  {
   "cell_type": "markdown",
   "id": "ae4e6ea8-a27f-49b9-bfd7-9b1f3d8ac1ac",
   "metadata": {},
   "source": [
    "- Now all features are numerical and scaled, ready for model training.\n",
    "\n",
    "- sklearn.preprocessing = A toolbox to prepare your raw data so the model can learn better and faster."
   ]
  },
  {
   "cell_type": "markdown",
   "id": "c2ce29b1-6b69-4165-8134-a21ced8fd53b",
   "metadata": {},
   "source": [
    "**24. How do we split data for model fitting (training and testing) in Python?**"
   ]
  },
  {
   "cell_type": "markdown",
   "id": "a7a7f10f-83bc-4086-a1b6-6127b6cc2f8f",
   "metadata": {},
   "source": [
    "- Example: Student Exam Practice\n",
    "    - Imagine you're training a student for an exam using 100 questions.\n",
    "        - If you give all 100 questions for practice, and then ask the same 100 in the test, the student might get high marks — but you don’t know if they’ve really learned or just memorized.\n",
    "        - So instead, you do this:\n",
    "            - Use 80 questions for training (practice)\n",
    "            - Use the remaining 20 questions to test if the student really learned\n",
    "    - This is exactly what we do in machine learning:\n",
    "\n",
    "- Why We Split Data?\n",
    "    - To make sure our model is:\n",
    "        - Learning patterns (from training data)\n",
    "        - And being tested fairly (on unseen test data) "
   ]
  },
  {
   "cell_type": "code",
   "execution_count": 65,
   "id": "bfa8884b-ccad-46e9-95e7-caa3074f184f",
   "metadata": {},
   "outputs": [
    {
     "name": "stdout",
     "output_type": "stream",
     "text": [
      "Training X: [[10], [6], [2], [8]]\n",
      "Testing X: [[4]]\n",
      "Training y: [80, 60, 40, 70]\n",
      "Testing y: [50]\n"
     ]
    }
   ],
   "source": [
    "from sklearn.model_selection import train_test_split\n",
    "\n",
    "# Sample data\n",
    "X = [[2], [4], [6], [8], [10]]     # Input features (e.g., hours studied)\n",
    "y = [40, 50, 60, 70, 80]           # Target values (e.g., marks)\n",
    "\n",
    "# Split the data (80% training, 20% testing)\n",
    "X_train, X_test, y_train, y_test = train_test_split(X, y, test_size=0.2, random_state=42)\n",
    "\n",
    "# Output the results\n",
    "print(\"Training X:\", X_train)\n",
    "print(\"Testing X:\", X_test)\n",
    "print(\"Training y:\", y_train)\n",
    "print(\"Testing y:\", y_test)"
   ]
  },
  {
   "cell_type": "markdown",
   "id": "02a17b4c-dab4-4afd-bef6-03fc461428f2",
   "metadata": {},
   "source": [
    "- Now you can:\n",
    "    - Train your model using X_train and y_train\n",
    "    - Test it using X_test and y_test"
   ]
  },
  {
   "cell_type": "markdown",
   "id": "24b74c82-e6c8-4c9d-a882-10b5d40e5dad",
   "metadata": {},
   "source": [
    "**25. Explain data encoding?**"
   ]
  },
  {
   "cell_type": "markdown",
   "id": "df2204d9-7207-47bc-802b-7221c32804f1",
   "metadata": {},
   "source": [
    "- Data encoding means converting non-numerical (categorical) data into numbers so that machine learning models can understand and use it.\n",
    "\n",
    "- Machine learning models only understand numbers — so we need to convert text or labels like \"Male\", \"Female\", \"Yes\", \"No\", \"Delhi\", \"Mumbai\" into numbers.\n",
    "\n",
    "- Example:\n",
    "    - Imagine you have this student data:"
   ]
  },
  {
   "cell_type": "code",
   "execution_count": 110,
   "id": "5acfd49a-0e95-4e93-bf03-df70f4d407ac",
   "metadata": {},
   "outputs": [
    {
     "data": {
      "text/html": [
       "<div>\n",
       "<style scoped>\n",
       "    .dataframe tbody tr th:only-of-type {\n",
       "        vertical-align: middle;\n",
       "    }\n",
       "\n",
       "    .dataframe tbody tr th {\n",
       "        vertical-align: top;\n",
       "    }\n",
       "\n",
       "    .dataframe thead th {\n",
       "        text-align: right;\n",
       "    }\n",
       "</style>\n",
       "<table border=\"1\" class=\"dataframe\">\n",
       "  <thead>\n",
       "    <tr style=\"text-align: right;\">\n",
       "      <th></th>\n",
       "      <th>Gender</th>\n",
       "      <th>City</th>\n",
       "      <th>Marks</th>\n",
       "    </tr>\n",
       "  </thead>\n",
       "  <tbody>\n",
       "    <tr>\n",
       "      <th>0</th>\n",
       "      <td>Male</td>\n",
       "      <td>Delhi</td>\n",
       "      <td>85</td>\n",
       "    </tr>\n",
       "    <tr>\n",
       "      <th>1</th>\n",
       "      <td>Female</td>\n",
       "      <td>Mumbai</td>\n",
       "      <td>92</td>\n",
       "    </tr>\n",
       "    <tr>\n",
       "      <th>2</th>\n",
       "      <td>Male</td>\n",
       "      <td>Delhi</td>\n",
       "      <td>78</td>\n",
       "    </tr>\n",
       "  </tbody>\n",
       "</table>\n",
       "</div>"
      ],
      "text/plain": [
       "   Gender    City  Marks\n",
       "0    Male   Delhi     85\n",
       "1  Female  Mumbai     92\n",
       "2    Male   Delhi     78"
      ]
     },
     "execution_count": 110,
     "metadata": {},
     "output_type": "execute_result"
    }
   ],
   "source": [
    "df_student_data"
   ]
  },
  {
   "cell_type": "markdown",
   "id": "dacd1fd3-435f-47c1-9292-28220bcf688a",
   "metadata": {},
   "source": [
    "- Machine learning cannot process the \"Gender\" and \"City\" columns because they are text.\n",
    "\n",
    "- We use encoding to convert:\n",
    "    - \"Male\", \"Female\" → 0, 1\n",
    "    - \"Delhi\", \"Mumbai\" → 0, 1\n",
    "    - Now the data becomes:"
   ]
  },
  {
   "cell_type": "code",
   "execution_count": 113,
   "id": "755881b3-7971-48b1-b46a-4f96bf38b793",
   "metadata": {},
   "outputs": [
    {
     "name": "stdout",
     "output_type": "stream",
     "text": [
      "   Gender    City  Marks  Gender_encoded  City_encoded\n",
      "0    Male   Delhi     85               1             0\n",
      "1  Female  Mumbai     92               0             1\n",
      "2    Male   Delhi     78               1             0\n"
     ]
    }
   ],
   "source": [
    "import pandas as pd\n",
    "from sklearn.preprocessing import LabelEncoder\n",
    "\n",
    "# Original data\n",
    "data = {\n",
    "    'Gender': ['Male', 'Female', 'Male'],\n",
    "    'City': ['Delhi', 'Mumbai', 'Delhi'],\n",
    "    'Marks': [85, 92, 78]\n",
    "}\n",
    "\n",
    "df = pd.DataFrame(data)\n",
    "\n",
    "# 🔹 Label Encoding\n",
    "le_gender = LabelEncoder()\n",
    "df['Gender_encoded'] = le_gender.fit_transform(df['Gender'])\n",
    "\n",
    "le_city = LabelEncoder()\n",
    "df['City_encoded'] = le_city.fit_transform(df['City'])\n",
    "\n",
    "print(df)"
   ]
  },
  {
   "cell_type": "code",
   "execution_count": null,
   "id": "4a838bc8-0a10-4122-8e4f-d56b4310b22d",
   "metadata": {},
   "outputs": [],
   "source": []
  }
 ],
 "metadata": {
  "kernelspec": {
   "display_name": "Python 3 (ipykernel)",
   "language": "python",
   "name": "python3"
  },
  "language_info": {
   "codemirror_mode": {
    "name": "ipython",
    "version": 3
   },
   "file_extension": ".py",
   "mimetype": "text/x-python",
   "name": "python",
   "nbconvert_exporter": "python",
   "pygments_lexer": "ipython3",
   "version": "3.12.7"
  }
 },
 "nbformat": 4,
 "nbformat_minor": 5
}
