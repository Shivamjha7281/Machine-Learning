{
 "cells": [
  {
   "cell_type": "code",
   "execution_count": 1,
   "id": "a06ec778-3162-417e-9e54-b5bcec5f91ad",
   "metadata": {},
   "outputs": [],
   "source": [
    "import pandas as pd \n",
    "import numpy as np\n",
    "import seaborn as sns\n",
    "import matplotlib.pyplot as plt\n",
    "\n",
    "import warnings\n",
    "warnings.filterwarnings('ignore')"
   ]
  },
  {
   "cell_type": "code",
   "execution_count": 15,
   "id": "bfb98c75-e443-4856-854e-5245beb1f114",
   "metadata": {},
   "outputs": [],
   "source": [
    "df = pd.read_csv('spotify.csv')"
   ]
  },
  {
   "cell_type": "code",
   "execution_count": 7,
   "id": "49dd4ff3-2999-4845-a514-908c4798228a",
   "metadata": {},
   "outputs": [
    {
     "data": {
      "text/plain": [
       "(440, 5)"
      ]
     },
     "execution_count": 7,
     "metadata": {},
     "output_type": "execute_result"
    }
   ],
   "source": [
    "df.shape"
   ]
  },
  {
   "cell_type": "code",
   "execution_count": 9,
   "id": "5569d879-3c7b-42cc-9245-6ea360680e95",
   "metadata": {},
   "outputs": [
    {
     "data": {
      "text/plain": [
       "Index(['Artist', 'Track Name', 'Popularity', 'Duration (ms)', 'Track ID'], dtype='object')"
      ]
     },
     "execution_count": 9,
     "metadata": {},
     "output_type": "execute_result"
    }
   ],
   "source": [
    "df.columns"
   ]
  },
  {
   "cell_type": "code",
   "execution_count": 13,
   "id": "f9d0ed21-194e-40ce-93ad-739dcf0ade4d",
   "metadata": {},
   "outputs": [
    {
     "data": {
      "text/html": [
       "<div>\n",
       "<style scoped>\n",
       "    .dataframe tbody tr th:only-of-type {\n",
       "        vertical-align: middle;\n",
       "    }\n",
       "\n",
       "    .dataframe tbody tr th {\n",
       "        vertical-align: top;\n",
       "    }\n",
       "\n",
       "    .dataframe thead th {\n",
       "        text-align: right;\n",
       "    }\n",
       "</style>\n",
       "<table border=\"1\" class=\"dataframe\">\n",
       "  <thead>\n",
       "    <tr style=\"text-align: right;\">\n",
       "      <th></th>\n",
       "      <th>Artist</th>\n",
       "      <th>Track Name</th>\n",
       "      <th>Popularity</th>\n",
       "      <th>Duration (ms)</th>\n",
       "      <th>Track ID</th>\n",
       "    </tr>\n",
       "  </thead>\n",
       "  <tbody>\n",
       "    <tr>\n",
       "      <th>0</th>\n",
       "      <td>Drake</td>\n",
       "      <td>Rich Baby Daddy (feat. Sexyy Red &amp; SZA)</td>\n",
       "      <td>92</td>\n",
       "      <td>319191</td>\n",
       "      <td>1yeB8MUNeLo9Ek1UEpsyz6</td>\n",
       "    </tr>\n",
       "    <tr>\n",
       "      <th>1</th>\n",
       "      <td>Drake</td>\n",
       "      <td>One Dance</td>\n",
       "      <td>91</td>\n",
       "      <td>173986</td>\n",
       "      <td>1zi7xx7UVEFkmKfv06H8x0</td>\n",
       "    </tr>\n",
       "    <tr>\n",
       "      <th>2</th>\n",
       "      <td>Drake</td>\n",
       "      <td>IDGAF (feat. Yeat)</td>\n",
       "      <td>90</td>\n",
       "      <td>260111</td>\n",
       "      <td>2YSzYUF3jWqb9YP9VXmpjE</td>\n",
       "    </tr>\n",
       "  </tbody>\n",
       "</table>\n",
       "</div>"
      ],
      "text/plain": [
       "  Artist                               Track Name  Popularity  Duration (ms)  \\\n",
       "0  Drake  Rich Baby Daddy (feat. Sexyy Red & SZA)          92         319191   \n",
       "1  Drake                                One Dance          91         173986   \n",
       "2  Drake                       IDGAF (feat. Yeat)          90         260111   \n",
       "\n",
       "                 Track ID  \n",
       "0  1yeB8MUNeLo9Ek1UEpsyz6  \n",
       "1  1zi7xx7UVEFkmKfv06H8x0  \n",
       "2  2YSzYUF3jWqb9YP9VXmpjE  "
      ]
     },
     "execution_count": 13,
     "metadata": {},
     "output_type": "execute_result"
    }
   ],
   "source": [
    "df.head(3)"
   ]
  },
  {
   "cell_type": "markdown",
   "id": "3a0ae2cf-fe75-40ab-9490-3723b5ca3180",
   "metadata": {},
   "source": [
    "**1. Read the dataframe, check null value if present then do the needful, check duplicate row , if present then do the needful.**"
   ]
  },
  {
   "cell_type": "code",
   "execution_count": 17,
   "id": "aceb98ef-9321-4bd8-8111-236a9dcbfd5a",
   "metadata": {},
   "outputs": [
    {
     "data": {
      "text/plain": [
       "Artist           0\n",
       "Track Name       0\n",
       "Popularity       0\n",
       "Duration (ms)    0\n",
       "Track ID         0\n",
       "dtype: int64"
      ]
     },
     "execution_count": 17,
     "metadata": {},
     "output_type": "execute_result"
    }
   ],
   "source": [
    "df.isnull().sum()"
   ]
  },
  {
   "cell_type": "code",
   "execution_count": 21,
   "id": "e2902a9c-13ed-4671-82d4-afc01558d182",
   "metadata": {},
   "outputs": [
    {
     "data": {
      "text/plain": [
       "27"
      ]
     },
     "execution_count": 21,
     "metadata": {},
     "output_type": "execute_result"
    }
   ],
   "source": [
    "df.duplicated().sum()"
   ]
  },
  {
   "cell_type": "code",
   "execution_count": 25,
   "id": "eb43457f-ec9e-4846-afb8-de28ceceaf18",
   "metadata": {},
   "outputs": [
    {
     "data": {
      "text/html": [
       "<div>\n",
       "<style scoped>\n",
       "    .dataframe tbody tr th:only-of-type {\n",
       "        vertical-align: middle;\n",
       "    }\n",
       "\n",
       "    .dataframe tbody tr th {\n",
       "        vertical-align: top;\n",
       "    }\n",
       "\n",
       "    .dataframe thead th {\n",
       "        text-align: right;\n",
       "    }\n",
       "</style>\n",
       "<table border=\"1\" class=\"dataframe\">\n",
       "  <thead>\n",
       "    <tr style=\"text-align: right;\">\n",
       "      <th></th>\n",
       "      <th>Artist</th>\n",
       "      <th>Track Name</th>\n",
       "      <th>Popularity</th>\n",
       "      <th>Duration (ms)</th>\n",
       "      <th>Track ID</th>\n",
       "    </tr>\n",
       "  </thead>\n",
       "  <tbody>\n",
       "    <tr>\n",
       "      <th>39</th>\n",
       "      <td>Travis Scott</td>\n",
       "      <td>MELTDOWN (feat. Drake)</td>\n",
       "      <td>86</td>\n",
       "      <td>246133</td>\n",
       "      <td>67nepsnrcZkowTxMWigSbb</td>\n",
       "    </tr>\n",
       "    <tr>\n",
       "      <th>52</th>\n",
       "      <td>Travis Scott</td>\n",
       "      <td>TELEKINESIS (feat. SZA &amp; Future)</td>\n",
       "      <td>86</td>\n",
       "      <td>353754</td>\n",
       "      <td>1i9lZvlaDdWDPyXEE95aiq</td>\n",
       "    </tr>\n",
       "    <tr>\n",
       "      <th>72</th>\n",
       "      <td>21 Savage</td>\n",
       "      <td>née-nah</td>\n",
       "      <td>88</td>\n",
       "      <td>220584</td>\n",
       "      <td>2yUzr8Sr6ldG8vmHhZwTnz</td>\n",
       "    </tr>\n",
       "    <tr>\n",
       "      <th>73</th>\n",
       "      <td>Drake</td>\n",
       "      <td>Jimmy Cooks (feat. 21 Savage)</td>\n",
       "      <td>88</td>\n",
       "      <td>218364</td>\n",
       "      <td>3F5CgOj3wFlRv51JsHbxhe</td>\n",
       "    </tr>\n",
       "    <tr>\n",
       "      <th>76</th>\n",
       "      <td>Drake</td>\n",
       "      <td>Rich Flex</td>\n",
       "      <td>85</td>\n",
       "      <td>239359</td>\n",
       "      <td>1bDbXMyjaUIooNwFE9wn0N</td>\n",
       "    </tr>\n",
       "    <tr>\n",
       "      <th>131</th>\n",
       "      <td>Drake</td>\n",
       "      <td>First Person Shooter (feat. J. Cole)</td>\n",
       "      <td>88</td>\n",
       "      <td>247444</td>\n",
       "      <td>7aqfrAY2p9BUSiupwk3svU</td>\n",
       "    </tr>\n",
       "    <tr>\n",
       "      <th>170</th>\n",
       "      <td>Metro Boomin</td>\n",
       "      <td>Trance (with Travis Scott &amp; Young Thug)</td>\n",
       "      <td>89</td>\n",
       "      <td>194786</td>\n",
       "      <td>5wG3HvLhF6Y5KTGlK0IW3J</td>\n",
       "    </tr>\n",
       "    <tr>\n",
       "      <th>182</th>\n",
       "      <td>D-Block Europe</td>\n",
       "      <td>Overseas</td>\n",
       "      <td>74</td>\n",
       "      <td>222154</td>\n",
       "      <td>337kcYVjYXdLBItCw9ry3b</td>\n",
       "    </tr>\n",
       "    <tr>\n",
       "      <th>210</th>\n",
       "      <td>Post Malone</td>\n",
       "      <td>Sunflower - Spider-Man: Into the Spider-Verse</td>\n",
       "      <td>87</td>\n",
       "      <td>157560</td>\n",
       "      <td>0RiRZpuVRbi7oqRdSMwhQY</td>\n",
       "    </tr>\n",
       "    <tr>\n",
       "      <th>212</th>\n",
       "      <td>Metro Boomin</td>\n",
       "      <td>Annihilate (Spider-Man: Across the Spider-Vers...</td>\n",
       "      <td>79</td>\n",
       "      <td>231746</td>\n",
       "      <td>39MK3d3fonIP8Mz9oHCTBB</td>\n",
       "    </tr>\n",
       "    <tr>\n",
       "      <th>222</th>\n",
       "      <td>Cardi B</td>\n",
       "      <td>WAP (feat. Megan Thee Stallion)</td>\n",
       "      <td>80</td>\n",
       "      <td>187541</td>\n",
       "      <td>4Oun2ylbjFKMPTiaSbbCih</td>\n",
       "    </tr>\n",
       "    <tr>\n",
       "      <th>224</th>\n",
       "      <td>Cardi B</td>\n",
       "      <td>Bongos (feat. Megan Thee Stallion)</td>\n",
       "      <td>78</td>\n",
       "      <td>175099</td>\n",
       "      <td>4YQImHflXSiIMXntcwPkx8</td>\n",
       "    </tr>\n",
       "    <tr>\n",
       "      <th>242</th>\n",
       "      <td>Bizarrap</td>\n",
       "      <td>Quevedo: Bzrp Music Sessions, Vol. 52</td>\n",
       "      <td>87</td>\n",
       "      <td>198937</td>\n",
       "      <td>2tTmW7RDtMQtBk7m2rYeSw</td>\n",
       "    </tr>\n",
       "    <tr>\n",
       "      <th>270</th>\n",
       "      <td>Lil Durk</td>\n",
       "      <td>All My Life (feat. J. Cole)</td>\n",
       "      <td>74</td>\n",
       "      <td>223878</td>\n",
       "      <td>6T7FXSuXykeGktMLGp8WgE</td>\n",
       "    </tr>\n",
       "    <tr>\n",
       "      <th>280</th>\n",
       "      <td>¥$</td>\n",
       "      <td>CARNIVAL</td>\n",
       "      <td>96</td>\n",
       "      <td>264324</td>\n",
       "      <td>3w0w2T288dec0mgeZZqoNN</td>\n",
       "    </tr>\n",
       "    <tr>\n",
       "      <th>282</th>\n",
       "      <td>Travis Scott</td>\n",
       "      <td>FE!N (feat. Playboi Carti)</td>\n",
       "      <td>93</td>\n",
       "      <td>191700</td>\n",
       "      <td>42VsgItocQwOQC3XWZ8JNA</td>\n",
       "    </tr>\n",
       "    <tr>\n",
       "      <th>290</th>\n",
       "      <td>Lil Baby</td>\n",
       "      <td>Drip Too Hard (Lil Baby &amp; Gunna)</td>\n",
       "      <td>85</td>\n",
       "      <td>145542</td>\n",
       "      <td>78QR3Wp35dqAhFEc2qAGjE</td>\n",
       "    </tr>\n",
       "    <tr>\n",
       "      <th>297</th>\n",
       "      <td>Quality Control</td>\n",
       "      <td>Baby (Lil Baby feat. DaBaby)</td>\n",
       "      <td>77</td>\n",
       "      <td>142417</td>\n",
       "      <td>5MPPttjfGap2C6j6eKcO6J</td>\n",
       "    </tr>\n",
       "    <tr>\n",
       "      <th>310</th>\n",
       "      <td>Lil Nas X</td>\n",
       "      <td>INDUSTRY BABY (feat. Jack Harlow)</td>\n",
       "      <td>78</td>\n",
       "      <td>212352</td>\n",
       "      <td>5Z9KJZvQzH6PFmb8SNkxuk</td>\n",
       "    </tr>\n",
       "    <tr>\n",
       "      <th>331</th>\n",
       "      <td>Nicki Minaj</td>\n",
       "      <td>Everybody (feat. Lil Uzi Vert)</td>\n",
       "      <td>84</td>\n",
       "      <td>180869</td>\n",
       "      <td>5ZJGv7aGdIr9IGpxzSG18T</td>\n",
       "    </tr>\n",
       "    <tr>\n",
       "      <th>341</th>\n",
       "      <td>Snoop Dogg</td>\n",
       "      <td>Young, Wild &amp; Free (feat. Bruno Mars)</td>\n",
       "      <td>70</td>\n",
       "      <td>207346</td>\n",
       "      <td>6YbhspuOar1D9WSSnfe7ds</td>\n",
       "    </tr>\n",
       "    <tr>\n",
       "      <th>343</th>\n",
       "      <td>Lil Wayne</td>\n",
       "      <td>Sucker for Pain (with Wiz Khalifa, Imagine Dra...</td>\n",
       "      <td>77</td>\n",
       "      <td>243490</td>\n",
       "      <td>4dASQiO1Eoo3RJvt74FtXB</td>\n",
       "    </tr>\n",
       "    <tr>\n",
       "      <th>352</th>\n",
       "      <td>Nicki Minaj</td>\n",
       "      <td>Barbie World (with Aqua) [From Barbie The Album]</td>\n",
       "      <td>83</td>\n",
       "      <td>109750</td>\n",
       "      <td>741UUVE2kuITl0c6zuqqbO</td>\n",
       "    </tr>\n",
       "    <tr>\n",
       "      <th>422</th>\n",
       "      <td>Metro Boomin</td>\n",
       "      <td>Annihilate (Spider-Man: Across the Spider-Vers...</td>\n",
       "      <td>79</td>\n",
       "      <td>231746</td>\n",
       "      <td>39MK3d3fonIP8Mz9oHCTBB</td>\n",
       "    </tr>\n",
       "    <tr>\n",
       "      <th>430</th>\n",
       "      <td>French Montana</td>\n",
       "      <td>Unforgettable</td>\n",
       "      <td>87</td>\n",
       "      <td>233901</td>\n",
       "      <td>3B54sVLJ402zGa6Xm4YGNe</td>\n",
       "    </tr>\n",
       "    <tr>\n",
       "      <th>435</th>\n",
       "      <td>French Montana</td>\n",
       "      <td>Splash Brothers</td>\n",
       "      <td>44</td>\n",
       "      <td>221863</td>\n",
       "      <td>3fBsEOnzwtlkpS0LxXAZhN</td>\n",
       "    </tr>\n",
       "    <tr>\n",
       "      <th>439</th>\n",
       "      <td>Rick Ross</td>\n",
       "      <td>Stay Schemin</td>\n",
       "      <td>68</td>\n",
       "      <td>267720</td>\n",
       "      <td>0nq6sfr8z1R5KJ4XUk396e</td>\n",
       "    </tr>\n",
       "  </tbody>\n",
       "</table>\n",
       "</div>"
      ],
      "text/plain": [
       "              Artist                                         Track Name  \\\n",
       "39      Travis Scott                             MELTDOWN (feat. Drake)   \n",
       "52      Travis Scott                   TELEKINESIS (feat. SZA & Future)   \n",
       "72         21 Savage                                            née-nah   \n",
       "73             Drake                      Jimmy Cooks (feat. 21 Savage)   \n",
       "76             Drake                                          Rich Flex   \n",
       "131            Drake               First Person Shooter (feat. J. Cole)   \n",
       "170     Metro Boomin            Trance (with Travis Scott & Young Thug)   \n",
       "182   D-Block Europe                                           Overseas   \n",
       "210      Post Malone      Sunflower - Spider-Man: Into the Spider-Verse   \n",
       "212     Metro Boomin  Annihilate (Spider-Man: Across the Spider-Vers...   \n",
       "222          Cardi B                    WAP (feat. Megan Thee Stallion)   \n",
       "224          Cardi B                 Bongos (feat. Megan Thee Stallion)   \n",
       "242         Bizarrap              Quevedo: Bzrp Music Sessions, Vol. 52   \n",
       "270         Lil Durk                        All My Life (feat. J. Cole)   \n",
       "280               ¥$                                           CARNIVAL   \n",
       "282     Travis Scott                         FE!N (feat. Playboi Carti)   \n",
       "290         Lil Baby                   Drip Too Hard (Lil Baby & Gunna)   \n",
       "297  Quality Control                       Baby (Lil Baby feat. DaBaby)   \n",
       "310        Lil Nas X                  INDUSTRY BABY (feat. Jack Harlow)   \n",
       "331      Nicki Minaj                     Everybody (feat. Lil Uzi Vert)   \n",
       "341       Snoop Dogg              Young, Wild & Free (feat. Bruno Mars)   \n",
       "343        Lil Wayne  Sucker for Pain (with Wiz Khalifa, Imagine Dra...   \n",
       "352      Nicki Minaj   Barbie World (with Aqua) [From Barbie The Album]   \n",
       "422     Metro Boomin  Annihilate (Spider-Man: Across the Spider-Vers...   \n",
       "430   French Montana                                      Unforgettable   \n",
       "435   French Montana                                    Splash Brothers   \n",
       "439        Rick Ross                                       Stay Schemin   \n",
       "\n",
       "     Popularity  Duration (ms)                Track ID  \n",
       "39           86         246133  67nepsnrcZkowTxMWigSbb  \n",
       "52           86         353754  1i9lZvlaDdWDPyXEE95aiq  \n",
       "72           88         220584  2yUzr8Sr6ldG8vmHhZwTnz  \n",
       "73           88         218364  3F5CgOj3wFlRv51JsHbxhe  \n",
       "76           85         239359  1bDbXMyjaUIooNwFE9wn0N  \n",
       "131          88         247444  7aqfrAY2p9BUSiupwk3svU  \n",
       "170          89         194786  5wG3HvLhF6Y5KTGlK0IW3J  \n",
       "182          74         222154  337kcYVjYXdLBItCw9ry3b  \n",
       "210          87         157560  0RiRZpuVRbi7oqRdSMwhQY  \n",
       "212          79         231746  39MK3d3fonIP8Mz9oHCTBB  \n",
       "222          80         187541  4Oun2ylbjFKMPTiaSbbCih  \n",
       "224          78         175099  4YQImHflXSiIMXntcwPkx8  \n",
       "242          87         198937  2tTmW7RDtMQtBk7m2rYeSw  \n",
       "270          74         223878  6T7FXSuXykeGktMLGp8WgE  \n",
       "280          96         264324  3w0w2T288dec0mgeZZqoNN  \n",
       "282          93         191700  42VsgItocQwOQC3XWZ8JNA  \n",
       "290          85         145542  78QR3Wp35dqAhFEc2qAGjE  \n",
       "297          77         142417  5MPPttjfGap2C6j6eKcO6J  \n",
       "310          78         212352  5Z9KJZvQzH6PFmb8SNkxuk  \n",
       "331          84         180869  5ZJGv7aGdIr9IGpxzSG18T  \n",
       "341          70         207346  6YbhspuOar1D9WSSnfe7ds  \n",
       "343          77         243490  4dASQiO1Eoo3RJvt74FtXB  \n",
       "352          83         109750  741UUVE2kuITl0c6zuqqbO  \n",
       "422          79         231746  39MK3d3fonIP8Mz9oHCTBB  \n",
       "430          87         233901  3B54sVLJ402zGa6Xm4YGNe  \n",
       "435          44         221863  3fBsEOnzwtlkpS0LxXAZhN  \n",
       "439          68         267720  0nq6sfr8z1R5KJ4XUk396e  "
      ]
     },
     "execution_count": 25,
     "metadata": {},
     "output_type": "execute_result"
    }
   ],
   "source": [
    "df[df.duplicated()]"
   ]
  },
  {
   "cell_type": "code",
   "execution_count": 32,
   "id": "2dfa66b9-6ee3-4359-9703-fa8530720651",
   "metadata": {},
   "outputs": [
    {
     "data": {
      "text/plain": [
       "Popularity\n",
       "79    23\n",
       "76    23\n",
       "84    20\n",
       "78    20\n",
       "71    18\n",
       "82    18\n",
       "77    18\n",
       "85    17\n",
       "75    16\n",
       "81    16\n",
       "74    15\n",
       "86    15\n",
       "80    15\n",
       "73    14\n",
       "67    13\n",
       "83    13\n",
       "87    13\n",
       "88    12\n",
       "69    12\n",
       "70    11\n",
       "68    11\n",
       "72    11\n",
       "64     9\n",
       "89     9\n",
       "66     7\n",
       "61     7\n",
       "65     7\n",
       "63     6\n",
       "90     6\n",
       "58     5\n",
       "60     4\n",
       "92     4\n",
       "96     3\n",
       "62     3\n",
       "59     3\n",
       "55     2\n",
       "44     2\n",
       "56     2\n",
       "54     2\n",
       "93     2\n",
       "91     2\n",
       "49     2\n",
       "29     1\n",
       "51     1\n",
       "47     1\n",
       "35     1\n",
       "97     1\n",
       "53     1\n",
       "52     1\n",
       "48     1\n",
       "57     1\n",
       "Name: count, dtype: int64"
      ]
     },
     "execution_count": 32,
     "metadata": {},
     "output_type": "execute_result"
    }
   ],
   "source": [
    "df['Popularity'].value_counts()"
   ]
  },
  {
   "cell_type": "code",
   "execution_count": 34,
   "id": "189ca2e1-8252-4962-882f-a909da2327ef",
   "metadata": {},
   "outputs": [
    {
     "data": {
      "text/plain": [
       "(440, 5)"
      ]
     },
     "execution_count": 34,
     "metadata": {},
     "output_type": "execute_result"
    }
   ],
   "source": [
    "df.shape"
   ]
  },
  {
   "cell_type": "code",
   "execution_count": 36,
   "id": "a3f7eea4-f25d-4d08-9905-8fd138df9d1b",
   "metadata": {},
   "outputs": [
    {
     "name": "stdout",
     "output_type": "stream",
     "text": [
      "<class 'pandas.core.frame.DataFrame'>\n",
      "RangeIndex: 440 entries, 0 to 439\n",
      "Data columns (total 5 columns):\n",
      " #   Column         Non-Null Count  Dtype \n",
      "---  ------         --------------  ----- \n",
      " 0   Artist         440 non-null    object\n",
      " 1   Track Name     440 non-null    object\n",
      " 2   Popularity     440 non-null    int64 \n",
      " 3   Duration (ms)  440 non-null    int64 \n",
      " 4   Track ID       440 non-null    object\n",
      "dtypes: int64(2), object(3)\n",
      "memory usage: 17.3+ KB\n"
     ]
    }
   ],
   "source": [
    "df.info()"
   ]
  },
  {
   "cell_type": "code",
   "execution_count": 38,
   "id": "1e62ea7e-5e88-4310-85e5-eb9db22ecdd8",
   "metadata": {},
   "outputs": [
    {
     "data": {
      "text/html": [
       "<div>\n",
       "<style scoped>\n",
       "    .dataframe tbody tr th:only-of-type {\n",
       "        vertical-align: middle;\n",
       "    }\n",
       "\n",
       "    .dataframe tbody tr th {\n",
       "        vertical-align: top;\n",
       "    }\n",
       "\n",
       "    .dataframe thead th {\n",
       "        text-align: right;\n",
       "    }\n",
       "</style>\n",
       "<table border=\"1\" class=\"dataframe\">\n",
       "  <thead>\n",
       "    <tr style=\"text-align: right;\">\n",
       "      <th></th>\n",
       "      <th>Popularity</th>\n",
       "      <th>Duration (ms)</th>\n",
       "    </tr>\n",
       "  </thead>\n",
       "  <tbody>\n",
       "    <tr>\n",
       "      <th>count</th>\n",
       "      <td>440.000000</td>\n",
       "      <td>440.000000</td>\n",
       "    </tr>\n",
       "    <tr>\n",
       "      <th>mean</th>\n",
       "      <td>75.736364</td>\n",
       "      <td>206810.040909</td>\n",
       "    </tr>\n",
       "    <tr>\n",
       "      <th>std</th>\n",
       "      <td>9.886534</td>\n",
       "      <td>53576.930289</td>\n",
       "    </tr>\n",
       "    <tr>\n",
       "      <th>min</th>\n",
       "      <td>29.000000</td>\n",
       "      <td>81666.000000</td>\n",
       "    </tr>\n",
       "    <tr>\n",
       "      <th>25%</th>\n",
       "      <td>70.000000</td>\n",
       "      <td>172778.500000</td>\n",
       "    </tr>\n",
       "    <tr>\n",
       "      <th>50%</th>\n",
       "      <td>77.000000</td>\n",
       "      <td>201866.000000</td>\n",
       "    </tr>\n",
       "    <tr>\n",
       "      <th>75%</th>\n",
       "      <td>83.000000</td>\n",
       "      <td>235119.750000</td>\n",
       "    </tr>\n",
       "    <tr>\n",
       "      <th>max</th>\n",
       "      <td>97.000000</td>\n",
       "      <td>501648.000000</td>\n",
       "    </tr>\n",
       "  </tbody>\n",
       "</table>\n",
       "</div>"
      ],
      "text/plain": [
       "       Popularity  Duration (ms)\n",
       "count  440.000000     440.000000\n",
       "mean    75.736364  206810.040909\n",
       "std      9.886534   53576.930289\n",
       "min     29.000000   81666.000000\n",
       "25%     70.000000  172778.500000\n",
       "50%     77.000000  201866.000000\n",
       "75%     83.000000  235119.750000\n",
       "max     97.000000  501648.000000"
      ]
     },
     "execution_count": 38,
     "metadata": {},
     "output_type": "execute_result"
    }
   ],
   "source": [
    "df.describe()"
   ]
  },
  {
   "cell_type": "markdown",
   "id": "a1df714e-87cb-470a-a19e-2bb7cace2573",
   "metadata": {},
   "source": [
    "**2. What is the distribution of popularity among the tracks in the dataset? Visualize it using a histogram.**"
   ]
  },
  {
   "cell_type": "code",
   "execution_count": 42,
   "id": "542193c9-46e4-4594-a911-c2ee5525d90a",
   "metadata": {},
   "outputs": [
    {
     "data": {
      "text/plain": [
       "Index(['Artist', 'Track Name', 'Popularity', 'Duration (ms)', 'Track ID'], dtype='object')"
      ]
     },
     "execution_count": 42,
     "metadata": {},
     "output_type": "execute_result"
    }
   ],
   "source": [
    "df.columns"
   ]
  },
  {
   "cell_type": "code",
   "execution_count": 46,
   "id": "5350a377-babf-4aa8-9894-02462da86f43",
   "metadata": {},
   "outputs": [
    {
     "data": {
      "text/html": [
       "<div>\n",
       "<style scoped>\n",
       "    .dataframe tbody tr th:only-of-type {\n",
       "        vertical-align: middle;\n",
       "    }\n",
       "\n",
       "    .dataframe tbody tr th {\n",
       "        vertical-align: top;\n",
       "    }\n",
       "\n",
       "    .dataframe thead th {\n",
       "        text-align: right;\n",
       "    }\n",
       "</style>\n",
       "<table border=\"1\" class=\"dataframe\">\n",
       "  <thead>\n",
       "    <tr style=\"text-align: right;\">\n",
       "      <th></th>\n",
       "      <th>Track Name</th>\n",
       "      <th>Popularity</th>\n",
       "    </tr>\n",
       "  </thead>\n",
       "  <tbody>\n",
       "    <tr>\n",
       "      <th>0</th>\n",
       "      <td>Rich Baby Daddy (feat. Sexyy Red &amp; SZA)</td>\n",
       "      <td>92</td>\n",
       "    </tr>\n",
       "    <tr>\n",
       "      <th>1</th>\n",
       "      <td>One Dance</td>\n",
       "      <td>91</td>\n",
       "    </tr>\n",
       "    <tr>\n",
       "      <th>2</th>\n",
       "      <td>IDGAF (feat. Yeat)</td>\n",
       "      <td>90</td>\n",
       "    </tr>\n",
       "    <tr>\n",
       "      <th>3</th>\n",
       "      <td>First Person Shooter (feat. J. Cole)</td>\n",
       "      <td>88</td>\n",
       "    </tr>\n",
       "    <tr>\n",
       "      <th>4</th>\n",
       "      <td>Jimmy Cooks (feat. 21 Savage)</td>\n",
       "      <td>88</td>\n",
       "    </tr>\n",
       "    <tr>\n",
       "      <th>...</th>\n",
       "      <td>...</td>\n",
       "      <td>...</td>\n",
       "    </tr>\n",
       "    <tr>\n",
       "      <th>435</th>\n",
       "      <td>Splash Brothers</td>\n",
       "      <td>44</td>\n",
       "    </tr>\n",
       "    <tr>\n",
       "      <th>436</th>\n",
       "      <td>All The Way Up (feat. Infared)</td>\n",
       "      <td>64</td>\n",
       "    </tr>\n",
       "    <tr>\n",
       "      <th>437</th>\n",
       "      <td>Work REMIX (feat. A$AP Rocky, French Montana, ...</td>\n",
       "      <td>69</td>\n",
       "    </tr>\n",
       "    <tr>\n",
       "      <th>438</th>\n",
       "      <td>Another One Of Me (feat. 21 Savage)</td>\n",
       "      <td>65</td>\n",
       "    </tr>\n",
       "    <tr>\n",
       "      <th>439</th>\n",
       "      <td>Stay Schemin</td>\n",
       "      <td>68</td>\n",
       "    </tr>\n",
       "  </tbody>\n",
       "</table>\n",
       "<p>440 rows × 2 columns</p>\n",
       "</div>"
      ],
      "text/plain": [
       "                                            Track Name  Popularity\n",
       "0              Rich Baby Daddy (feat. Sexyy Red & SZA)          92\n",
       "1                                            One Dance          91\n",
       "2                                   IDGAF (feat. Yeat)          90\n",
       "3                 First Person Shooter (feat. J. Cole)          88\n",
       "4                        Jimmy Cooks (feat. 21 Savage)          88\n",
       "..                                                 ...         ...\n",
       "435                                    Splash Brothers          44\n",
       "436                     All The Way Up (feat. Infared)          64\n",
       "437  Work REMIX (feat. A$AP Rocky, French Montana, ...          69\n",
       "438                Another One Of Me (feat. 21 Savage)          65\n",
       "439                                       Stay Schemin          68\n",
       "\n",
       "[440 rows x 2 columns]"
      ]
     },
     "execution_count": 46,
     "metadata": {},
     "output_type": "execute_result"
    }
   ],
   "source": [
    "df[['Track Name', 'Popularity']]"
   ]
  },
  {
   "cell_type": "code",
   "execution_count": 48,
   "id": "022dfd47-10de-4ffa-8e98-abaec408c416",
   "metadata": {},
   "outputs": [
    {
     "data": {
      "text/plain": [
       "dtype('int64')"
      ]
     },
     "execution_count": 48,
     "metadata": {},
     "output_type": "execute_result"
    }
   ],
   "source": [
    "df['Popularity'].dtypes"
   ]
  },
  {
   "cell_type": "code",
   "execution_count": 50,
   "id": "0c0ad4c1-2e29-413c-aefb-f860851f32f3",
   "metadata": {},
   "outputs": [
    {
     "data": {
      "image/png": "[encoded data removed]",
      "text/plain": [
       "<Figure size 1000x600 with 1 Axes>"
      ]
     },
     "metadata": {},
     "output_type": "display_data"
    }
   ],
   "source": [
    "plt.figure(figsize=(10,6))\n",
    "sns.histplot(df['Popularity'], bins=20, kde=True, color='skyblue')\n",
    "plt.title('distribution of popularity among the tracks')\n",
    "plt.xlabel('Popularity Score')\n",
    "plt.ylabel('Number of Tracks')\n",
    "plt.grid(True)\n",
    "plt.tight_layout()\n",
    "plt.show()"
   ]
  },
  {
   "cell_type": "markdown",
   "id": "eac88af7-bb40-4b27-9cb4-dc16cfc5fb66",
   "metadata": {},
   "source": [
    "Insights - \n",
    "- Most tracks have moderate to high popularity (70–85 range)\n",
    "    - The histogram peaks between 70 and 85.\n",
    "    - This means most tracks in the dataset are well-liked or trending, which makes sense since the dataset focuses on popular hip-hop tracks.\n",
    "-  Very few tracks have low or very high popularity\n",
    "    - Only a handful of songs fall below 50 or above 90.\n",
    "    - This shows that extreme values (flops or viral hits) are rare — most songs stay within the mainstream popularity range."
   ]
  },
  {
   "cell_type": "markdown",
   "id": "d812cf2d-2dbb-4c9f-9e18-3b05c3867d9a",
   "metadata": {},
   "source": []
  },
  {
   "cell_type": "markdown",
   "id": "dca8b08f-ad8f-48a7-9064-b64ea08cd483",
   "metadata": {},
   "source": [
    "**3.  Is there any relationship between the popularity and the duration of tracks? Explore this using a scatter plot?**"
   ]
  },
  {
   "cell_type": "code",
   "execution_count": 56,
   "id": "f30fdeff-d44b-4dca-b327-63781acaf89d",
   "metadata": {},
   "outputs": [
    {
     "data": {
      "text/plain": [
       "Popularity       int64\n",
       "Duration (ms)    int64\n",
       "dtype: object"
      ]
     },
     "execution_count": 56,
     "metadata": {},
     "output_type": "execute_result"
    }
   ],
   "source": [
    "df[['Popularity', 'Duration (ms)']].dtypes"
   ]
  },
  {
   "cell_type": "code",
   "execution_count": 63,
   "id": "eb17c836-a8cc-46de-9f8d-749990098939",
   "metadata": {},
   "outputs": [
    {
     "data": {
      "image/png": "[encoded data removed]",
      "text/plain": [
       "<Figure size 1000x600 with 1 Axes>"
      ]
     },
     "metadata": {},
     "output_type": "display_data"
    }
   ],
   "source": [
    "plt.figure(figsize=(10,6))\n",
    "plt.scatter(df['Duration (ms)'], df['Popularity'], alpha=0.5, color='orange')\n",
    "plt.title('Popularity vs Duration of Tracks')\n",
    "plt.xlabel('Duration (ms)')\n",
    "plt.ylabel('Popularity Score')\n",
    "plt.grid(True)\n",
    "plt.tight_layout()\n",
    "plt.show()"
   ]
  },
  {
   "cell_type": "markdown",
   "id": "427248a1-47a4-45ad-9508-49b56be50950",
   "metadata": {},
   "source": [
    "Insights - \n",
    "- Most popular tracks have a duration between 2.5 to 4 minutes\n",
    "    - The dense cluster is around 150,000 to 250,000 ms (≈ 2.5 to 4 minutes), which is the standard length for hip-hop tracks.\n",
    "    - Popularity is generally high in this range — confirming that medium-length tracks are more favored.\n",
    "\n",
    "- No strong linear relationship between duration and popularity\n",
    "    - The scatter plot shows a very weak or no clear trend.\n",
    "    - Tracks with both short and long durations can be popular or unpopular — suggesting that duration alone doesn't decide popularity."
   ]
  },
  {
   "cell_type": "code",
   "execution_count": 66,
   "id": "2c57f654-4427-4b5c-b26b-44e6899a81a5",
   "metadata": {},
   "outputs": [
    {
     "name": "stdout",
     "output_type": "stream",
     "text": [
      "Correlation: 0.04074487217075256\n"
     ]
    }
   ],
   "source": [
    "correlation = df['Duration (ms)'].corr(df['Popularity'])\n",
    "print(\"Correlation:\", correlation)"
   ]
  },
  {
   "cell_type": "markdown",
   "id": "7232a73b-d33f-4bc6-83e5-7f46d7e1b308",
   "metadata": {},
   "source": [
    "This is a very weak positive correlation (close to 0).\n",
    "\n",
    "It confirms that there's almost no meaningful relationship between a track's duration and its popularity."
   ]
  },
  {
   "cell_type": "markdown",
   "id": "c8f7cd9f-150a-492e-b0f2-7fbf9a871bc9",
   "metadata": {},
   "source": [
    "The correlation between Duration (ms) and Popularity is 0.04, indicating no strong relationship between how long a track is and how popular it is on Spotify.\n",
    "This suggests that factors other than track length — like artist reputation, collaborations, lyrics, or marketing — likely influence popularity more."
   ]
  },
  {
   "cell_type": "markdown",
   "id": "ef1e137c-e9c1-4adc-9d5f-d99ac938a2e6",
   "metadata": {},
   "source": []
  },
  {
   "cell_type": "markdown",
   "id": "72dd83cb-2cff-4ad6-837e-8b93d85fe254",
   "metadata": {},
   "source": [
    "**4.  Which artist has the highest number of tracks in the dataset? Display the count of tracks for each artist using a countplot?**"
   ]
  },
  {
   "cell_type": "code",
   "execution_count": 84,
   "id": "a226d3c3-ae53-4dea-a56c-2fdcd313cd90",
   "metadata": {},
   "outputs": [
    {
     "data": {
      "text/plain": [
       "Artist\n",
       "Drake             20\n",
       "Travis Scott      12\n",
       "21 Savage         11\n",
       "¥$                11\n",
       "Lil Nas X         11\n",
       "                  ..\n",
       "Arizona Zervas     1\n",
       "Fivio Foreign      1\n",
       "Pressa             1\n",
       "David Guetta       1\n",
       "Diddy              1\n",
       "Name: count, Length: 115, dtype: int64"
      ]
     },
     "execution_count": 84,
     "metadata": {},
     "output_type": "execute_result"
    }
   ],
   "source": [
    "artist_counts = df['Artist'].value_counts()\n",
    "artist_counts\n",
    "# counting how many tracks each artist has"
   ]
  },
  {
   "cell_type": "code",
   "execution_count": 86,
   "id": "43edc550-732b-4127-9687-629c10259919",
   "metadata": {},
   "outputs": [
    {
     "name": "stdout",
     "output_type": "stream",
     "text": [
      "Top Artist: Drake with 20 tracks\n"
     ]
    }
   ],
   "source": [
    "top_artist = artist_counts.idxmax()\n",
    "top_count = artist_counts.max()\n",
    "\n",
    "print(f\"Top Artist: {top_artist} with {top_count} tracks\")"
   ]
  },
  {
   "cell_type": "code",
   "execution_count": 88,
   "id": "0c3cbc74-32a0-4a17-b31b-d66779b8095a",
   "metadata": {},
   "outputs": [
    {
     "data": {
      "image/png": "[encoded data removed]",
      "text/plain": [
       "<Figure size 1200x600 with 1 Axes>"
      ]
     },
     "metadata": {},
     "output_type": "display_data"
    }
   ],
   "source": [
    "plt.figure(figsize=(12,6))\n",
    "sns.countplot(data=df, y='Artist', order=artist_counts.head(10).index, palette='viridis')\n",
    "plt.title('Top 10 Artists by Number of Tracks')\n",
    "plt.xlabel('Track Count')\n",
    "plt.ylabel('Artist')\n",
    "plt.tight_layout()\n",
    "plt.show()"
   ]
  },
  {
   "cell_type": "markdown",
   "id": "ae158996-b2e2-4e6b-994a-e30edbe9aa20",
   "metadata": {},
   "source": [
    "Insights - \n",
    "- Drake leads the dataset with the highest number of tracks\n",
    "    - Drake has over 20 tracks, making him the most featured hip-hop artist in the dataset.\n",
    "    - This highlights his consistent presence and influence in the hip-hop industry.\n",
    "\n",
    "- Several artists are tied in track count\n",
    "    - Travis Scott, 21 Savage, Lil Nas X, Eminem, and others each have around 10–12 tracks.\n",
    "    - This shows a competitive presence among top artists, with many contributing similarly to the genre’s popularity"
   ]
  },
  {
   "cell_type": "markdown",
   "id": "29e28a4b-30de-486c-bf37-d4cae038c482",
   "metadata": {},
   "source": []
  },
  {
   "cell_type": "markdown",
   "id": "9b3eb183-ecdb-494f-bc40-d220d4792f05",
   "metadata": {},
   "source": [
    "**5. What are the top 5 least popular tracks in the dataset? Provide the artist name and track name for each?**"
   ]
  },
  {
   "cell_type": "code",
   "execution_count": 100,
   "id": "1c916e95-aeb6-4d73-b150-034c80663c55",
   "metadata": {},
   "outputs": [
    {
     "data": {
      "text/html": [
       "<div>\n",
       "<style scoped>\n",
       "    .dataframe tbody tr th:only-of-type {\n",
       "        vertical-align: middle;\n",
       "    }\n",
       "\n",
       "    .dataframe tbody tr th {\n",
       "        vertical-align: top;\n",
       "    }\n",
       "\n",
       "    .dataframe thead th {\n",
       "        text-align: right;\n",
       "    }\n",
       "</style>\n",
       "<table border=\"1\" class=\"dataframe\">\n",
       "  <thead>\n",
       "    <tr style=\"text-align: right;\">\n",
       "      <th></th>\n",
       "      <th>Artist</th>\n",
       "      <th>Track Name</th>\n",
       "      <th>Popularity</th>\n",
       "      <th>Duration (ms)</th>\n",
       "      <th>Track ID</th>\n",
       "    </tr>\n",
       "  </thead>\n",
       "  <tbody>\n",
       "    <tr>\n",
       "      <th>207</th>\n",
       "      <td>Pressa</td>\n",
       "      <td>Attachments (feat. Coi Leray)</td>\n",
       "      <td>29</td>\n",
       "      <td>171000</td>\n",
       "      <td>6EfJ8Ct3GHbBz2YlyPnMYb</td>\n",
       "    </tr>\n",
       "    <tr>\n",
       "      <th>231</th>\n",
       "      <td>Justin Bieber</td>\n",
       "      <td>Intentions</td>\n",
       "      <td>35</td>\n",
       "      <td>212853</td>\n",
       "      <td>7jAVt70Xdg8EwOtsFB1ZqK</td>\n",
       "    </tr>\n",
       "    <tr>\n",
       "      <th>435</th>\n",
       "      <td>French Montana</td>\n",
       "      <td>Splash Brothers</td>\n",
       "      <td>44</td>\n",
       "      <td>221863</td>\n",
       "      <td>3fBsEOnzwtlkpS0LxXAZhN</td>\n",
       "    </tr>\n",
       "    <tr>\n",
       "      <th>413</th>\n",
       "      <td>French Montana</td>\n",
       "      <td>Splash Brothers</td>\n",
       "      <td>44</td>\n",
       "      <td>221863</td>\n",
       "      <td>3fBsEOnzwtlkpS0LxXAZhN</td>\n",
       "    </tr>\n",
       "    <tr>\n",
       "      <th>225</th>\n",
       "      <td>Lil Baby</td>\n",
       "      <td>On Me - Remix</td>\n",
       "      <td>47</td>\n",
       "      <td>135444</td>\n",
       "      <td>2uUFVnVFERNxUdcmvEs7LB</td>\n",
       "    </tr>\n",
       "    <tr>\n",
       "      <th>...</th>\n",
       "      <td>...</td>\n",
       "      <td>...</td>\n",
       "      <td>...</td>\n",
       "      <td>...</td>\n",
       "      <td>...</td>\n",
       "    </tr>\n",
       "    <tr>\n",
       "      <th>30</th>\n",
       "      <td>Travis Scott</td>\n",
       "      <td>FE!N (feat. Playboi Carti)</td>\n",
       "      <td>93</td>\n",
       "      <td>191700</td>\n",
       "      <td>42VsgItocQwOQC3XWZ8JNA</td>\n",
       "    </tr>\n",
       "    <tr>\n",
       "      <th>70</th>\n",
       "      <td>21 Savage</td>\n",
       "      <td>redrum</td>\n",
       "      <td>96</td>\n",
       "      <td>270697</td>\n",
       "      <td>52eIcoLUM25zbQupAZYoFh</td>\n",
       "    </tr>\n",
       "    <tr>\n",
       "      <th>260</th>\n",
       "      <td>¥$</td>\n",
       "      <td>CARNIVAL</td>\n",
       "      <td>96</td>\n",
       "      <td>264324</td>\n",
       "      <td>3w0w2T288dec0mgeZZqoNN</td>\n",
       "    </tr>\n",
       "    <tr>\n",
       "      <th>280</th>\n",
       "      <td>¥$</td>\n",
       "      <td>CARNIVAL</td>\n",
       "      <td>96</td>\n",
       "      <td>264324</td>\n",
       "      <td>3w0w2T288dec0mgeZZqoNN</td>\n",
       "    </tr>\n",
       "    <tr>\n",
       "      <th>40</th>\n",
       "      <td>Jack Harlow</td>\n",
       "      <td>Lovin On Me</td>\n",
       "      <td>97</td>\n",
       "      <td>138411</td>\n",
       "      <td>4xhsWYTOGcal8zt0J161CU</td>\n",
       "    </tr>\n",
       "  </tbody>\n",
       "</table>\n",
       "<p>440 rows × 5 columns</p>\n",
       "</div>"
      ],
      "text/plain": [
       "             Artist                     Track Name  Popularity  Duration (ms)  \\\n",
       "207          Pressa  Attachments (feat. Coi Leray)          29         171000   \n",
       "231   Justin Bieber                     Intentions          35         212853   \n",
       "435  French Montana                Splash Brothers          44         221863   \n",
       "413  French Montana                Splash Brothers          44         221863   \n",
       "225        Lil Baby                  On Me - Remix          47         135444   \n",
       "..              ...                            ...         ...            ...   \n",
       "30     Travis Scott     FE!N (feat. Playboi Carti)          93         191700   \n",
       "70        21 Savage                         redrum          96         270697   \n",
       "260              ¥$                       CARNIVAL          96         264324   \n",
       "280              ¥$                       CARNIVAL          96         264324   \n",
       "40      Jack Harlow                    Lovin On Me          97         138411   \n",
       "\n",
       "                   Track ID  \n",
       "207  6EfJ8Ct3GHbBz2YlyPnMYb  \n",
       "231  7jAVt70Xdg8EwOtsFB1ZqK  \n",
       "435  3fBsEOnzwtlkpS0LxXAZhN  \n",
       "413  3fBsEOnzwtlkpS0LxXAZhN  \n",
       "225  2uUFVnVFERNxUdcmvEs7LB  \n",
       "..                      ...  \n",
       "30   42VsgItocQwOQC3XWZ8JNA  \n",
       "70   52eIcoLUM25zbQupAZYoFh  \n",
       "260  3w0w2T288dec0mgeZZqoNN  \n",
       "280  3w0w2T288dec0mgeZZqoNN  \n",
       "40   4xhsWYTOGcal8zt0J161CU  \n",
       "\n",
       "[440 rows x 5 columns]"
      ]
     },
     "execution_count": 100,
     "metadata": {},
     "output_type": "execute_result"
    }
   ],
   "source": [
    "least_popular = df.sort_values(by='Popularity', ascending=True)\n",
    "least_popular"
   ]
  },
  {
   "cell_type": "code",
   "execution_count": 106,
   "id": "d373fecf-383d-4308-97c2-854226054e9c",
   "metadata": {},
   "outputs": [
    {
     "name": "stdout",
     "output_type": "stream",
     "text": [
      "             Artist                     Track Name  Popularity\n",
      "207          Pressa  Attachments (feat. Coi Leray)          29\n",
      "231   Justin Bieber                     Intentions          35\n",
      "435  French Montana                Splash Brothers          44\n",
      "413  French Montana                Splash Brothers          44\n",
      "225        Lil Baby                  On Me - Remix          47\n"
     ]
    }
   ],
   "source": [
    "least_popular_top5 = least_popular[['Artist', 'Track Name', 'Popularity']].head(5)\n",
    "print(least_popular_top5)"
   ]
  },
  {
   "cell_type": "code",
   "execution_count": null,
   "id": "abbaa29c-2e5f-493d-a9cb-48ba3bcc7738",
   "metadata": {},
   "outputs": [],
   "source": []
  },
  {
   "cell_type": "markdown",
   "id": "380874ce-40be-4967-af98-436bf3e0cd5f",
   "metadata": {},
   "source": [
    "**6. Among the top 5 most popular artists, which artist has the highest popularity on average? Calculate and display the average popularity for each artist.**"
   ]
  },
  {
   "cell_type": "code",
   "execution_count": 112,
   "id": "4ec5a1b3-344b-4da9-af6f-368106b39ded",
   "metadata": {},
   "outputs": [
    {
     "data": {
      "text/plain": [
       "Index(['Drake', 'Travis Scott', '21 Savage', '¥$', 'Lil Nas X'], dtype='object', name='Artist')"
      ]
     },
     "execution_count": 112,
     "metadata": {},
     "output_type": "execute_result"
    }
   ],
   "source": [
    "top5_artists = df['Artist'].value_counts().head(5).index\n",
    "top5_artists"
   ]
  },
  {
   "cell_type": "code",
   "execution_count": 116,
   "id": "ce50cbca-1469-4e5c-8b1b-7f873392caf5",
   "metadata": {},
   "outputs": [
    {
     "data": {
      "text/html": [
       "<div>\n",
       "<style scoped>\n",
       "    .dataframe tbody tr th:only-of-type {\n",
       "        vertical-align: middle;\n",
       "    }\n",
       "\n",
       "    .dataframe tbody tr th {\n",
       "        vertical-align: top;\n",
       "    }\n",
       "\n",
       "    .dataframe thead th {\n",
       "        text-align: right;\n",
       "    }\n",
       "</style>\n",
       "<table border=\"1\" class=\"dataframe\">\n",
       "  <thead>\n",
       "    <tr style=\"text-align: right;\">\n",
       "      <th></th>\n",
       "      <th>Artist</th>\n",
       "      <th>Track Name</th>\n",
       "      <th>Popularity</th>\n",
       "      <th>Duration (ms)</th>\n",
       "      <th>Track ID</th>\n",
       "    </tr>\n",
       "  </thead>\n",
       "  <tbody>\n",
       "    <tr>\n",
       "      <th>0</th>\n",
       "      <td>Drake</td>\n",
       "      <td>Rich Baby Daddy (feat. Sexyy Red &amp; SZA)</td>\n",
       "      <td>92</td>\n",
       "      <td>319191</td>\n",
       "      <td>1yeB8MUNeLo9Ek1UEpsyz6</td>\n",
       "    </tr>\n",
       "    <tr>\n",
       "      <th>1</th>\n",
       "      <td>Drake</td>\n",
       "      <td>One Dance</td>\n",
       "      <td>91</td>\n",
       "      <td>173986</td>\n",
       "      <td>1zi7xx7UVEFkmKfv06H8x0</td>\n",
       "    </tr>\n",
       "    <tr>\n",
       "      <th>2</th>\n",
       "      <td>Drake</td>\n",
       "      <td>IDGAF (feat. Yeat)</td>\n",
       "      <td>90</td>\n",
       "      <td>260111</td>\n",
       "      <td>2YSzYUF3jWqb9YP9VXmpjE</td>\n",
       "    </tr>\n",
       "    <tr>\n",
       "      <th>3</th>\n",
       "      <td>Drake</td>\n",
       "      <td>First Person Shooter (feat. J. Cole)</td>\n",
       "      <td>88</td>\n",
       "      <td>247444</td>\n",
       "      <td>7aqfrAY2p9BUSiupwk3svU</td>\n",
       "    </tr>\n",
       "    <tr>\n",
       "      <th>4</th>\n",
       "      <td>Drake</td>\n",
       "      <td>Jimmy Cooks (feat. 21 Savage)</td>\n",
       "      <td>88</td>\n",
       "      <td>218364</td>\n",
       "      <td>3F5CgOj3wFlRv51JsHbxhe</td>\n",
       "    </tr>\n",
       "    <tr>\n",
       "      <th>...</th>\n",
       "      <td>...</td>\n",
       "      <td>...</td>\n",
       "      <td>...</td>\n",
       "      <td>...</td>\n",
       "      <td>...</td>\n",
       "    </tr>\n",
       "    <tr>\n",
       "      <th>318</th>\n",
       "      <td>Lil Nas X</td>\n",
       "      <td>HOLIDAY</td>\n",
       "      <td>71</td>\n",
       "      <td>154997</td>\n",
       "      <td>6zFMeegAMYQo0mt8rXtrli</td>\n",
       "    </tr>\n",
       "    <tr>\n",
       "      <th>319</th>\n",
       "      <td>Lil Nas X</td>\n",
       "      <td>Where Do We Go Now? (Music from Lil Nas X: Lon...</td>\n",
       "      <td>68</td>\n",
       "      <td>195470</td>\n",
       "      <td>0jeRoIMD1LHhUkQEbjkXQv</td>\n",
       "    </tr>\n",
       "    <tr>\n",
       "      <th>410</th>\n",
       "      <td>Drake</td>\n",
       "      <td>Money In The Grave (Drake ft. Rick Ross)</td>\n",
       "      <td>79</td>\n",
       "      <td>205426</td>\n",
       "      <td>5ry2OE6R2zPQFDO85XkgRb</td>\n",
       "    </tr>\n",
       "    <tr>\n",
       "      <th>417</th>\n",
       "      <td>Drake</td>\n",
       "      <td>You Only Live Twice (with Lil Wayne &amp; Rick Ross)</td>\n",
       "      <td>65</td>\n",
       "      <td>213103</td>\n",
       "      <td>50ceCGZ3oD3U5caQV5bP6f</td>\n",
       "    </tr>\n",
       "    <tr>\n",
       "      <th>427</th>\n",
       "      <td>21 Savage</td>\n",
       "      <td>Ghostface Killers (feat. Travis Scott)</td>\n",
       "      <td>73</td>\n",
       "      <td>268933</td>\n",
       "      <td>5u6vkDnOyaf8LsteDAj2ub</td>\n",
       "    </tr>\n",
       "  </tbody>\n",
       "</table>\n",
       "<p>65 rows × 5 columns</p>\n",
       "</div>"
      ],
      "text/plain": [
       "        Artist                                         Track Name  Popularity  \\\n",
       "0        Drake            Rich Baby Daddy (feat. Sexyy Red & SZA)          92   \n",
       "1        Drake                                          One Dance          91   \n",
       "2        Drake                                 IDGAF (feat. Yeat)          90   \n",
       "3        Drake               First Person Shooter (feat. J. Cole)          88   \n",
       "4        Drake                      Jimmy Cooks (feat. 21 Savage)          88   \n",
       "..         ...                                                ...         ...   \n",
       "318  Lil Nas X                                            HOLIDAY          71   \n",
       "319  Lil Nas X  Where Do We Go Now? (Music from Lil Nas X: Lon...          68   \n",
       "410      Drake           Money In The Grave (Drake ft. Rick Ross)          79   \n",
       "417      Drake   You Only Live Twice (with Lil Wayne & Rick Ross)          65   \n",
       "427  21 Savage             Ghostface Killers (feat. Travis Scott)          73   \n",
       "\n",
       "     Duration (ms)                Track ID  \n",
       "0           319191  1yeB8MUNeLo9Ek1UEpsyz6  \n",
       "1           173986  1zi7xx7UVEFkmKfv06H8x0  \n",
       "2           260111  2YSzYUF3jWqb9YP9VXmpjE  \n",
       "3           247444  7aqfrAY2p9BUSiupwk3svU  \n",
       "4           218364  3F5CgOj3wFlRv51JsHbxhe  \n",
       "..             ...                     ...  \n",
       "318         154997  6zFMeegAMYQo0mt8rXtrli  \n",
       "319         195470  0jeRoIMD1LHhUkQEbjkXQv  \n",
       "410         205426  5ry2OE6R2zPQFDO85XkgRb  \n",
       "417         213103  50ceCGZ3oD3U5caQV5bP6f  \n",
       "427         268933  5u6vkDnOyaf8LsteDAj2ub  \n",
       "\n",
       "[65 rows x 5 columns]"
      ]
     },
     "execution_count": 116,
     "metadata": {},
     "output_type": "execute_result"
    }
   ],
   "source": [
    "top5_df = df[df['Artist'].isin(top5_artists)]\n",
    "top5_df"
   ]
  },
  {
   "cell_type": "code",
   "execution_count": 120,
   "id": "d2b153c7-3834-4c8a-b93b-2684b44a86de",
   "metadata": {},
   "outputs": [
    {
     "data": {
      "text/plain": [
       "Artist\n",
       "Travis Scott    87.000000\n",
       "¥$              86.090909\n",
       "21 Savage       84.181818\n",
       "Drake           83.500000\n",
       "Lil Nas X       76.090909\n",
       "Name: Popularity, dtype: float64"
      ]
     },
     "execution_count": 120,
     "metadata": {},
     "output_type": "execute_result"
    }
   ],
   "source": [
    "avg_popularity = top5_df.groupby('Artist')['Popularity'].mean().sort_values(ascending=False)\n",
    "avg_popularity"
   ]
  },
  {
   "cell_type": "markdown",
   "id": "103fe39e-2c12-476c-9c27-9a8691d98b4a",
   "metadata": {},
   "source": [
    "Insights - \n",
    "- Travis Scott at the top has the highest average popularity among the top 5 most frequent artists."
   ]
  },
  {
   "cell_type": "code",
   "execution_count": null,
   "id": "c01386a8-b776-4be0-8975-5365403e8abd",
   "metadata": {},
   "outputs": [],
   "source": []
  },
  {
   "cell_type": "markdown",
   "id": "c0f4766a-4e96-4830-916e-52a4602188c0",
   "metadata": {},
   "source": [
    "**7. For the top 5 most popular artists, what are their most popular tracks? List the track name for each artist.**"
   ]
  },
  {
   "cell_type": "code",
   "execution_count": 125,
   "id": "aad105d2-0623-4c43-bc0c-b16802a072a3",
   "metadata": {},
   "outputs": [
    {
     "data": {
      "text/plain": [
       "Index(['Drake', 'Travis Scott', '21 Savage', '¥$', 'Lil Nas X'], dtype='object', name='Artist')"
      ]
     },
     "execution_count": 125,
     "metadata": {},
     "output_type": "execute_result"
    }
   ],
   "source": [
    "top5_artists = df['Artist'].value_counts().head(5).index\n",
    "top5_artists"
   ]
  },
  {
   "cell_type": "code",
   "execution_count": 129,
   "id": "96825e24-f007-4cff-8d0c-c9bd33e50819",
   "metadata": {},
   "outputs": [
    {
     "data": {
      "text/html": [
       "<div>\n",
       "<style scoped>\n",
       "    .dataframe tbody tr th:only-of-type {\n",
       "        vertical-align: middle;\n",
       "    }\n",
       "\n",
       "    .dataframe tbody tr th {\n",
       "        vertical-align: top;\n",
       "    }\n",
       "\n",
       "    .dataframe thead th {\n",
       "        text-align: right;\n",
       "    }\n",
       "</style>\n",
       "<table border=\"1\" class=\"dataframe\">\n",
       "  <thead>\n",
       "    <tr style=\"text-align: right;\">\n",
       "      <th></th>\n",
       "      <th>Artist</th>\n",
       "      <th>Track Name</th>\n",
       "      <th>Popularity</th>\n",
       "      <th>Duration (ms)</th>\n",
       "      <th>Track ID</th>\n",
       "    </tr>\n",
       "  </thead>\n",
       "  <tbody>\n",
       "    <tr>\n",
       "      <th>0</th>\n",
       "      <td>Drake</td>\n",
       "      <td>Rich Baby Daddy (feat. Sexyy Red &amp; SZA)</td>\n",
       "      <td>92</td>\n",
       "      <td>319191</td>\n",
       "      <td>1yeB8MUNeLo9Ek1UEpsyz6</td>\n",
       "    </tr>\n",
       "    <tr>\n",
       "      <th>1</th>\n",
       "      <td>Drake</td>\n",
       "      <td>One Dance</td>\n",
       "      <td>91</td>\n",
       "      <td>173986</td>\n",
       "      <td>1zi7xx7UVEFkmKfv06H8x0</td>\n",
       "    </tr>\n",
       "    <tr>\n",
       "      <th>2</th>\n",
       "      <td>Drake</td>\n",
       "      <td>IDGAF (feat. Yeat)</td>\n",
       "      <td>90</td>\n",
       "      <td>260111</td>\n",
       "      <td>2YSzYUF3jWqb9YP9VXmpjE</td>\n",
       "    </tr>\n",
       "    <tr>\n",
       "      <th>3</th>\n",
       "      <td>Drake</td>\n",
       "      <td>First Person Shooter (feat. J. Cole)</td>\n",
       "      <td>88</td>\n",
       "      <td>247444</td>\n",
       "      <td>7aqfrAY2p9BUSiupwk3svU</td>\n",
       "    </tr>\n",
       "    <tr>\n",
       "      <th>4</th>\n",
       "      <td>Drake</td>\n",
       "      <td>Jimmy Cooks (feat. 21 Savage)</td>\n",
       "      <td>88</td>\n",
       "      <td>218364</td>\n",
       "      <td>3F5CgOj3wFlRv51JsHbxhe</td>\n",
       "    </tr>\n",
       "    <tr>\n",
       "      <th>...</th>\n",
       "      <td>...</td>\n",
       "      <td>...</td>\n",
       "      <td>...</td>\n",
       "      <td>...</td>\n",
       "      <td>...</td>\n",
       "    </tr>\n",
       "    <tr>\n",
       "      <th>318</th>\n",
       "      <td>Lil Nas X</td>\n",
       "      <td>HOLIDAY</td>\n",
       "      <td>71</td>\n",
       "      <td>154997</td>\n",
       "      <td>6zFMeegAMYQo0mt8rXtrli</td>\n",
       "    </tr>\n",
       "    <tr>\n",
       "      <th>319</th>\n",
       "      <td>Lil Nas X</td>\n",
       "      <td>Where Do We Go Now? (Music from Lil Nas X: Lon...</td>\n",
       "      <td>68</td>\n",
       "      <td>195470</td>\n",
       "      <td>0jeRoIMD1LHhUkQEbjkXQv</td>\n",
       "    </tr>\n",
       "    <tr>\n",
       "      <th>410</th>\n",
       "      <td>Drake</td>\n",
       "      <td>Money In The Grave (Drake ft. Rick Ross)</td>\n",
       "      <td>79</td>\n",
       "      <td>205426</td>\n",
       "      <td>5ry2OE6R2zPQFDO85XkgRb</td>\n",
       "    </tr>\n",
       "    <tr>\n",
       "      <th>417</th>\n",
       "      <td>Drake</td>\n",
       "      <td>You Only Live Twice (with Lil Wayne &amp; Rick Ross)</td>\n",
       "      <td>65</td>\n",
       "      <td>213103</td>\n",
       "      <td>50ceCGZ3oD3U5caQV5bP6f</td>\n",
       "    </tr>\n",
       "    <tr>\n",
       "      <th>427</th>\n",
       "      <td>21 Savage</td>\n",
       "      <td>Ghostface Killers (feat. Travis Scott)</td>\n",
       "      <td>73</td>\n",
       "      <td>268933</td>\n",
       "      <td>5u6vkDnOyaf8LsteDAj2ub</td>\n",
       "    </tr>\n",
       "  </tbody>\n",
       "</table>\n",
       "<p>65 rows × 5 columns</p>\n",
       "</div>"
      ],
      "text/plain": [
       "        Artist                                         Track Name  Popularity  \\\n",
       "0        Drake            Rich Baby Daddy (feat. Sexyy Red & SZA)          92   \n",
       "1        Drake                                          One Dance          91   \n",
       "2        Drake                                 IDGAF (feat. Yeat)          90   \n",
       "3        Drake               First Person Shooter (feat. J. Cole)          88   \n",
       "4        Drake                      Jimmy Cooks (feat. 21 Savage)          88   \n",
       "..         ...                                                ...         ...   \n",
       "318  Lil Nas X                                            HOLIDAY          71   \n",
       "319  Lil Nas X  Where Do We Go Now? (Music from Lil Nas X: Lon...          68   \n",
       "410      Drake           Money In The Grave (Drake ft. Rick Ross)          79   \n",
       "417      Drake   You Only Live Twice (with Lil Wayne & Rick Ross)          65   \n",
       "427  21 Savage             Ghostface Killers (feat. Travis Scott)          73   \n",
       "\n",
       "     Duration (ms)                Track ID  \n",
       "0           319191  1yeB8MUNeLo9Ek1UEpsyz6  \n",
       "1           173986  1zi7xx7UVEFkmKfv06H8x0  \n",
       "2           260111  2YSzYUF3jWqb9YP9VXmpjE  \n",
       "3           247444  7aqfrAY2p9BUSiupwk3svU  \n",
       "4           218364  3F5CgOj3wFlRv51JsHbxhe  \n",
       "..             ...                     ...  \n",
       "318         154997  6zFMeegAMYQo0mt8rXtrli  \n",
       "319         195470  0jeRoIMD1LHhUkQEbjkXQv  \n",
       "410         205426  5ry2OE6R2zPQFDO85XkgRb  \n",
       "417         213103  50ceCGZ3oD3U5caQV5bP6f  \n",
       "427         268933  5u6vkDnOyaf8LsteDAj2ub  \n",
       "\n",
       "[65 rows x 5 columns]"
      ]
     },
     "execution_count": 129,
     "metadata": {},
     "output_type": "execute_result"
    }
   ],
   "source": [
    "top5_df = df[df['Artist'].isin(top5_artists)]\n",
    "top5_df"
   ]
  },
  {
   "cell_type": "code",
   "execution_count": 137,
   "id": "2c2bcca4-183c-4e53-939f-e32813f613f1",
   "metadata": {},
   "outputs": [],
   "source": [
    "most_popular_tracks = top5_df.loc[top5_df.groupby('Artist')['Popularity'].idxmax()][['Artist', 'Track Name', 'Popularity']]"
   ]
  },
  {
   "cell_type": "code",
   "execution_count": 139,
   "id": "15cd8a69-b07d-4e2f-86be-165e76a24d95",
   "metadata": {},
   "outputs": [
    {
     "data": {
      "text/html": [
       "<div>\n",
       "<style scoped>\n",
       "    .dataframe tbody tr th:only-of-type {\n",
       "        vertical-align: middle;\n",
       "    }\n",
       "\n",
       "    .dataframe tbody tr th {\n",
       "        vertical-align: top;\n",
       "    }\n",
       "\n",
       "    .dataframe thead th {\n",
       "        text-align: right;\n",
       "    }\n",
       "</style>\n",
       "<table border=\"1\" class=\"dataframe\">\n",
       "  <thead>\n",
       "    <tr style=\"text-align: right;\">\n",
       "      <th></th>\n",
       "      <th>Artist</th>\n",
       "      <th>Track Name</th>\n",
       "      <th>Popularity</th>\n",
       "    </tr>\n",
       "  </thead>\n",
       "  <tbody>\n",
       "    <tr>\n",
       "      <th>70</th>\n",
       "      <td>21 Savage</td>\n",
       "      <td>redrum</td>\n",
       "      <td>96</td>\n",
       "    </tr>\n",
       "    <tr>\n",
       "      <th>0</th>\n",
       "      <td>Drake</td>\n",
       "      <td>Rich Baby Daddy (feat. Sexyy Red &amp; SZA)</td>\n",
       "      <td>92</td>\n",
       "    </tr>\n",
       "    <tr>\n",
       "      <th>312</th>\n",
       "      <td>Lil Nas X</td>\n",
       "      <td>THATS WHAT I WANT</td>\n",
       "      <td>81</td>\n",
       "    </tr>\n",
       "    <tr>\n",
       "      <th>30</th>\n",
       "      <td>Travis Scott</td>\n",
       "      <td>FE!N (feat. Playboi Carti)</td>\n",
       "      <td>93</td>\n",
       "    </tr>\n",
       "    <tr>\n",
       "      <th>260</th>\n",
       "      <td>¥$</td>\n",
       "      <td>CARNIVAL</td>\n",
       "      <td>96</td>\n",
       "    </tr>\n",
       "  </tbody>\n",
       "</table>\n",
       "</div>"
      ],
      "text/plain": [
       "           Artist                               Track Name  Popularity\n",
       "70      21 Savage                                   redrum          96\n",
       "0           Drake  Rich Baby Daddy (feat. Sexyy Red & SZA)          92\n",
       "312     Lil Nas X                        THATS WHAT I WANT          81\n",
       "30   Travis Scott               FE!N (feat. Playboi Carti)          93\n",
       "260            ¥$                                 CARNIVAL          96"
      ]
     },
     "execution_count": 139,
     "metadata": {},
     "output_type": "execute_result"
    }
   ],
   "source": [
    "most_popular_tracks"
   ]
  },
  {
   "cell_type": "markdown",
   "id": "b2886387-9c12-4481-b2ce-f0f7fb3a0fd3",
   "metadata": {},
   "source": []
  },
  {
   "cell_type": "markdown",
   "id": "b660645d-9e2a-454b-b56a-3cad8bc1e537",
   "metadata": {},
   "source": [
    "**8. Visualize relationships between multiple numerical variables simultaneously using a pair plot.**"
   ]
  },
  {
   "cell_type": "code",
   "execution_count": 142,
   "id": "045b68b2-2a65-44ee-9677-1b1786f8dfec",
   "metadata": {},
   "outputs": [
    {
     "data": {
      "text/plain": [
       "Index(['Artist', 'Track Name', 'Popularity', 'Duration (ms)', 'Track ID'], dtype='object')"
      ]
     },
     "execution_count": 142,
     "metadata": {},
     "output_type": "execute_result"
    }
   ],
   "source": [
    "df.columns"
   ]
  },
  {
   "cell_type": "code",
   "execution_count": 144,
   "id": "7fea07f9-5699-4388-842a-0781d3fba304",
   "metadata": {},
   "outputs": [
    {
     "data": {
      "text/html": [
       "<div>\n",
       "<style scoped>\n",
       "    .dataframe tbody tr th:only-of-type {\n",
       "        vertical-align: middle;\n",
       "    }\n",
       "\n",
       "    .dataframe tbody tr th {\n",
       "        vertical-align: top;\n",
       "    }\n",
       "\n",
       "    .dataframe thead th {\n",
       "        text-align: right;\n",
       "    }\n",
       "</style>\n",
       "<table border=\"1\" class=\"dataframe\">\n",
       "  <thead>\n",
       "    <tr style=\"text-align: right;\">\n",
       "      <th></th>\n",
       "      <th>Artist</th>\n",
       "      <th>Track Name</th>\n",
       "      <th>Popularity</th>\n",
       "      <th>Duration (ms)</th>\n",
       "      <th>Track ID</th>\n",
       "    </tr>\n",
       "  </thead>\n",
       "  <tbody>\n",
       "    <tr>\n",
       "      <th>0</th>\n",
       "      <td>Drake</td>\n",
       "      <td>Rich Baby Daddy (feat. Sexyy Red &amp; SZA)</td>\n",
       "      <td>92</td>\n",
       "      <td>319191</td>\n",
       "      <td>1yeB8MUNeLo9Ek1UEpsyz6</td>\n",
       "    </tr>\n",
       "    <tr>\n",
       "      <th>1</th>\n",
       "      <td>Drake</td>\n",
       "      <td>One Dance</td>\n",
       "      <td>91</td>\n",
       "      <td>173986</td>\n",
       "      <td>1zi7xx7UVEFkmKfv06H8x0</td>\n",
       "    </tr>\n",
       "    <tr>\n",
       "      <th>2</th>\n",
       "      <td>Drake</td>\n",
       "      <td>IDGAF (feat. Yeat)</td>\n",
       "      <td>90</td>\n",
       "      <td>260111</td>\n",
       "      <td>2YSzYUF3jWqb9YP9VXmpjE</td>\n",
       "    </tr>\n",
       "    <tr>\n",
       "      <th>3</th>\n",
       "      <td>Drake</td>\n",
       "      <td>First Person Shooter (feat. J. Cole)</td>\n",
       "      <td>88</td>\n",
       "      <td>247444</td>\n",
       "      <td>7aqfrAY2p9BUSiupwk3svU</td>\n",
       "    </tr>\n",
       "    <tr>\n",
       "      <th>4</th>\n",
       "      <td>Drake</td>\n",
       "      <td>Jimmy Cooks (feat. 21 Savage)</td>\n",
       "      <td>88</td>\n",
       "      <td>218364</td>\n",
       "      <td>3F5CgOj3wFlRv51JsHbxhe</td>\n",
       "    </tr>\n",
       "  </tbody>\n",
       "</table>\n",
       "</div>"
      ],
      "text/plain": [
       "  Artist                               Track Name  Popularity  Duration (ms)  \\\n",
       "0  Drake  Rich Baby Daddy (feat. Sexyy Red & SZA)          92         319191   \n",
       "1  Drake                                One Dance          91         173986   \n",
       "2  Drake                       IDGAF (feat. Yeat)          90         260111   \n",
       "3  Drake     First Person Shooter (feat. J. Cole)          88         247444   \n",
       "4  Drake            Jimmy Cooks (feat. 21 Savage)          88         218364   \n",
       "\n",
       "                 Track ID  \n",
       "0  1yeB8MUNeLo9Ek1UEpsyz6  \n",
       "1  1zi7xx7UVEFkmKfv06H8x0  \n",
       "2  2YSzYUF3jWqb9YP9VXmpjE  \n",
       "3  7aqfrAY2p9BUSiupwk3svU  \n",
       "4  3F5CgOj3wFlRv51JsHbxhe  "
      ]
     },
     "execution_count": 144,
     "metadata": {},
     "output_type": "execute_result"
    }
   ],
   "source": [
    "df.head(5)"
   ]
  },
  {
   "cell_type": "code",
   "execution_count": 146,
   "id": "09c78a78-6dce-480e-888a-1c567b2345bc",
   "metadata": {},
   "outputs": [
    {
     "data": {
      "text/html": [
       "<div>\n",
       "<style scoped>\n",
       "    .dataframe tbody tr th:only-of-type {\n",
       "        vertical-align: middle;\n",
       "    }\n",
       "\n",
       "    .dataframe tbody tr th {\n",
       "        vertical-align: top;\n",
       "    }\n",
       "\n",
       "    .dataframe thead th {\n",
       "        text-align: right;\n",
       "    }\n",
       "</style>\n",
       "<table border=\"1\" class=\"dataframe\">\n",
       "  <thead>\n",
       "    <tr style=\"text-align: right;\">\n",
       "      <th></th>\n",
       "      <th>Popularity</th>\n",
       "      <th>Duration (ms)</th>\n",
       "    </tr>\n",
       "  </thead>\n",
       "  <tbody>\n",
       "    <tr>\n",
       "      <th>0</th>\n",
       "      <td>92</td>\n",
       "      <td>319191</td>\n",
       "    </tr>\n",
       "    <tr>\n",
       "      <th>1</th>\n",
       "      <td>91</td>\n",
       "      <td>173986</td>\n",
       "    </tr>\n",
       "    <tr>\n",
       "      <th>2</th>\n",
       "      <td>90</td>\n",
       "      <td>260111</td>\n",
       "    </tr>\n",
       "    <tr>\n",
       "      <th>3</th>\n",
       "      <td>88</td>\n",
       "      <td>247444</td>\n",
       "    </tr>\n",
       "    <tr>\n",
       "      <th>4</th>\n",
       "      <td>88</td>\n",
       "      <td>218364</td>\n",
       "    </tr>\n",
       "    <tr>\n",
       "      <th>...</th>\n",
       "      <td>...</td>\n",
       "      <td>...</td>\n",
       "    </tr>\n",
       "    <tr>\n",
       "      <th>435</th>\n",
       "      <td>44</td>\n",
       "      <td>221863</td>\n",
       "    </tr>\n",
       "    <tr>\n",
       "      <th>436</th>\n",
       "      <td>64</td>\n",
       "      <td>191900</td>\n",
       "    </tr>\n",
       "    <tr>\n",
       "      <th>437</th>\n",
       "      <td>69</td>\n",
       "      <td>283693</td>\n",
       "    </tr>\n",
       "    <tr>\n",
       "      <th>438</th>\n",
       "      <td>65</td>\n",
       "      <td>220408</td>\n",
       "    </tr>\n",
       "    <tr>\n",
       "      <th>439</th>\n",
       "      <td>68</td>\n",
       "      <td>267720</td>\n",
       "    </tr>\n",
       "  </tbody>\n",
       "</table>\n",
       "<p>440 rows × 2 columns</p>\n",
       "</div>"
      ],
      "text/plain": [
       "     Popularity  Duration (ms)\n",
       "0            92         319191\n",
       "1            91         173986\n",
       "2            90         260111\n",
       "3            88         247444\n",
       "4            88         218364\n",
       "..          ...            ...\n",
       "435          44         221863\n",
       "436          64         191900\n",
       "437          69         283693\n",
       "438          65         220408\n",
       "439          68         267720\n",
       "\n",
       "[440 rows x 2 columns]"
      ]
     },
     "execution_count": 146,
     "metadata": {},
     "output_type": "execute_result"
    }
   ],
   "source": [
    "# Selecting only numeric columns for the plot\n",
    "pair_data = df[['Popularity', 'Duration (ms)']]  # Add more numeric columns if available\n",
    "pair_data"
   ]
  },
  {
   "cell_type": "code",
   "execution_count": 148,
   "id": "533a5ae4-0c82-48bd-aaba-ac9a34ea6e4f",
   "metadata": {},
   "outputs": [
    {
     "data": {
      "image/png": "[encoded data removed]",
      "text/plain": [
       "<Figure size 500x500 with 5 Axes>"
      ]
     },
     "metadata": {},
     "output_type": "display_data"
    }
   ],
   "source": [
    "sns.pairplot(pair_data, diag_kind='kde', corner=True)\n",
    "plt.suptitle(\"Pair Plot of Numeric Features\", y=1.02)\n",
    "plt.tight_layout()\n",
    "plt.show()"
   ]
  },
  {
   "cell_type": "markdown",
   "id": "83ec10b0-23a7-4dd3-8de0-4f3b5fcfffeb",
   "metadata": {},
   "source": [
    "Insights - \n",
    "- Popularity is skewed toward higher values\n",
    "    - The distribution of Popularity shows a right-skew, meaning more tracks are popular, with scores clustering between 60 and 90.\n",
    "\n",
    "- Duration does not strongly influence popularity\n",
    "    - The scatter plot shows no strong trend or correlation between Duration (ms) and Popularity, which matches our earlier findings (correlation ≈ 0.04).\n",
    "    - Tracks of various durations can be either popular or not."
   ]
  },
  {
   "cell_type": "markdown",
   "id": "8148dfde-f325-4ee9-be1c-c17aaaaf524b",
   "metadata": {},
   "source": []
  },
  {
   "cell_type": "markdown",
   "id": "01539c1c-48e3-402f-be10-8c814f0c673f",
   "metadata": {},
   "source": [
    "**9. Does the duration of tracks vary significantly across different artists? Explore this visually using a box plot or violin plot?**"
   ]
  },
  {
   "cell_type": "code",
   "execution_count": 155,
   "id": "afb3a205-9901-48c6-99d7-b0c9d7d34472",
   "metadata": {},
   "outputs": [],
   "source": [
    "top_artists = df['Artist'].value_counts().head(10).index"
   ]
  },
  {
   "cell_type": "code",
   "execution_count": 157,
   "id": "520e404c-4394-4332-ac31-605f2b399561",
   "metadata": {},
   "outputs": [
    {
     "data": {
      "text/plain": [
       "Index(['Drake', 'Travis Scott', '21 Savage', '¥$', 'Lil Nas X', 'Eminem',\n",
       "       'Flo Rida', 'JAY-Z', 'Ludacris', 'Lil Baby'],\n",
       "      dtype='object', name='Artist')"
      ]
     },
     "execution_count": 157,
     "metadata": {},
     "output_type": "execute_result"
    }
   ],
   "source": [
    "top_artists"
   ]
  },
  {
   "cell_type": "code",
   "execution_count": 161,
   "id": "4b8a55ca-1bc7-42c3-9a93-f7d81d84d2b4",
   "metadata": {},
   "outputs": [
    {
     "data": {
      "text/html": [
       "<div>\n",
       "<style scoped>\n",
       "    .dataframe tbody tr th:only-of-type {\n",
       "        vertical-align: middle;\n",
       "    }\n",
       "\n",
       "    .dataframe tbody tr th {\n",
       "        vertical-align: top;\n",
       "    }\n",
       "\n",
       "    .dataframe thead th {\n",
       "        text-align: right;\n",
       "    }\n",
       "</style>\n",
       "<table border=\"1\" class=\"dataframe\">\n",
       "  <thead>\n",
       "    <tr style=\"text-align: right;\">\n",
       "      <th></th>\n",
       "      <th>Artist</th>\n",
       "      <th>Track Name</th>\n",
       "      <th>Popularity</th>\n",
       "      <th>Duration (ms)</th>\n",
       "      <th>Track ID</th>\n",
       "    </tr>\n",
       "  </thead>\n",
       "  <tbody>\n",
       "    <tr>\n",
       "      <th>0</th>\n",
       "      <td>Drake</td>\n",
       "      <td>Rich Baby Daddy (feat. Sexyy Red &amp; SZA)</td>\n",
       "      <td>92</td>\n",
       "      <td>319191</td>\n",
       "      <td>1yeB8MUNeLo9Ek1UEpsyz6</td>\n",
       "    </tr>\n",
       "    <tr>\n",
       "      <th>1</th>\n",
       "      <td>Drake</td>\n",
       "      <td>One Dance</td>\n",
       "      <td>91</td>\n",
       "      <td>173986</td>\n",
       "      <td>1zi7xx7UVEFkmKfv06H8x0</td>\n",
       "    </tr>\n",
       "    <tr>\n",
       "      <th>2</th>\n",
       "      <td>Drake</td>\n",
       "      <td>IDGAF (feat. Yeat)</td>\n",
       "      <td>90</td>\n",
       "      <td>260111</td>\n",
       "      <td>2YSzYUF3jWqb9YP9VXmpjE</td>\n",
       "    </tr>\n",
       "    <tr>\n",
       "      <th>3</th>\n",
       "      <td>Drake</td>\n",
       "      <td>First Person Shooter (feat. J. Cole)</td>\n",
       "      <td>88</td>\n",
       "      <td>247444</td>\n",
       "      <td>7aqfrAY2p9BUSiupwk3svU</td>\n",
       "    </tr>\n",
       "    <tr>\n",
       "      <th>4</th>\n",
       "      <td>Drake</td>\n",
       "      <td>Jimmy Cooks (feat. 21 Savage)</td>\n",
       "      <td>88</td>\n",
       "      <td>218364</td>\n",
       "      <td>3F5CgOj3wFlRv51JsHbxhe</td>\n",
       "    </tr>\n",
       "    <tr>\n",
       "      <th>...</th>\n",
       "      <td>...</td>\n",
       "      <td>...</td>\n",
       "      <td>...</td>\n",
       "      <td>...</td>\n",
       "      <td>...</td>\n",
       "    </tr>\n",
       "    <tr>\n",
       "      <th>378</th>\n",
       "      <td>Ludacris</td>\n",
       "      <td>Blueberry Yum Yum</td>\n",
       "      <td>63</td>\n",
       "      <td>235093</td>\n",
       "      <td>26liGJfeDiHLVn0qTETkt1</td>\n",
       "    </tr>\n",
       "    <tr>\n",
       "      <th>379</th>\n",
       "      <td>Ludacris</td>\n",
       "      <td>Rollout (My Business)</td>\n",
       "      <td>62</td>\n",
       "      <td>296586</td>\n",
       "      <td>4SyadrABZJIjeND1HPJS31</td>\n",
       "    </tr>\n",
       "    <tr>\n",
       "      <th>410</th>\n",
       "      <td>Drake</td>\n",
       "      <td>Money In The Grave (Drake ft. Rick Ross)</td>\n",
       "      <td>79</td>\n",
       "      <td>205426</td>\n",
       "      <td>5ry2OE6R2zPQFDO85XkgRb</td>\n",
       "    </tr>\n",
       "    <tr>\n",
       "      <th>417</th>\n",
       "      <td>Drake</td>\n",
       "      <td>You Only Live Twice (with Lil Wayne &amp; Rick Ross)</td>\n",
       "      <td>65</td>\n",
       "      <td>213103</td>\n",
       "      <td>50ceCGZ3oD3U5caQV5bP6f</td>\n",
       "    </tr>\n",
       "    <tr>\n",
       "      <th>427</th>\n",
       "      <td>21 Savage</td>\n",
       "      <td>Ghostface Killers (feat. Travis Scott)</td>\n",
       "      <td>73</td>\n",
       "      <td>268933</td>\n",
       "      <td>5u6vkDnOyaf8LsteDAj2ub</td>\n",
       "    </tr>\n",
       "  </tbody>\n",
       "</table>\n",
       "<p>116 rows × 5 columns</p>\n",
       "</div>"
      ],
      "text/plain": [
       "        Artist                                        Track Name  Popularity  \\\n",
       "0        Drake           Rich Baby Daddy (feat. Sexyy Red & SZA)          92   \n",
       "1        Drake                                         One Dance          91   \n",
       "2        Drake                                IDGAF (feat. Yeat)          90   \n",
       "3        Drake              First Person Shooter (feat. J. Cole)          88   \n",
       "4        Drake                     Jimmy Cooks (feat. 21 Savage)          88   \n",
       "..         ...                                               ...         ...   \n",
       "378   Ludacris                                 Blueberry Yum Yum          63   \n",
       "379   Ludacris                             Rollout (My Business)          62   \n",
       "410      Drake          Money In The Grave (Drake ft. Rick Ross)          79   \n",
       "417      Drake  You Only Live Twice (with Lil Wayne & Rick Ross)          65   \n",
       "427  21 Savage            Ghostface Killers (feat. Travis Scott)          73   \n",
       "\n",
       "     Duration (ms)                Track ID  \n",
       "0           319191  1yeB8MUNeLo9Ek1UEpsyz6  \n",
       "1           173986  1zi7xx7UVEFkmKfv06H8x0  \n",
       "2           260111  2YSzYUF3jWqb9YP9VXmpjE  \n",
       "3           247444  7aqfrAY2p9BUSiupwk3svU  \n",
       "4           218364  3F5CgOj3wFlRv51JsHbxhe  \n",
       "..             ...                     ...  \n",
       "378         235093  26liGJfeDiHLVn0qTETkt1  \n",
       "379         296586  4SyadrABZJIjeND1HPJS31  \n",
       "410         205426  5ry2OE6R2zPQFDO85XkgRb  \n",
       "417         213103  50ceCGZ3oD3U5caQV5bP6f  \n",
       "427         268933  5u6vkDnOyaf8LsteDAj2ub  \n",
       "\n",
       "[116 rows x 5 columns]"
      ]
     },
     "execution_count": 161,
     "metadata": {},
     "output_type": "execute_result"
    }
   ],
   "source": [
    "df_top = df[df['Artist'].isin(top_artists)]\n",
    "df_top"
   ]
  },
  {
   "cell_type": "code",
   "execution_count": 163,
   "id": "8ba6c158-bbd9-4222-aa24-b37b7289b7e1",
   "metadata": {},
   "outputs": [
    {
     "data": {
      "image/png": "[encoded data removed]",
      "text/plain": [
       "<Figure size 1200x600 with 1 Axes>"
      ]
     },
     "metadata": {},
     "output_type": "display_data"
    }
   ],
   "source": [
    "plt.figure(figsize=(12,6))\n",
    "sns.boxplot(data=df_top, x='Artist', y='Duration (ms)', palette='Set3')\n",
    "plt.title('Track Duration Across Top 10 Artists (Box Plot)')\n",
    "plt.xticks(rotation=45)\n",
    "plt.tight_layout()\n",
    "plt.show()"
   ]
  },
  {
   "cell_type": "markdown",
   "id": "c2c61d7a-e921-4859-85da-1429591aa4dc",
   "metadata": {},
   "source": [
    "Insights - \n",
    "\n",
    "- Eminem and Travis Scott tend to have longer tracks\n",
    "    - Eminem has one of the highest medians and a wider range, indicating more lengthy and diverse tracks.\n",
    "    - Travis Scott also shows a large spread — some songs exceeding 350,000 ms (~6 minutes).\n",
    "\n",
    "- Lil Baby and Lil Nas X usually make shorter tracks\n",
    "    - Their box plots are tight and lower, centered around 140,000–180,000 ms (2.3–3 mins).\n",
    "    - This suggests a consistent short-duration style — possibly targeting streaming trends."
   ]
  },
  {
   "cell_type": "markdown",
   "id": "ccad7ac4-d057-4295-b385-e793399e4c54",
   "metadata": {},
   "source": []
  },
  {
   "cell_type": "markdown",
   "id": "abcaf5a1-e590-43c8-9dd3-b2e6c8b6b7b1",
   "metadata": {},
   "source": [
    "**10.  How does the distribution of track popularity vary for different artists? Visualize this using a swarm plot or a violin plot.**"
   ]
  },
  {
   "cell_type": "code",
   "execution_count": 167,
   "id": "8dc6394f-c338-4405-a5b3-4fbeffd1b9f6",
   "metadata": {},
   "outputs": [
    {
     "data": {
      "text/plain": [
       "Index(['Drake', 'Travis Scott', '21 Savage', '¥$', 'Lil Nas X', 'Eminem',\n",
       "       'Flo Rida', 'JAY-Z', 'Ludacris', 'Lil Baby'],\n",
       "      dtype='object', name='Artist')"
      ]
     },
     "execution_count": 167,
     "metadata": {},
     "output_type": "execute_result"
    }
   ],
   "source": [
    "top_artists = df['Artist'].value_counts().head(10).index\n",
    "top_artists"
   ]
  },
  {
   "cell_type": "code",
   "execution_count": 169,
   "id": "b449452c-579b-4443-a653-0fa40c75f235",
   "metadata": {},
   "outputs": [
    {
     "data": {
      "text/html": [
       "<div>\n",
       "<style scoped>\n",
       "    .dataframe tbody tr th:only-of-type {\n",
       "        vertical-align: middle;\n",
       "    }\n",
       "\n",
       "    .dataframe tbody tr th {\n",
       "        vertical-align: top;\n",
       "    }\n",
       "\n",
       "    .dataframe thead th {\n",
       "        text-align: right;\n",
       "    }\n",
       "</style>\n",
       "<table border=\"1\" class=\"dataframe\">\n",
       "  <thead>\n",
       "    <tr style=\"text-align: right;\">\n",
       "      <th></th>\n",
       "      <th>Artist</th>\n",
       "      <th>Track Name</th>\n",
       "      <th>Popularity</th>\n",
       "      <th>Duration (ms)</th>\n",
       "      <th>Track ID</th>\n",
       "    </tr>\n",
       "  </thead>\n",
       "  <tbody>\n",
       "    <tr>\n",
       "      <th>0</th>\n",
       "      <td>Drake</td>\n",
       "      <td>Rich Baby Daddy (feat. Sexyy Red &amp; SZA)</td>\n",
       "      <td>92</td>\n",
       "      <td>319191</td>\n",
       "      <td>1yeB8MUNeLo9Ek1UEpsyz6</td>\n",
       "    </tr>\n",
       "    <tr>\n",
       "      <th>1</th>\n",
       "      <td>Drake</td>\n",
       "      <td>One Dance</td>\n",
       "      <td>91</td>\n",
       "      <td>173986</td>\n",
       "      <td>1zi7xx7UVEFkmKfv06H8x0</td>\n",
       "    </tr>\n",
       "    <tr>\n",
       "      <th>2</th>\n",
       "      <td>Drake</td>\n",
       "      <td>IDGAF (feat. Yeat)</td>\n",
       "      <td>90</td>\n",
       "      <td>260111</td>\n",
       "      <td>2YSzYUF3jWqb9YP9VXmpjE</td>\n",
       "    </tr>\n",
       "    <tr>\n",
       "      <th>3</th>\n",
       "      <td>Drake</td>\n",
       "      <td>First Person Shooter (feat. J. Cole)</td>\n",
       "      <td>88</td>\n",
       "      <td>247444</td>\n",
       "      <td>7aqfrAY2p9BUSiupwk3svU</td>\n",
       "    </tr>\n",
       "    <tr>\n",
       "      <th>4</th>\n",
       "      <td>Drake</td>\n",
       "      <td>Jimmy Cooks (feat. 21 Savage)</td>\n",
       "      <td>88</td>\n",
       "      <td>218364</td>\n",
       "      <td>3F5CgOj3wFlRv51JsHbxhe</td>\n",
       "    </tr>\n",
       "    <tr>\n",
       "      <th>...</th>\n",
       "      <td>...</td>\n",
       "      <td>...</td>\n",
       "      <td>...</td>\n",
       "      <td>...</td>\n",
       "      <td>...</td>\n",
       "    </tr>\n",
       "    <tr>\n",
       "      <th>378</th>\n",
       "      <td>Ludacris</td>\n",
       "      <td>Blueberry Yum Yum</td>\n",
       "      <td>63</td>\n",
       "      <td>235093</td>\n",
       "      <td>26liGJfeDiHLVn0qTETkt1</td>\n",
       "    </tr>\n",
       "    <tr>\n",
       "      <th>379</th>\n",
       "      <td>Ludacris</td>\n",
       "      <td>Rollout (My Business)</td>\n",
       "      <td>62</td>\n",
       "      <td>296586</td>\n",
       "      <td>4SyadrABZJIjeND1HPJS31</td>\n",
       "    </tr>\n",
       "    <tr>\n",
       "      <th>410</th>\n",
       "      <td>Drake</td>\n",
       "      <td>Money In The Grave (Drake ft. Rick Ross)</td>\n",
       "      <td>79</td>\n",
       "      <td>205426</td>\n",
       "      <td>5ry2OE6R2zPQFDO85XkgRb</td>\n",
       "    </tr>\n",
       "    <tr>\n",
       "      <th>417</th>\n",
       "      <td>Drake</td>\n",
       "      <td>You Only Live Twice (with Lil Wayne &amp; Rick Ross)</td>\n",
       "      <td>65</td>\n",
       "      <td>213103</td>\n",
       "      <td>50ceCGZ3oD3U5caQV5bP6f</td>\n",
       "    </tr>\n",
       "    <tr>\n",
       "      <th>427</th>\n",
       "      <td>21 Savage</td>\n",
       "      <td>Ghostface Killers (feat. Travis Scott)</td>\n",
       "      <td>73</td>\n",
       "      <td>268933</td>\n",
       "      <td>5u6vkDnOyaf8LsteDAj2ub</td>\n",
       "    </tr>\n",
       "  </tbody>\n",
       "</table>\n",
       "<p>116 rows × 5 columns</p>\n",
       "</div>"
      ],
      "text/plain": [
       "        Artist                                        Track Name  Popularity  \\\n",
       "0        Drake           Rich Baby Daddy (feat. Sexyy Red & SZA)          92   \n",
       "1        Drake                                         One Dance          91   \n",
       "2        Drake                                IDGAF (feat. Yeat)          90   \n",
       "3        Drake              First Person Shooter (feat. J. Cole)          88   \n",
       "4        Drake                     Jimmy Cooks (feat. 21 Savage)          88   \n",
       "..         ...                                               ...         ...   \n",
       "378   Ludacris                                 Blueberry Yum Yum          63   \n",
       "379   Ludacris                             Rollout (My Business)          62   \n",
       "410      Drake          Money In The Grave (Drake ft. Rick Ross)          79   \n",
       "417      Drake  You Only Live Twice (with Lil Wayne & Rick Ross)          65   \n",
       "427  21 Savage            Ghostface Killers (feat. Travis Scott)          73   \n",
       "\n",
       "     Duration (ms)                Track ID  \n",
       "0           319191  1yeB8MUNeLo9Ek1UEpsyz6  \n",
       "1           173986  1zi7xx7UVEFkmKfv06H8x0  \n",
       "2           260111  2YSzYUF3jWqb9YP9VXmpjE  \n",
       "3           247444  7aqfrAY2p9BUSiupwk3svU  \n",
       "4           218364  3F5CgOj3wFlRv51JsHbxhe  \n",
       "..             ...                     ...  \n",
       "378         235093  26liGJfeDiHLVn0qTETkt1  \n",
       "379         296586  4SyadrABZJIjeND1HPJS31  \n",
       "410         205426  5ry2OE6R2zPQFDO85XkgRb  \n",
       "417         213103  50ceCGZ3oD3U5caQV5bP6f  \n",
       "427         268933  5u6vkDnOyaf8LsteDAj2ub  \n",
       "\n",
       "[116 rows x 5 columns]"
      ]
     },
     "execution_count": 169,
     "metadata": {},
     "output_type": "execute_result"
    }
   ],
   "source": [
    "df_top = df[df['Artist'].isin(top_artists)]\n",
    "df_top"
   ]
  },
  {
   "cell_type": "code",
   "execution_count": 171,
   "id": "bb7b9c94-2c6e-41d4-801b-c7a05510d436",
   "metadata": {},
   "outputs": [
    {
     "data": {
      "image/png": "[encoded data removed]",
      "text/plain": [
       "<Figure size 1200x600 with 1 Axes>"
      ]
     },
     "metadata": {},
     "output_type": "display_data"
    }
   ],
   "source": [
    "plt.figure(figsize=(12,6))\n",
    "sns.swarmplot(data=df_top, x='Artist', y='Popularity', palette='Set2', size=4)\n",
    "plt.title('Track Popularity per Artist (Swarm Plot)')\n",
    "plt.xticks(rotation=45)\n",
    "plt.tight_layout()\n",
    "plt.show()"
   ]
  },
  {
   "cell_type": "markdown",
   "id": "9bc8d37e-f94f-4fd0-8b43-ff165b30adc8",
   "metadata": {},
   "source": [
    "Insights- Distribution of Track Popularity Across Artists\n",
    "- Drake, Travis Scott, and Y$ have consistently high popularity\n",
    "    - Their tracks are tightly packed in the 80–95 range.\n",
    "    - This indicates a strong fan base and consistent success across their releases.\n",
    "\n",
    "- Ludacris and Lil Baby have more variation\n",
    "    - Ludacris has several tracks clustered below 70, including some below 60 — showing less consistent popularity.\n",
    "    - Lil Baby has a wider range too, with some tracks as low as 48, suggesting mixed audience reception."
   ]
  },
  {
   "cell_type": "code",
   "execution_count": null,
   "id": "00f1b9f8-a75a-4816-8187-9a8fc7f2a84e",
   "metadata": {},
   "outputs": [],
   "source": []
  }
 ],
 "metadata": {
  "kernelspec": {
   "display_name": "Python 3 (ipykernel)",
   "language": "python",
   "name": "python3"
  },
  "language_info": {
   "codemirror_mode": {
    "name": "ipython",
    "version": 3
   },
   "file_extension": ".py",
   "mimetype": "text/x-python",
   "name": "python",
   "nbconvert_exporter": "python",
   "pygments_lexer": "ipython3",
   "version": "3.12.7"
  }
 },
 "nbformat": 4,
 "nbformat_minor": 5
}
