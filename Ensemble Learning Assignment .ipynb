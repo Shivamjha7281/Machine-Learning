{
 "cells": [
  {
   "cell_type": "markdown",
   "id": "1130d51a-00a5-4d41-91b3-1b0823664b16",
   "metadata": {},
   "source": [
    "# Theoretical"
   ]
  },
  {
   "cell_type": "markdown",
   "id": "fd0e51ef-7a8f-4618-aa61-9146696008b5",
   "metadata": {},
   "source": [
    "**1. Can we use Bagging for regression problems?**"
   ]
  },
  {
   "cell_type": "markdown",
   "id": "bc7da9bb-2c1f-4988-8a1b-9c8c11689fc5",
   "metadata": {},
   "source": [
    "Yes, Bagging can be used for regression problems. \n",
    "- Bagging stands for Bootstrap Aggregating, which combines predictions from multiple models trained on random subsets of data to reduce variance.\n",
    "\n",
    "- In regression, each base model (like a Decision Tree Regressor) outputs a numeric value, and the final prediction is the average of all models' outputs.\n",
    "\n",
    "- BaggingRegressor in sklearn is the tool specifically designed for this task — it works similarly to BaggingClassifier but for continuous targets.\n",
    "\n",
    "- It helps to reduce overfitting in high-variance models (like decision trees) and improves prediction stability and accuracy.\n",
    "\n",
    "- Bagging is especially useful when the base models are unstable but highly accurate individually, like in Random Forest Regressors."
   ]
  },
  {
   "cell_type": "markdown",
   "id": "854130d3-fbcf-4be9-8e82-396ef5a641df",
   "metadata": {},
   "source": [
    "**2. What is the difference between multiple model training and single model training?**"
   ]
  },
  {
   "cell_type": "markdown",
   "id": "71d9914f-583a-44dd-90e7-5f03ca78bc77",
   "metadata": {},
   "source": [
    "- Single Model Training uses only one algorithm and one trained model to make predictions (e.g., a single decision tree or logistic regression).\n",
    "\n",
    "- Multiple Model Training combines predictions from several models (e.g., in ensemble methods like Bagging, Boosting, or Stacking) to improve performance.\n",
    "\n",
    "- Single models are usually faster to train but may suffer from bias or variance issues, depending on the algorithm.\n",
    "\n",
    "- Multiple models provide more robust and accurate predictions by reducing overfitting (variance) or underfitting (bias).\n",
    "\n",
    "- Ensemble (multi-model) methods are generally more complex and resource-intensive, but often outperform single models in real-world tasks."
   ]
  },
  {
   "cell_type": "markdown",
   "id": "daa27aab-390e-46a6-b4d3-d05283a182c7",
   "metadata": {},
   "source": [
    "**3.  Explain the concept of feature randomness in Random Forest.**"
   ]
  },
  {
   "cell_type": "markdown",
   "id": "e564d9a7-9ca8-4d89-8010-a73d33f6ee83",
   "metadata": {},
   "source": [
    "- Feature randomness means that each decision tree in the forest considers only a random subset of features when making splits at each node.\n",
    "\n",
    "- This randomness helps create diverse trees, since different trees may focus on different features — even when trained on the same data.\n",
    "\n",
    "- It helps to reduce correlation between trees, making the overall ensemble more robust and less prone to overfitting.\n",
    "\n",
    "- This is different from bagging alone, which uses random subsets of data but all features; Random Forest adds feature randomness on top of data randomness.\n",
    "\n",
    "- As a result, Random Forest achieves better generalization and higher accuracy compared to individual decision trees."
   ]
  },
  {
   "cell_type": "markdown",
   "id": "cd43c085-5d7c-4ddc-b603-2100bc216255",
   "metadata": {},
   "source": [
    "**4.  What is OOB (Out-of-Bag) Score?**"
   ]
  },
  {
   "cell_type": "markdown",
   "id": "3d7af0db-a719-464a-ac80-8033177dec43",
   "metadata": {},
   "source": [
    "- OOB score is a validation method used in ensemble models like Random Forest to estimate model performance without using a separate validation set.\n",
    "\n",
    "- During training, each tree is built using a bootstrap sample (random sample with replacement), leaving out about one-third of the data — this is the \"out-of-bag\" data.\n",
    "\n",
    "- These OOB samples act as a built-in test set for each tree, allowing the model to be evaluated as it trains.\n",
    "\n",
    "- The OOB score is calculated by aggregating predictions for each observation only from the trees that didn’t see it during training.\n",
    "\n",
    "- It provides a reliable and efficient estimate of model accuracy, saving time and data compared to cross-validation."
   ]
  },
  {
   "cell_type": "markdown",
   "id": "735a31cc-081c-4a93-99c9-7170ec8d53d1",
   "metadata": {},
   "source": [
    "**5.  How can you measure the importance of features in a Random Forest model?**"
   ]
  },
  {
   "cell_type": "markdown",
   "id": "a30434df-5fc3-4a45-b45b-eeb98e05a9f1",
   "metadata": {},
   "source": [
    "- Mean Decrease in Impurity (MDI): Measures how much each feature reduces impurity (like Gini or entropy) across all trees — the more it's used for splits, the more important it is.\n",
    "\n",
    "- Mean Decrease in Accuracy (MDA): Randomly shuffles a feature and checks how much the model's accuracy drops — bigger drop means higher importance.\n",
    "\n",
    "- Feature Importance Attribute: Scikit-learn’s RandomForestClassifier and RandomForestRegressor have a .feature_importances_ attribute to directly get importance scores.\n",
    "\n",
    "- Ranking Features: You can sort the feature importance scores to identify which features contribute most to the model’s predictions.\n",
    "\n",
    "- Visualization: Tools like matplotlib or seaborn can be used to plot feature importances for better interpretation.\n",
    "\n",
    "- Limitations: MDI can be biased toward features with more categories or higher cardinality — so it's often combined with MDA or SHAP values for more reliable results."
   ]
  },
  {
   "cell_type": "markdown",
   "id": "0a21fea1-bef3-4d27-a8b7-acda6cc8889a",
   "metadata": {},
   "source": [
    "**6. Explain the working principle of a Bagging Classifier.**"
   ]
  },
  {
   "cell_type": "markdown",
   "id": "78032175-675a-47e8-ae25-fa255ca2a94b",
   "metadata": {},
   "source": [
    "- Bagging stands for Bootstrap Aggregating, a method to reduce variance and improve model stability.\n",
    "\n",
    "- It creates multiple subsets of the original training data using random sampling with replacement (bootstrap samples).\n",
    "\n",
    "- A base model (e.g., decision tree) is trained independently on each of these subsets.\n",
    "\n",
    "- Each model makes predictions on the test data individually and in parallel, not sequentially.\n",
    "\n",
    "- For classification, the final prediction is made by majority voting (the class most models agree on).\n",
    "\n",
    "- Bagging helps to reduce overfitting, especially in high-variance models like decision trees.\n",
    "\n",
    "- A popular example of a bagging classifier is the Random Forest, which combines bagging with feature randomness."
   ]
  },
  {
   "cell_type": "markdown",
   "id": "17b9c63f-e319-4bec-ba30-eb5c0a3e96ec",
   "metadata": {},
   "source": [
    "**7.  How do you evaluate a Bagging Classifier’s performance?**"
   ]
  },
  {
   "cell_type": "markdown",
   "id": "bd21dbe7-2069-4b4a-89c8-9befac53a399",
   "metadata": {},
   "source": [
    "- Accuracy Score: Measures the overall percentage of correctly classified samples on test data.\n",
    "\n",
    "- Confusion Matrix: Gives a detailed breakdown of true positives, false positives, true negatives, and false negatives.\n",
    "\n",
    "- Cross-Validation: Evaluates model stability by testing it on multiple train-test splits to avoid overfitting.\n",
    "\n",
    "- OOB (Out-of-Bag) Score: An internal validation method using the unused bootstrap samples to estimate performance without separate test data."
   ]
  },
  {
   "cell_type": "markdown",
   "id": "b585c7db-533a-46cc-af4b-371ca98e4cfd",
   "metadata": {},
   "source": [
    "**8.  How does a Bagging Regressor work?**"
   ]
  },
  {
   "cell_type": "markdown",
   "id": "70a8b433-5d2d-4261-b2f3-f4dcf294d992",
   "metadata": {},
   "source": [
    "- Bootstrap Sampling: It creates multiple training sets by randomly sampling (with replacement) from the original dataset.\n",
    "\n",
    "- Multiple Models: Trains several independent regression models (like Decision Tree Regressors) on each bootstrap sample.\n",
    "\n",
    "- Parallel Predictions: Each model predicts a numeric output for a given input in parallel.\n",
    "\n",
    "- Final Prediction (Averaging): The final output is the average of all model predictions, which reduces variance and improves accuracy."
   ]
  },
  {
   "cell_type": "markdown",
   "id": "7ee546a1-319e-46e2-962f-d60194ab5a10",
   "metadata": {},
   "source": [
    "**9.  What is the main advantage of ensemble techniques?**"
   ]
  },
  {
   "cell_type": "markdown",
   "id": "9ebaa0ae-e577-410e-a4d7-56aac9ef8fdd",
   "metadata": {},
   "source": [
    "- Improved Accuracy: Combining multiple models often yields better predictive performance than any single model.\n",
    "\n",
    "- Reduced Overfitting: Techniques like bagging help smooth out model variance, making predictions more stable.\n",
    "\n",
    "- Robustness: Ensembles are less sensitive to noise or outliers in the data compared to individual models.\n",
    "\n",
    "- Bias-Variance Tradeoff: Ensemble methods balance bias and variance effectively by using both weak and strong learners.\n",
    "\n",
    "- Flexibility: They can combine different types of models and be applied to both classification and regression tasks."
   ]
  },
  {
   "cell_type": "markdown",
   "id": "4e161576-bd0b-4bfc-b726-0cc90aa44fcb",
   "metadata": {},
   "source": [
    "**10. What is the main challenge of ensemble methods?**"
   ]
  },
  {
   "cell_type": "markdown",
   "id": "5550d4ee-54fb-461e-a993-d34bac183bb2",
   "metadata": {},
   "source": [
    "- Increased Complexity: Combining multiple models makes the overall system harder to understand and interpret.\n",
    "\n",
    "- Higher Computational Cost: Training several models requires more time and computational resources.\n",
    "\n",
    "- Risk of Overfitting (in Boosting): If not properly tuned, boosting methods may overfit the training data.\n",
    "\n",
    "- Difficult Debugging: It's harder to identify errors or weaknesses because no single model drives the final prediction.\n",
    "\n",
    "- Model Management: Deploying and maintaining ensemble models can be more complicated than single-model systems."
   ]
  },
  {
   "cell_type": "markdown",
   "id": "0cfe1783-fb5a-4649-9462-dfc8a3a6df01",
   "metadata": {},
   "source": [
    "**11.  Explain the key idea behind ensemble techniques.**"
   ]
  },
  {
   "cell_type": "markdown",
   "id": "752e3243-5b90-4e3e-be2c-32aca51a2b5f",
   "metadata": {},
   "source": [
    "- Combine Multiple Models: Ensemble methods merge predictions from several models to improve overall performance.\n",
    "\n",
    "- Reduce Errors: They help reduce bias, variance, or both, depending on the technique (e.g., bagging or boosting).\n",
    "\n",
    "- Leverage Diversity: Different models may capture different patterns; combining them creates a more generalizable solution.\n",
    "\n",
    "- Robust Predictions: Ensembles are more stable and less affected by noise or outliers in the data.\n",
    "\n",
    "- Better Accuracy: They often outperform individual models by correcting each other’s mistakes."
   ]
  },
  {
   "cell_type": "markdown",
   "id": "bb363706-3ffe-4e87-91dc-4af00dea313f",
   "metadata": {},
   "source": [
    "**12. What is a Random Forest Classifier?**"
   ]
  },
  {
   "cell_type": "markdown",
   "id": "f2a2b4e2-28e6-4fdf-b89b-e9cc013626d5",
   "metadata": {},
   "source": [
    "- Ensemble of Decision Trees: It builds multiple decision trees and combines their results to make predictions.\n",
    "\n",
    "- Uses Bagging: Each tree is trained on a random subset of the data (with replacement) and a random subset of features.\n",
    "\n",
    "- Majority Voting: For classification tasks, the final output is based on the majority vote from all trees.\n",
    "\n",
    "- Reduces Overfitting: By averaging many trees, it improves accuracy and reduces the risk of overfitting.\n",
    "\n",
    "- Robust and Scalable: It works well with large datasets and handles both categorical and numerical features effectively."
   ]
  },
  {
   "cell_type": "markdown",
   "id": "ddb9c03d-db11-4543-aff0-981162723b9d",
   "metadata": {},
   "source": [
    "**13. What are the main types of ensemble techniques?**"
   ]
  },
  {
   "cell_type": "markdown",
   "id": "30aed24b-c34a-460e-a784-784ed809f653",
   "metadata": {},
   "source": [
    "- Bagging (Bootstrap Aggregating): Builds multiple models in parallel on different subsets of data to reduce variance (e.g., Random Forest).\n",
    "\n",
    "- Boosting: Builds models sequentially, where each new model focuses on correcting the errors of the previous ones (e.g., AdaBoost, XGBoost).\n",
    "\n",
    "- Stacking (Stacked Generalization): Combines predictions from multiple different models using a meta-model that learns how to best combine them.\n",
    "\n",
    "- Voting Ensemble: Combines predictions from different models using majority voting (for classification) or averaging (for regression).\n",
    "\n",
    "- Blending: Similar to stacking but uses a separate validation set (not cross-validation) to train the meta-model."
   ]
  },
  {
   "cell_type": "markdown",
   "id": "9c9451b5-f90f-4263-a72d-1672df42e52f",
   "metadata": {},
   "source": [
    "**14. What is ensemble learning in machine learning?**"
   ]
  },
  {
   "cell_type": "markdown",
   "id": "29ff5f3b-1b81-48b4-920d-e3840b06e05c",
   "metadata": {},
   "source": [
    "- Combining Models: Ensemble learning merges predictions from multiple models to improve overall performance.\n",
    "\n",
    "- Boosts Accuracy: It often outperforms individual models by reducing errors and capturing more patterns in the data.\n",
    "\n",
    "- Types of Ensembles: Common methods include bagging, boosting, stacking, and voting.\n",
    "\n",
    "- Handles Variance and Bias: Ensembles help reduce overfitting (variance) and underfitting (bias), depending on the technique used.\n",
    "\n",
    "- Widely Used: It’s effective in real-world tasks like spam detection, fraud detection, and image classification."
   ]
  },
  {
   "cell_type": "markdown",
   "id": "abedbeec-7c6e-4c73-a908-b138eebd416e",
   "metadata": {},
   "source": [
    "**15. When should we avoid using ensemble methods?**"
   ]
  },
  {
   "cell_type": "markdown",
   "id": "be5bba52-4aa6-436e-bd12-612b90808934",
   "metadata": {},
   "source": [
    "- Small Datasets: Ensembles can overfit when data is limited, as they rely on enough variety to be effective.\n",
    "\n",
    "- High Computational Cost: If resources (CPU, RAM, time) are limited, ensemble methods may be too expensive to train and deploy.\n",
    "\n",
    "- Need for Interpretability: When model transparency is crucial (e.g., healthcare, finance), ensembles are hard to interpret compared to simple models.\n",
    "\n",
    "- Low Model Diversity: If all base models are too similar, the ensemble won't add value and might just add complexity.\n",
    "\n",
    "- Simplicity is Enough: If a single model (like logistic regression or a single tree) performs well, an ensemble might be unnecessary overkill."
   ]
  },
  {
   "cell_type": "markdown",
   "id": "b319a753-2f43-4b92-b330-b0c369c870d0",
   "metadata": {},
   "source": [
    "**16. How does Bagging help in reducing overfitting?**"
   ]
  },
  {
   "cell_type": "markdown",
   "id": "8eed2d0d-fab8-4cc6-9d16-e4cf7194faa1",
   "metadata": {},
   "source": [
    "- Multiple Models: Bagging trains multiple models on different random subsets of the training data.\n",
    "\n",
    "- Averaging Predictions: For regression, it averages the outputs; for classification, it uses majority voting — both help smooth out predictions.\n",
    "\n",
    "- Reduces Variance: By combining diverse models, it lowers the chance that the final prediction is overly influenced by a single overfitted model.\n",
    "\n",
    "- Less Sensitive to Noise: Since each model sees a slightly different dataset, it becomes more robust to noisy data points.\n",
    "\n",
    "- Improves Generalization: The ensemble generalizes better to unseen data by combining the strengths of several weak learners."
   ]
  },
  {
   "cell_type": "markdown",
   "id": "2633df3d-494c-4780-b6fc-a7a9565cc580",
   "metadata": {},
   "source": [
    "**17. Why is Random Forest better than a single Decision Tree?**"
   ]
  },
  {
   "cell_type": "markdown",
   "id": "3cc65113-c820-476a-a09b-0f3e2fc18303",
   "metadata": {},
   "source": [
    "- Reduces Overfitting: Random Forest averages multiple trees, making it less likely to overfit compared to a single, deep decision tree.\n",
    "\n",
    "- Improves Accuracy: Combining multiple trees leads to more accurate and stable predictions.\n",
    "\n",
    "- Handles Variance: It lowers variance by training on random data and feature subsets, which a single tree cannot do.\n",
    "\n",
    "- Robust to Noise & Outliers: Outliers have less impact since they’re unlikely to affect all trees in the forest.\n",
    "\n",
    "- Feature Importance: Random Forest provides insights into which features are most important for prediction, adding interpretability."
   ]
  },
  {
   "cell_type": "markdown",
   "id": "03d530b8-bf25-4170-80c4-84b8b73999fc",
   "metadata": {},
   "source": [
    "**18. What is the role of bootstrap sampling in Bagging?**"
   ]
  },
  {
   "cell_type": "markdown",
   "id": "308ed951-937e-4132-8d84-281475947448",
   "metadata": {},
   "source": [
    "- Creates Diverse Training Sets: Bootstrap sampling generates multiple random subsets of the original data with replacement, ensuring each model sees a different view of the data.\n",
    "\n",
    "- Enables Model Independence: Since each model is trained on a unique subset, they learn different patterns, increasing diversity among base learners.\n",
    "\n",
    "- Reduces Overfitting: By training on varied samples, it prevents all models from overfitting to the same data points.\n",
    "\n",
    "- Foundation for Aggregation: These independently trained models can be combined (via voting or averaging), leading to more stable and generalizable predictions.\n",
    "\n",
    "- Supports OOB Evaluation: The data points left out of a bootstrap sample (Out-of-Bag data) can be used for internal validation without a separate test set."
   ]
  },
  {
   "cell_type": "markdown",
   "id": "2f52a395-815b-4da4-9c35-28b443e6525c",
   "metadata": {},
   "source": [
    "**19. What are some real-world applications of ensemble techniques?**"
   ]
  },
  {
   "cell_type": "markdown",
   "id": "ae335d5e-3445-4bbc-9c7c-a53eaa50c249",
   "metadata": {},
   "source": [
    "- Spam Detection: Email providers use ensemble models to accurately classify messages as spam or not spam by combining predictions from multiple filters.\n",
    "\n",
    "- Fraud Detection: Banks and credit card companies use ensembles to detect fraudulent transactions by capturing complex patterns in financial data.\n",
    "\n",
    "- Medical Diagnosis: Ensemble models help in predicting diseases by combining outputs from different diagnostic algorithms for more reliable results.\n",
    "\n",
    "- Customer Churn Prediction: Telecom and subscription-based companies use ensembles to identify customers likely to leave by analyzing behavior patterns.\n",
    "\n",
    "- Stock Market Prediction: Financial analysts use ensemble methods to forecast stock prices by blending various technical indicators and predictive models.\n",
    "\n",
    "- Recommendation Systems: Platforms like Netflix or Amazon use ensembles to provide better recommendations by merging collaborative and content-based filtering models."
   ]
  },
  {
   "cell_type": "markdown",
   "id": "31ab9096-3002-4eae-bfe7-40ac53e4780a",
   "metadata": {},
   "source": [
    "**20. What is the difference between Bagging and Boosting?**"
   ]
  },
  {
   "cell_type": "markdown",
   "id": "54dce8b3-b0a5-4ebd-b36a-88322de2c52b",
   "metadata": {},
   "source": [
    "- Training Approach:\n",
    "    - Bagging: Models are trained independently and in parallel.\n",
    "    - Boosting: Models are trained sequentially, with each one learning from the errors of the previous.\n",
    "- Data Sampling:\n",
    "    - Bagging: Uses bootstrap sampling (random sampling with replacement).\n",
    "    - Boosting: Uses the entire dataset, but adjusts weights to focus on misclassified points.\n",
    "- Focus:\n",
    "    - Bagging: Aims to reduce variance.\n",
    "    - Boosting: Aims to reduce bias.\n",
    "- Model Combination:\n",
    "    - Bagging: Combines models using voting (classification) or averaging (regression).\n",
    "    - Boosting: Combines models using a weighted sum of predictions.\n",
    "- Examples:\n",
    "    - Bagging: Random Forest.\n",
    "    - Boosting: AdaBoost, Gradient Boosting, XGBoost."
   ]
  },
  {
   "cell_type": "markdown",
   "id": "693d11ae-d3a8-48f5-b0e7-33761fd87717",
   "metadata": {},
   "source": [
    "# Practical"
   ]
  },
  {
   "cell_type": "markdown",
   "id": "b8a1e3b1-b387-46b7-8199-bfaec865cb66",
   "metadata": {},
   "source": [
    "**21. Train a Bagging Classifier using Decision Trees on a sample dataset and print model accuracy.** "
   ]
  },
  {
   "cell_type": "code",
   "execution_count": 46,
   "id": "2a623e0b-f027-4e02-8230-644a9d04a18f",
   "metadata": {},
   "outputs": [
    {
     "name": "stdout",
     "output_type": "stream",
     "text": [
      "Bagging Classifier Accuracy: 100.0 %\n"
     ]
    }
   ],
   "source": [
    "from sklearn.datasets import load_iris\n",
    "from sklearn.model_selection import train_test_split\n",
    "from sklearn.ensemble import BaggingClassifier\n",
    "from sklearn.tree import DecisionTreeClassifier\n",
    "from sklearn.metrics import accuracy_score\n",
    "\n",
    "# Loading dataset\n",
    "iris = load_iris()\n",
    "X, y = iris.data, iris.target\n",
    "\n",
    "# Spliting into training and test sets\n",
    "X_train, X_test, y_train, y_test = train_test_split(X, y, test_size=0.3, random_state=42)\n",
    "\n",
    "# Creating Bagging Classifier with Decision Trees\n",
    "bagging_model = BaggingClassifier(\n",
    "    estimator=DecisionTreeClassifier(),\n",
    "    n_estimators=50,\n",
    "    random_state=42\n",
    ")\n",
    "\n",
    "# Training the model\n",
    "bagging_model.fit(X_train, y_train)\n",
    "\n",
    "# Predicting on test data\n",
    "y_pred = bagging_model.predict(X_test)\n",
    "\n",
    "# Evaluating the model\n",
    "accuracy = accuracy_score(y_test, y_pred)\n",
    "print(\"Bagging Classifier Accuracy:\", round(accuracy * 100, 2), \"%\")"
   ]
  },
  {
   "cell_type": "markdown",
   "id": "4aedd89a-b50f-44b5-a481-4dfab4293f45",
   "metadata": {},
   "source": [
    "**22. Train a Bagging Regressor using Decision Trees and evaluate using Mean Squared Error (MSE).**"
   ]
  },
  {
   "cell_type": "code",
   "execution_count": 49,
   "id": "c5aed5ed-c701-43e0-8473-9136dd2297fc",
   "metadata": {},
   "outputs": [
    {
     "name": "stdout",
     "output_type": "stream",
     "text": [
      "Mean Squared Error (MSE): 2987.01\n"
     ]
    }
   ],
   "source": [
    "from sklearn.datasets import load_diabetes\n",
    "from sklearn.model_selection import train_test_split\n",
    "from sklearn.ensemble import BaggingRegressor\n",
    "from sklearn.tree import DecisionTreeRegressor\n",
    "from sklearn.metrics import mean_squared_error\n",
    "\n",
    "# Loading a regression dataset\n",
    "X, y = load_diabetes(return_X_y=True)\n",
    "\n",
    "X_train, X_test, y_train, y_test = train_test_split(X, y, test_size=0.3, random_state=42)\n",
    "\n",
    "\n",
    "bagging_regressor = BaggingRegressor(\n",
    "    estimator=DecisionTreeRegressor(),\n",
    "    n_estimators=50,\n",
    "    random_state=42\n",
    ")\n",
    "\n",
    "\n",
    "bagging_regressor.fit(X_train, y_train)\n",
    "y_pred = bagging_regressor.predict(X_test)\n",
    "\n",
    "mse = mean_squared_error(y_test, y_pred)\n",
    "print(\"Mean Squared Error (MSE):\", round(mse, 2))"
   ]
  },
  {
   "cell_type": "markdown",
   "id": "c5f76091-f64a-491d-9ee3-787e754560ff",
   "metadata": {},
   "source": [
    "**23.  Train a Random Forest Classifier on the Breast Cancer dataset and print feature importance scores.**"
   ]
  },
  {
   "cell_type": "code",
   "execution_count": 52,
   "id": "f63393d7-91e5-426a-84da-3f428549ebe6",
   "metadata": {},
   "outputs": [
    {
     "name": "stdout",
     "output_type": "stream",
     "text": [
      "                    Feature  Importance\n",
      "7       mean concave points    0.141934\n",
      "27     worst concave points    0.127136\n",
      "23               worst area    0.118217\n",
      "6            mean concavity    0.080557\n",
      "20             worst radius    0.077975\n",
      "22          worst perimeter    0.074292\n",
      "2            mean perimeter    0.060092\n",
      "3                 mean area    0.053810\n",
      "26          worst concavity    0.041080\n",
      "0               mean radius    0.032312\n",
      "13               area error    0.029538\n",
      "21            worst texture    0.018786\n",
      "25        worst compactness    0.017539\n",
      "10             radius error    0.016435\n",
      "28           worst symmetry    0.012929\n",
      "12          perimeter error    0.011770\n",
      "24         worst smoothness    0.011769\n",
      "1              mean texture    0.011064\n",
      "5          mean compactness    0.009216\n",
      "19  fractal dimension error    0.007135\n",
      "29  worst fractal dimension    0.006924\n",
      "4           mean smoothness    0.006223\n",
      "14         smoothness error    0.005881\n",
      "16          concavity error    0.005816\n",
      "15        compactness error    0.004596\n",
      "18           symmetry error    0.004001\n",
      "17     concave points error    0.003382\n",
      "8             mean symmetry    0.003278\n",
      "11            texture error    0.003172\n",
      "9    mean fractal dimension    0.003140\n"
     ]
    }
   ],
   "source": [
    "from sklearn.datasets import load_breast_cancer\n",
    "from sklearn.ensemble import RandomForestClassifier\n",
    "from sklearn.model_selection import train_test_split\n",
    "import pandas as pd\n",
    "\n",
    "data = load_breast_cancer()\n",
    "X, y = data.data, data.target\n",
    "feature_names = data.feature_names\n",
    "\n",
    "X_train, X_test, y_train, y_test = train_test_split(X, y, test_size=0.3, random_state=42)\n",
    "\n",
    "model = RandomForestClassifier(n_estimators=100, random_state=42)\n",
    "model.fit(X_train, y_train)\n",
    "\n",
    "# Geting feature importances\n",
    "importances = model.feature_importances_\n",
    "\n",
    "# Displaying feature importance as a DataFrame\n",
    "importance_df = pd.DataFrame({\n",
    "    'Feature': feature_names,\n",
    "    'Importance': importances\n",
    "}).sort_values(by='Importance', ascending=False)\n",
    "\n",
    "print(importance_df)"
   ]
  },
  {
   "cell_type": "markdown",
   "id": "edf326f3-f92b-4bab-86e9-07e83ad6a559",
   "metadata": {},
   "source": [
    "**24. Train a Random Forest Regressor and compare its performance with a single Decision Tree.**"
   ]
  },
  {
   "cell_type": "code",
   "execution_count": 55,
   "id": "91e11d27-9682-4cdf-91f9-ff42c3f15787",
   "metadata": {},
   "outputs": [
    {
     "name": "stdout",
     "output_type": "stream",
     "text": [
      "Decision Tree MSE: 5697.79\n",
      "Random Forest MSE: 2859.64\n"
     ]
    }
   ],
   "source": [
    "from sklearn.datasets import load_diabetes\n",
    "from sklearn.model_selection import train_test_split\n",
    "from sklearn.tree import DecisionTreeRegressor\n",
    "from sklearn.ensemble import RandomForestRegressor\n",
    "from sklearn.metrics import mean_squared_error\n",
    "\n",
    "# Load dataset\n",
    "X, y = load_diabetes(return_X_y=True)\n",
    "\n",
    "# Train-test split\n",
    "X_train, X_test, y_train, y_test = train_test_split(X, y, test_size=0.3, random_state=42)\n",
    "\n",
    "# Train Decision Tree Regressor\n",
    "dt_model = DecisionTreeRegressor(random_state=42)\n",
    "dt_model.fit(X_train, y_train)\n",
    "dt_preds = dt_model.predict(X_test)\n",
    "dt_mse = mean_squared_error(y_test, dt_preds)\n",
    "\n",
    "# Train Random Forest Regressor\n",
    "rf_model = RandomForestRegressor(n_estimators=100, random_state=42)\n",
    "rf_model.fit(X_train, y_train)\n",
    "rf_preds = rf_model.predict(X_test)\n",
    "rf_mse = mean_squared_error(y_test, rf_preds)\n",
    "\n",
    "# Print comparison\n",
    "print(f\"Decision Tree MSE: {dt_mse:.2f}\")\n",
    "print(f\"Random Forest MSE: {rf_mse:.2f}\")"
   ]
  },
  {
   "cell_type": "markdown",
   "id": "a99b1eca-4db3-4899-a4cf-75f2e9277a2b",
   "metadata": {},
   "source": [
    "**25. Compute the Out-of-Bag (OOB) Score for a Random Forest Classifier.**"
   ]
  },
  {
   "cell_type": "code",
   "execution_count": 60,
   "id": "16b93047-0a12-4610-849e-9fd5f72b611e",
   "metadata": {},
   "outputs": [
    {
     "name": "stdout",
     "output_type": "stream",
     "text": [
      "OOB Score: 96.13 %\n"
     ]
    }
   ],
   "source": [
    "from sklearn.datasets import load_breast_cancer\n",
    "from sklearn.ensemble import RandomForestClassifier\n",
    "\n",
    "# Load dataset\n",
    "data = load_breast_cancer()\n",
    "X, y = data.data, data.target\n",
    "\n",
    "# Train Random Forest Classifier with OOB enabled\n",
    "model = RandomForestClassifier(\n",
    "    n_estimators=100,\n",
    "    oob_score=True,         # Enable OOB scoring\n",
    "    random_state=42,\n",
    "    bootstrap=True          # Must be True for OOB\n",
    ")\n",
    "\n",
    "model.fit(X, y)\n",
    "\n",
    "# Print OOB score\n",
    "print(\"OOB Score:\", round(model.oob_score_ * 100, 2), \"%\")"
   ]
  },
  {
   "cell_type": "markdown",
   "id": "33858549-9e55-491d-8a3e-81dd91234f5d",
   "metadata": {},
   "source": [
    "**26.  Train a Bagging Classifier using SVM as a base estimator and print accuracy.**"
   ]
  },
  {
   "cell_type": "code",
   "execution_count": 63,
   "id": "6d19e7ad-1461-4471-b53f-380386cbe71e",
   "metadata": {},
   "outputs": [
    {
     "name": "stdout",
     "output_type": "stream",
     "text": [
      "Bagging Classifier with SVM Accuracy: 100.0 %\n"
     ]
    }
   ],
   "source": [
    "from sklearn.datasets import load_iris\n",
    "from sklearn.model_selection import train_test_split\n",
    "from sklearn.ensemble import BaggingClassifier\n",
    "from sklearn.svm import SVC\n",
    "from sklearn.metrics import accuracy_score\n",
    "\n",
    "# Load dataset\n",
    "X, y = load_iris(return_X_y=True)\n",
    "\n",
    "# Train-test split\n",
    "X_train, X_test, y_train, y_test = train_test_split(X, y, test_size=0.3, random_state=42)\n",
    "\n",
    "# Create Bagging Classifier with SVM as base estimator\n",
    "model = BaggingClassifier(\n",
    "    estimator=SVC(),\n",
    "    n_estimators=10,\n",
    "    random_state=42\n",
    ")\n",
    "\n",
    "# Train model\n",
    "model.fit(X_train, y_train)\n",
    "\n",
    "# Predict\n",
    "y_pred = model.predict(X_test)\n",
    "\n",
    "# Accuracy\n",
    "accuracy = accuracy_score(y_test, y_pred)\n",
    "print(\"Bagging Classifier with SVM Accuracy:\", round(accuracy * 100, 2), \"%\")"
   ]
  },
  {
   "cell_type": "markdown",
   "id": "4abf0bba-0fca-4322-83a0-25103088a9fe",
   "metadata": {},
   "source": [
    "**27.  Train a Random Forest Classifier with different numbers of trees and compare accuracy.**"
   ]
  },
  {
   "cell_type": "code",
   "execution_count": 66,
   "id": "761daad7-7bca-4cdb-9a62-993951edabde",
   "metadata": {},
   "outputs": [
    {
     "name": "stdout",
     "output_type": "stream",
     "text": [
      "n_estimators=1: Accuracy = 100.0%\n",
      "n_estimators=5: Accuracy = 100.0%\n",
      "n_estimators=10: Accuracy = 100.0%\n",
      "n_estimators=20: Accuracy = 100.0%\n",
      "n_estimators=50: Accuracy = 100.0%\n",
      "n_estimators=100: Accuracy = 100.0%\n",
      "n_estimators=200: Accuracy = 100.0%\n"
     ]
    },
    {
     "data": {
      "image/png": "[encoded data removed]",
      "text/plain": [
       "<Figure size 800x500 with 1 Axes>"
      ]
     },
     "metadata": {},
     "output_type": "display_data"
    }
   ],
   "source": [
    "from sklearn.datasets import load_iris\n",
    "from sklearn.ensemble import RandomForestClassifier\n",
    "from sklearn.model_selection import train_test_split\n",
    "from sklearn.metrics import accuracy_score\n",
    "import matplotlib.pyplot as plt\n",
    "\n",
    "# Load dataset\n",
    "X, y = load_iris(return_X_y=True)\n",
    "\n",
    "# Train-test split\n",
    "X_train, X_test, y_train, y_test = train_test_split(X, y, test_size=0.3, random_state=42)\n",
    "\n",
    "# Different values of n_estimators\n",
    "n_estimators_list = [1, 5, 10, 20, 50, 100, 200]\n",
    "accuracy_scores = []\n",
    "\n",
    "# Train models with different n_estimators and record accuracy\n",
    "for n in n_estimators_list:\n",
    "    model = RandomForestClassifier(n_estimators=n, random_state=42)\n",
    "    model.fit(X_train, y_train)\n",
    "    y_pred = model.predict(X_test)\n",
    "    acc = accuracy_score(y_test, y_pred)\n",
    "    accuracy_scores.append(acc)\n",
    "    print(f\"n_estimators={n}: Accuracy = {round(acc * 100, 2)}%\")\n",
    "\n",
    "# Plotting accuracy vs. number of trees\n",
    "plt.figure(figsize=(8, 5))\n",
    "plt.plot(n_estimators_list, accuracy_scores, marker='o')\n",
    "plt.title(\"Random Forest Accuracy vs. Number of Trees\")\n",
    "plt.xlabel(\"Number of Trees (n_estimators)\")\n",
    "plt.ylabel(\"Accuracy\")\n",
    "plt.grid(True)\n",
    "plt.show()"
   ]
  },
  {
   "cell_type": "markdown",
   "id": "89a10054-a3f4-4199-8ac9-933d7f10c87c",
   "metadata": {},
   "source": [
    "**28. Train a Bagging Classifier using Logistic Regression as a base estimator and print AUC score.**"
   ]
  },
  {
   "cell_type": "code",
   "execution_count": 69,
   "id": "4f46fc77-7c28-439a-9665-d1084b87a589",
   "metadata": {},
   "outputs": [
    {
     "name": "stdout",
     "output_type": "stream",
     "text": [
      "AUC Score (Bagging + Logistic Regression): 0.9976\n"
     ]
    }
   ],
   "source": [
    "from sklearn.datasets import load_breast_cancer\n",
    "from sklearn.model_selection import train_test_split\n",
    "from sklearn.linear_model import LogisticRegression\n",
    "from sklearn.ensemble import BaggingClassifier\n",
    "from sklearn.metrics import roc_auc_score\n",
    "\n",
    "# Load dataset\n",
    "X, y = load_breast_cancer(return_X_y=True)\n",
    "\n",
    "# Train-test split\n",
    "X_train, X_test, y_train, y_test = train_test_split(\n",
    "    X, y, test_size=0.3, random_state=42\n",
    ")\n",
    "\n",
    "# Create Bagging Classifier with Logistic Regression\n",
    "bagging_model = BaggingClassifier(\n",
    "    estimator=LogisticRegression(max_iter=1000, solver='liblinear'),\n",
    "    n_estimators=10,\n",
    "    random_state=42\n",
    ")\n",
    "\n",
    "# Train model\n",
    "bagging_model.fit(X_train, y_train)\n",
    "\n",
    "# Predict probabilities for the positive class\n",
    "y_proba = bagging_model.predict_proba(X_test)[:, 1]\n",
    "\n",
    "# Compute and print AUC score\n",
    "auc = roc_auc_score(y_test, y_proba)\n",
    "print(\"AUC Score (Bagging + Logistic Regression):\", round(auc, 4))"
   ]
  },
  {
   "cell_type": "markdown",
   "id": "72cc13ea-e56f-45d2-a417-21da102eb474",
   "metadata": {},
   "source": [
    "**29. Train a Random Forest Regressor and analyze feature importance scores.**"
   ]
  },
  {
   "cell_type": "code",
   "execution_count": 72,
   "id": "b6e6e3c4-cbcc-4c39-b8cb-c10cd9588aa0",
   "metadata": {},
   "outputs": [
    {
     "name": "stdout",
     "output_type": "stream",
     "text": [
      "Mean Squared Error: 0.2564\n",
      "\n",
      "Feature Importances:\n",
      "      Feature  Importance\n",
      "0      MedInc    0.525996\n",
      "5    AveOccup    0.138238\n",
      "7   Longitude    0.086133\n",
      "6    Latitude    0.086099\n",
      "1    HouseAge    0.054663\n",
      "2    AveRooms    0.047174\n",
      "4  Population    0.031724\n",
      "3   AveBedrms    0.029973\n"
     ]
    },
    {
     "data": {
      "image/png": "[encoded data removed]",
      "text/plain": [
       "<Figure size 1000x600 with 1 Axes>"
      ]
     },
     "metadata": {},
     "output_type": "display_data"
    }
   ],
   "source": [
    "from sklearn.datasets import fetch_california_housing\n",
    "from sklearn.model_selection import train_test_split\n",
    "from sklearn.ensemble import RandomForestRegressor\n",
    "from sklearn.metrics import mean_squared_error\n",
    "import pandas as pd\n",
    "import matplotlib.pyplot as plt\n",
    "\n",
    "# Load dataset\n",
    "data = fetch_california_housing()\n",
    "X = pd.DataFrame(data.data, columns=data.feature_names)\n",
    "y = data.target\n",
    "\n",
    "# Train-test split\n",
    "X_train, X_test, y_train, y_test = train_test_split(X, y, test_size=0.3, random_state=42)\n",
    "\n",
    "# Train Random Forest Regressor\n",
    "model = RandomForestRegressor(n_estimators=100, random_state=42)\n",
    "model.fit(X_train, y_train)\n",
    "\n",
    "# Predict and evaluate\n",
    "y_pred = model.predict(X_test)\n",
    "mse = mean_squared_error(y_test, y_pred)\n",
    "print(\"Mean Squared Error:\", round(mse, 4))\n",
    "\n",
    "# Feature importance\n",
    "importances = model.feature_importances_\n",
    "feature_importance_df = pd.DataFrame({\n",
    "    'Feature': X.columns,\n",
    "    'Importance': importances\n",
    "}).sort_values(by='Importance', ascending=False)\n",
    "\n",
    "# Print feature importance\n",
    "print(\"\\nFeature Importances:\")\n",
    "print(feature_importance_df)\n",
    "\n",
    "# Plot feature importance\n",
    "plt.figure(figsize=(10, 6))\n",
    "plt.barh(feature_importance_df['Feature'], feature_importance_df['Importance'])\n",
    "plt.gca().invert_yaxis()\n",
    "plt.xlabel(\"Importance Score\")\n",
    "plt.title(\"Feature Importances from Random Forest Regressor\")\n",
    "plt.tight_layout()\n",
    "plt.show()"
   ]
  },
  {
   "cell_type": "markdown",
   "id": "4dfc4711-e2a8-4d96-9370-3b638816d3ab",
   "metadata": {},
   "source": [
    "**30.  Train an ensemble model using both Bagging and Random Forest and compare accuracy.**"
   ]
  },
  {
   "cell_type": "code",
   "execution_count": 77,
   "id": "de56898c-9b72-4b7f-8775-11de4fd41bf3",
   "metadata": {},
   "outputs": [
    {
     "name": "stdout",
     "output_type": "stream",
     "text": [
      "Bagging Classifier Accuracy: 0.9591\n",
      "Random Forest Classifier Accuracy: 0.9708\n"
     ]
    }
   ],
   "source": [
    "from sklearn.datasets import load_breast_cancer\n",
    "from sklearn.model_selection import train_test_split\n",
    "from sklearn.ensemble import BaggingClassifier, RandomForestClassifier\n",
    "from sklearn.tree import DecisionTreeClassifier\n",
    "from sklearn.metrics import accuracy_score\n",
    "\n",
    "# Load dataset\n",
    "X, y = load_breast_cancer(return_X_y=True)\n",
    "\n",
    "# Train-test split\n",
    "X_train, X_test, y_train, y_test = train_test_split(\n",
    "    X, y, test_size=0.3, random_state=42\n",
    ")\n",
    "\n",
    "# Bagging Classifier with Decision Tree\n",
    "bagging_model = BaggingClassifier(\n",
    "    estimator=DecisionTreeClassifier(),\n",
    "    n_estimators=100,\n",
    "    random_state=42\n",
    ")\n",
    "bagging_model.fit(X_train, y_train)\n",
    "bagging_preds = bagging_model.predict(X_test)\n",
    "bagging_acc = accuracy_score(y_test, bagging_preds)\n",
    "\n",
    "# Random Forest Classifier\n",
    "rf_model = RandomForestClassifier(n_estimators=100, random_state=42)\n",
    "rf_model.fit(X_train, y_train)\n",
    "rf_preds = rf_model.predict(X_test)\n",
    "rf_acc = accuracy_score(y_test, rf_preds)\n",
    "\n",
    "# Print accuracies\n",
    "print(\"Bagging Classifier Accuracy:\", round(bagging_acc, 4))\n",
    "print(\"Random Forest Classifier Accuracy:\", round(rf_acc, 4))"
   ]
  },
  {
   "cell_type": "markdown",
   "id": "72e1e592-2067-4eb6-b4c9-5299455cdbc8",
   "metadata": {},
   "source": [
    "**31. Train a Random Forest Classifier and tune hyperparameters using GridSearchCV.**"
   ]
  },
  {
   "cell_type": "code",
   "execution_count": 80,
   "id": "28cd474b-48d4-442e-8e3f-5aa165af9f85",
   "metadata": {},
   "outputs": [
    {
     "name": "stdout",
     "output_type": "stream",
     "text": [
      "Fitting 5 folds for each of 36 candidates, totalling 180 fits\n",
      "Best Hyperparameters: {'max_depth': None, 'min_samples_leaf': 2, 'min_samples_split': 2, 'n_estimators': 150}\n",
      "Test Accuracy: 0.9708\n"
     ]
    }
   ],
   "source": [
    "from sklearn.datasets import load_breast_cancer\n",
    "from sklearn.model_selection import train_test_split, GridSearchCV\n",
    "from sklearn.ensemble import RandomForestClassifier\n",
    "from sklearn.metrics import accuracy_score\n",
    "\n",
    "# Load dataset\n",
    "X, y = load_breast_cancer(return_X_y=True)\n",
    "\n",
    "# Train-test split\n",
    "X_train, X_test, y_train, y_test = train_test_split(\n",
    "    X, y, test_size=0.3, random_state=42\n",
    ")\n",
    "\n",
    "# Define the parameter grid\n",
    "param_grid = {\n",
    "    'n_estimators': [50, 100, 150],\n",
    "    'max_depth': [None, 5, 10],\n",
    "    'min_samples_split': [2, 5],\n",
    "    'min_samples_leaf': [1, 2]\n",
    "}\n",
    "\n",
    "# Create Random Forest model\n",
    "rf = RandomForestClassifier(random_state=42)\n",
    "\n",
    "# GridSearchCV\n",
    "grid_search = GridSearchCV(estimator=rf, param_grid=param_grid, \n",
    "                           cv=5, scoring='accuracy', n_jobs=-1, verbose=1)\n",
    "grid_search.fit(X_train, y_train)\n",
    "\n",
    "# Best model\n",
    "best_rf = grid_search.best_estimator_\n",
    "\n",
    "# Predict and evaluate\n",
    "y_pred = best_rf.predict(X_test)\n",
    "accuracy = accuracy_score(y_test, y_pred)\n",
    "\n",
    "# Output\n",
    "print(\"Best Hyperparameters:\", grid_search.best_params_)\n",
    "print(\"Test Accuracy:\", round(accuracy, 4))"
   ]
  },
  {
   "cell_type": "markdown",
   "id": "51e5370f-96a2-40f2-ba8d-5a7bca24abd8",
   "metadata": {},
   "source": [
    "**32. Train a Bagging Regressor with different numbers of base estimators and compare performance.**"
   ]
  },
  {
   "cell_type": "code",
   "execution_count": 83,
   "id": "6d78fc5e-cf0e-48dd-9836-cfe2af796714",
   "metadata": {},
   "outputs": [
    {
     "name": "stdout",
     "output_type": "stream",
     "text": [
      "1 Estimators → MSE: 0.5583\n",
      "5 Estimators → MSE: 0.3168\n",
      "10 Estimators → MSE: 0.2863\n",
      "20 Estimators → MSE: 0.2694\n",
      "50 Estimators → MSE: 0.2579\n",
      "100 Estimators → MSE: 0.2569\n"
     ]
    },
    {
     "data": {
      "image/png": "[encoded data removed]",
      "text/plain": [
       "<Figure size 800x500 with 1 Axes>"
      ]
     },
     "metadata": {},
     "output_type": "display_data"
    }
   ],
   "source": [
    "from sklearn.datasets import fetch_california_housing\n",
    "from sklearn.model_selection import train_test_split\n",
    "from sklearn.ensemble import BaggingRegressor\n",
    "from sklearn.tree import DecisionTreeRegressor\n",
    "from sklearn.metrics import mean_squared_error\n",
    "import matplotlib.pyplot as plt\n",
    "\n",
    "# Load dataset\n",
    "data = fetch_california_housing()\n",
    "X, y = data.data, data.target\n",
    "\n",
    "# Train-test split\n",
    "X_train, X_test, y_train, y_test = train_test_split(\n",
    "    X, y, test_size=0.3, random_state=42\n",
    ")\n",
    "\n",
    "# Estimators to try\n",
    "n_estimators_list = [1, 5, 10, 20, 50, 100]\n",
    "mse_scores = []\n",
    "\n",
    "# Train models and collect MSE\n",
    "for n in n_estimators_list:\n",
    "    model = BaggingRegressor(\n",
    "        estimator=DecisionTreeRegressor(),\n",
    "        n_estimators=n,\n",
    "        random_state=42\n",
    "    )\n",
    "    model.fit(X_train, y_train)\n",
    "    y_pred = model.predict(X_test)\n",
    "    mse = mean_squared_error(y_test, y_pred)\n",
    "    mse_scores.append(mse)\n",
    "    print(f\"{n} Estimators → MSE: {round(mse, 4)}\")\n",
    "\n",
    "# Plotting results\n",
    "plt.figure(figsize=(8, 5))\n",
    "plt.plot(n_estimators_list, mse_scores, marker='o')\n",
    "plt.xlabel(\"Number of Estimators\")\n",
    "plt.ylabel(\"Mean Squared Error\")\n",
    "plt.title(\"Bagging Regressor Performance vs. Number of Estimators\")\n",
    "plt.grid(True)\n",
    "plt.tight_layout()\n",
    "plt.show()"
   ]
  },
  {
   "cell_type": "markdown",
   "id": "a4dc487b-9f0b-4d99-8d4e-78578e0cd071",
   "metadata": {},
   "source": [
    "**33.  Train a Random Forest Classifier and analyze misclassified samples.**"
   ]
  },
  {
   "cell_type": "code",
   "execution_count": 86,
   "id": "70b025d6-e079-43c9-8294-cde0cc2027f3",
   "metadata": {},
   "outputs": [
    {
     "name": "stdout",
     "output_type": "stream",
     "text": [
      "Accuracy: 0.9708\n",
      "\n",
      "Misclassified Samples (first 5):\n",
      "     mean radius  mean texture  mean perimeter  mean area  mean smoothness  \\\n",
      "8          13.34         15.86           86.49      520.0          0.10780   \n",
      "20         13.80         15.79           90.43      584.1          0.10070   \n",
      "77         13.96         17.05           91.43      602.4          0.10960   \n",
      "82         14.48         21.46           94.25      648.2          0.09444   \n",
      "164        15.13         29.81           96.71      719.5          0.08320   \n",
      "\n",
      "     mean compactness  mean concavity  mean concave points  mean symmetry  \\\n",
      "8             0.15350         0.11690              0.06987         0.1942   \n",
      "20            0.12800         0.07789              0.05069         0.1662   \n",
      "77            0.12790         0.09789              0.05246         0.1908   \n",
      "82            0.09947         0.12040              0.04938         0.2075   \n",
      "164           0.04605         0.04686              0.02739         0.1852   \n",
      "\n",
      "     mean fractal dimension  ...  worst perimeter  worst area  \\\n",
      "8                   0.06902  ...            96.66       614.9   \n",
      "20                  0.06566  ...           110.30       812.4   \n",
      "77                  0.06130  ...           108.10       826.0   \n",
      "82                  0.05636  ...           108.40       808.9   \n",
      "164                 0.05294  ...           110.10       931.4   \n",
      "\n",
      "     worst smoothness  worst compactness  worst concavity  \\\n",
      "8              0.1536            0.47910           0.4858   \n",
      "20             0.1411            0.35420           0.2779   \n",
      "77             0.1512            0.32620           0.3209   \n",
      "82             0.1306            0.19760           0.3349   \n",
      "164            0.1148            0.09866           0.1547   \n",
      "\n",
      "     worst concave points  worst symmetry  worst fractal dimension  Actual  \\\n",
      "8                 0.17080          0.3527                  0.10160       1   \n",
      "20                0.13830          0.2589                  0.10300       0   \n",
      "77                0.13740          0.3068                  0.07957       0   \n",
      "82                0.12250          0.3020                  0.06846       0   \n",
      "164               0.06575          0.3233                  0.06165       0   \n",
      "\n",
      "     Predicted  \n",
      "8            0  \n",
      "20           1  \n",
      "77           1  \n",
      "82           1  \n",
      "164          1  \n",
      "\n",
      "[5 rows x 32 columns]\n"
     ]
    },
    {
     "name": "stderr",
     "output_type": "stream",
     "text": [
      "C:\\Users\\DELL\\AppData\\Local\\Temp\\ipykernel_14584\\1967401226.py:34: SettingWithCopyWarning: \n",
      "A value is trying to be set on a copy of a slice from a DataFrame.\n",
      "Try using .loc[row_indexer,col_indexer] = value instead\n",
      "\n",
      "See the caveats in the documentation: https://pandas.pydata.org/pandas-docs/stable/user_guide/indexing.html#returning-a-view-versus-a-copy\n",
      "  misclassified_samples[\"Actual\"] = y_test[misclassified_idx]\n",
      "C:\\Users\\DELL\\AppData\\Local\\Temp\\ipykernel_14584\\1967401226.py:35: SettingWithCopyWarning: \n",
      "A value is trying to be set on a copy of a slice from a DataFrame.\n",
      "Try using .loc[row_indexer,col_indexer] = value instead\n",
      "\n",
      "See the caveats in the documentation: https://pandas.pydata.org/pandas-docs/stable/user_guide/indexing.html#returning-a-view-versus-a-copy\n",
      "  misclassified_samples[\"Predicted\"] = y_pred[misclassified_idx]\n"
     ]
    }
   ],
   "source": [
    "from sklearn.datasets import load_breast_cancer\n",
    "from sklearn.model_selection import train_test_split\n",
    "from sklearn.ensemble import RandomForestClassifier\n",
    "from sklearn.metrics import accuracy_score, confusion_matrix\n",
    "import pandas as pd\n",
    "\n",
    "# Load dataset\n",
    "data = load_breast_cancer()\n",
    "X, y = data.data, data.target\n",
    "feature_names = data.feature_names\n",
    "\n",
    "# Train-test split\n",
    "X_train, X_test, y_train, y_test = train_test_split(\n",
    "    X, y, test_size=0.3, random_state=42\n",
    ")\n",
    "\n",
    "# Train Random Forest Classifier\n",
    "rf = RandomForestClassifier(n_estimators=100, random_state=42)\n",
    "rf.fit(X_train, y_train)\n",
    "\n",
    "# Predict\n",
    "y_pred = rf.predict(X_test)\n",
    "\n",
    "# Accuracy\n",
    "accuracy = accuracy_score(y_test, y_pred)\n",
    "print(\"Accuracy:\", round(accuracy, 4))\n",
    "\n",
    "# Find misclassified indices\n",
    "misclassified_idx = (y_pred != y_test)\n",
    "\n",
    "# Create DataFrame for analysis\n",
    "X_test_df = pd.DataFrame(X_test, columns=feature_names)\n",
    "misclassified_samples = X_test_df[misclassified_idx]\n",
    "misclassified_samples[\"Actual\"] = y_test[misclassified_idx]\n",
    "misclassified_samples[\"Predicted\"] = y_pred[misclassified_idx]\n",
    "\n",
    "# Display first few misclassified samples\n",
    "print(\"\\nMisclassified Samples (first 5):\")\n",
    "print(misclassified_samples.head())"
   ]
  },
  {
   "cell_type": "markdown",
   "id": "01f99a29-34d6-47d4-b493-a315cd4cbfa8",
   "metadata": {},
   "source": [
    "**34.  Train a Bagging Classifier and compare its performance with a single Decision Tree Classifier.**"
   ]
  },
  {
   "cell_type": "code",
   "execution_count": 89,
   "id": "a1fa1781-b85e-4666-a81d-255a367edc3c",
   "metadata": {},
   "outputs": [
    {
     "name": "stdout",
     "output_type": "stream",
     "text": [
      "Single Decision Tree Accuracy: 94.15 %\n",
      "Bagging Classifier Accuracy   : 95.91 %\n"
     ]
    }
   ],
   "source": [
    "from sklearn.datasets import load_breast_cancer\n",
    "from sklearn.model_selection import train_test_split\n",
    "from sklearn.tree import DecisionTreeClassifier\n",
    "from sklearn.ensemble import BaggingClassifier\n",
    "from sklearn.metrics import accuracy_score\n",
    "\n",
    "# Load dataset\n",
    "data = load_breast_cancer()\n",
    "X, y = data.data, data.target\n",
    "\n",
    "# Split into train and test\n",
    "X_train, X_test, y_train, y_test = train_test_split(\n",
    "    X, y, test_size=0.3, random_state=42\n",
    ")\n",
    "\n",
    "# Train a single Decision Tree\n",
    "tree = DecisionTreeClassifier(random_state=42)\n",
    "tree.fit(X_train, y_train)\n",
    "tree_pred = tree.predict(X_test)\n",
    "tree_accuracy = accuracy_score(y_test, tree_pred)\n",
    "\n",
    "# Train a Bagging Classifier using Decision Trees\n",
    "bagging = BaggingClassifier(\n",
    "    estimator=DecisionTreeClassifier(),\n",
    "    n_estimators=50,\n",
    "    random_state=42\n",
    ")\n",
    "bagging.fit(X_train, y_train)\n",
    "bagging_pred = bagging.predict(X_test)\n",
    "bagging_accuracy = accuracy_score(y_test, bagging_pred)\n",
    "\n",
    "# Print the results\n",
    "print(\"Single Decision Tree Accuracy:\", round(tree_accuracy * 100, 2), \"%\")\n",
    "print(\"Bagging Classifier Accuracy   :\", round(bagging_accuracy * 100, 2), \"%\")"
   ]
  },
  {
   "cell_type": "markdown",
   "id": "81c71e74-8f33-444d-ac95-d3660788008a",
   "metadata": {},
   "source": [
    "**35. Train a Random Forest Classifier and visualize the confusion matrix.**"
   ]
  },
  {
   "cell_type": "code",
   "execution_count": 92,
   "id": "04d615b3-0f03-4ac0-90b9-661d5286e6fb",
   "metadata": {},
   "outputs": [
    {
     "data": {
      "image/png": "[encoded data removed]",
      "text/plain": [
       "<Figure size 600x500 with 2 Axes>"
      ]
     },
     "metadata": {},
     "output_type": "display_data"
    }
   ],
   "source": [
    "import matplotlib.pyplot as plt\n",
    "import seaborn as sns\n",
    "from sklearn.datasets import load_breast_cancer\n",
    "from sklearn.model_selection import train_test_split\n",
    "from sklearn.ensemble import RandomForestClassifier\n",
    "from sklearn.metrics import confusion_matrix, ConfusionMatrixDisplay\n",
    "\n",
    "# Load dataset\n",
    "data = load_breast_cancer()\n",
    "X, y = data.data, data.target\n",
    "\n",
    "# Train-test split\n",
    "X_train, X_test, y_train, y_test = train_test_split(\n",
    "    X, y, test_size=0.3, random_state=42\n",
    ")\n",
    "\n",
    "# Train Random Forest Classifier\n",
    "rf = RandomForestClassifier(n_estimators=100, random_state=42)\n",
    "rf.fit(X_train, y_train)\n",
    "\n",
    "# Predictions\n",
    "y_pred = rf.predict(X_test)\n",
    "\n",
    "# Compute confusion matrix\n",
    "cm = confusion_matrix(y_test, y_pred)\n",
    "\n",
    "# Visualize confusion matrix\n",
    "plt.figure(figsize=(6, 5))\n",
    "sns.heatmap(cm, annot=True, fmt='d', cmap='Blues', xticklabels=data.target_names, yticklabels=data.target_names)\n",
    "plt.xlabel('Predicted')\n",
    "plt.ylabel('Actual')\n",
    "plt.title('Random Forest Confusion Matrix')\n",
    "plt.show()"
   ]
  },
  {
   "cell_type": "markdown",
   "id": "9dd5ef78-f21a-4918-a54d-bcb021489db9",
   "metadata": {},
   "source": [
    "**36. Train a Stacking Classifier using Decision Trees, SVM, and Logistic Regression, and compare accuracy.**"
   ]
  },
  {
   "cell_type": "code",
   "execution_count": 95,
   "id": "3186a6bc-d285-420a-81e6-fb625fcbe47b",
   "metadata": {},
   "outputs": [
    {
     "name": "stdout",
     "output_type": "stream",
     "text": [
      "Stacking Classifier Accuracy: 97.08 %\n",
      "DT Accuracy: 94.15%\n",
      "SVM Accuracy: 93.57%\n"
     ]
    }
   ],
   "source": [
    "from sklearn.datasets import load_breast_cancer\n",
    "from sklearn.model_selection import train_test_split\n",
    "from sklearn.tree import DecisionTreeClassifier\n",
    "from sklearn.svm import SVC\n",
    "from sklearn.linear_model import LogisticRegression\n",
    "from sklearn.ensemble import StackingClassifier\n",
    "from sklearn.metrics import accuracy_score\n",
    "\n",
    "# Load dataset\n",
    "data = load_breast_cancer()\n",
    "X, y = data.data, data.target\n",
    "\n",
    "# Train-test split\n",
    "X_train, X_test, y_train, y_test = train_test_split(\n",
    "    X, y, test_size=0.3, random_state=42\n",
    ")\n",
    "\n",
    "# Define base learners\n",
    "base_learners = [\n",
    "    ('dt', DecisionTreeClassifier(random_state=42)),\n",
    "    ('svm', SVC(probability=True, random_state=42))\n",
    "]\n",
    "\n",
    "# Final estimator (meta-learner)\n",
    "final_estimator = LogisticRegression()\n",
    "\n",
    "# Create stacking classifier\n",
    "stack_model = StackingClassifier(\n",
    "    estimators=base_learners,\n",
    "    final_estimator=final_estimator,\n",
    "    cv=5\n",
    ")\n",
    "\n",
    "# Train stacking classifier\n",
    "stack_model.fit(X_train, y_train)\n",
    "\n",
    "# Predict\n",
    "y_pred = stack_model.predict(X_test)\n",
    "\n",
    "# Accuracy of stacking model\n",
    "stacking_accuracy = accuracy_score(y_test, y_pred)\n",
    "print(\"Stacking Classifier Accuracy:\", round(stacking_accuracy * 100, 2), \"%\")\n",
    "\n",
    "# Compare with individual models\n",
    "for name, model in base_learners:\n",
    "    model.fit(X_train, y_train)\n",
    "    pred = model.predict(X_test)\n",
    "    acc = accuracy_score(y_test, pred)\n",
    "    print(f\"{name.upper()} Accuracy: {round(acc * 100, 2)}%\")"
   ]
  },
  {
   "cell_type": "markdown",
   "id": "c484c5d7-15eb-48b9-b8e9-5e497f6a5b65",
   "metadata": {},
   "source": [
    "**37.  Train a Random Forest Classifier and print the top 5 most important features.**"
   ]
  },
  {
   "cell_type": "code",
   "execution_count": 98,
   "id": "cd95b16b-0899-47ac-b621-b6cdf3d9ee34",
   "metadata": {},
   "outputs": [
    {
     "name": "stdout",
     "output_type": "stream",
     "text": [
      "Top 5 Most Important Features in Random Forest Classifier:\n",
      "             Feature  Importance\n",
      " mean concave points    0.141934\n",
      "worst concave points    0.127136\n",
      "          worst area    0.118217\n",
      "      mean concavity    0.080557\n",
      "        worst radius    0.077975\n"
     ]
    }
   ],
   "source": [
    "from sklearn.datasets import load_breast_cancer\n",
    "from sklearn.ensemble import RandomForestClassifier\n",
    "from sklearn.model_selection import train_test_split\n",
    "import pandas as pd\n",
    "\n",
    "# Load dataset\n",
    "data = load_breast_cancer()\n",
    "X, y = data.data, data.target\n",
    "feature_names = data.feature_names\n",
    "\n",
    "# Train-test split\n",
    "X_train, X_test, y_train, y_test = train_test_split(X, y, test_size=0.3, random_state=42)\n",
    "\n",
    "# Train Random Forest Classifier\n",
    "rf = RandomForestClassifier(n_estimators=100, random_state=42)\n",
    "rf.fit(X_train, y_train)\n",
    "\n",
    "# Get feature importances\n",
    "importances = rf.feature_importances_\n",
    "\n",
    "# Create DataFrame for feature importances\n",
    "feature_importance_df = pd.DataFrame({\n",
    "    'Feature': feature_names,\n",
    "    'Importance': importances\n",
    "})\n",
    "\n",
    "# Sort and print top 5 important features\n",
    "top_features = feature_importance_df.sort_values(by='Importance', ascending=False).head(5)\n",
    "print(\"Top 5 Most Important Features in Random Forest Classifier:\")\n",
    "print(top_features.to_string(index=False))"
   ]
  },
  {
   "cell_type": "markdown",
   "id": "aa918511-567f-42a8-8041-98587f8b5946",
   "metadata": {},
   "source": [
    "**38.  Train a Bagging Classifier and evaluate performance using Precision, Recall, and F1-score.**"
   ]
  },
  {
   "cell_type": "code",
   "execution_count": 101,
   "id": "c222671b-b890-44c1-b255-b35fce032a74",
   "metadata": {},
   "outputs": [
    {
     "name": "stdout",
     "output_type": "stream",
     "text": [
      "Classification Report for Bagging Classifier:\n",
      "\n",
      "              precision    recall  f1-score   support\n",
      "\n",
      "   malignant       0.95      0.94      0.94        63\n",
      "      benign       0.96      0.97      0.97       108\n",
      "\n",
      "    accuracy                           0.96       171\n",
      "   macro avg       0.96      0.95      0.96       171\n",
      "weighted avg       0.96      0.96      0.96       171\n",
      "\n"
     ]
    }
   ],
   "source": [
    "from sklearn.datasets import load_breast_cancer\n",
    "from sklearn.ensemble import BaggingClassifier\n",
    "from sklearn.tree import DecisionTreeClassifier\n",
    "from sklearn.model_selection import train_test_split\n",
    "from sklearn.metrics import classification_report\n",
    "\n",
    "# Load dataset\n",
    "data = load_breast_cancer()\n",
    "X, y = data.data, data.target\n",
    "\n",
    "# Train-test split\n",
    "X_train, X_test, y_train, y_test = train_test_split(\n",
    "    X, y, test_size=0.3, random_state=42\n",
    ")\n",
    "\n",
    "# Train Bagging Classifier using Decision Trees\n",
    "bagging_model = BaggingClassifier(\n",
    "    estimator=DecisionTreeClassifier(),\n",
    "    n_estimators=50,\n",
    "    random_state=42\n",
    ")\n",
    "bagging_model.fit(X_train, y_train)\n",
    "\n",
    "# Predict\n",
    "y_pred = bagging_model.predict(X_test)\n",
    "\n",
    "# Print precision, recall, and F1-score\n",
    "print(\"Classification Report for Bagging Classifier:\\n\")\n",
    "print(classification_report(y_test, y_pred, target_names=data.target_names))"
   ]
  },
  {
   "cell_type": "markdown",
   "id": "792d5885-b314-4a4c-9e11-78417aa08411",
   "metadata": {},
   "source": [
    "**39.  Train a Random Forest Classifier and analyze the effect of max_depth on accuracy.**"
   ]
  },
  {
   "cell_type": "code",
   "execution_count": 104,
   "id": "0c2b61c2-b446-4ae4-8bde-3cfc5f2a13b0",
   "metadata": {},
   "outputs": [
    {
     "data": {
      "image/png": "[encoded data removed]",
      "text/plain": [
       "<Figure size 800x500 with 1 Axes>"
      ]
     },
     "metadata": {},
     "output_type": "display_data"
    },
    {
     "name": "stdout",
     "output_type": "stream",
     "text": [
      "Best Accuracy: 0.9708 at max_depth = 3\n"
     ]
    }
   ],
   "source": [
    "import matplotlib.pyplot as plt\n",
    "from sklearn.datasets import load_breast_cancer\n",
    "from sklearn.ensemble import RandomForestClassifier\n",
    "from sklearn.model_selection import train_test_split\n",
    "from sklearn.metrics import accuracy_score\n",
    "\n",
    "# Load dataset\n",
    "data = load_breast_cancer()\n",
    "X, y = data.data, data.target\n",
    "\n",
    "# Train-test split\n",
    "X_train, X_test, y_train, y_test = train_test_split(\n",
    "    X, y, test_size=0.3, random_state=42\n",
    ")\n",
    "\n",
    "# Try different values of max_depth\n",
    "depths = list(range(1, 21))  # From 1 to 20\n",
    "accuracies = []\n",
    "\n",
    "for depth in depths:\n",
    "    model = RandomForestClassifier(max_depth=depth, random_state=42)\n",
    "    model.fit(X_train, y_train)\n",
    "    y_pred = model.predict(X_test)\n",
    "    acc = accuracy_score(y_test, y_pred)\n",
    "    accuracies.append(acc)\n",
    "\n",
    "# Plot accuracy vs max_depth\n",
    "plt.figure(figsize=(8, 5))\n",
    "plt.plot(depths, accuracies, marker='o')\n",
    "plt.title('Effect of max_depth on Random Forest Accuracy')\n",
    "plt.xlabel('max_depth')\n",
    "plt.ylabel('Accuracy')\n",
    "plt.grid(True)\n",
    "plt.show()\n",
    "\n",
    "# Print best depth\n",
    "best_depth = depths[accuracies.index(max(accuracies))]\n",
    "print(f\"Best Accuracy: {max(accuracies):.4f} at max_depth = {best_depth}\")"
   ]
  },
  {
   "cell_type": "markdown",
   "id": "69ffa5a6-6da9-45a3-b27c-77a77e170a2a",
   "metadata": {},
   "source": [
    "**40.  Train a Bagging Regressor using different base estimators (DecisionTree and KNeighbors) and compare \n",
    "performance.**"
   ]
  },
  {
   "cell_type": "code",
   "execution_count": 107,
   "id": "c608bc3d-d875-44b1-9ee3-65e7ae8fab67",
   "metadata": {},
   "outputs": [
    {
     "name": "stdout",
     "output_type": "stream",
     "text": [
      "Performance Comparison of Bagging Regressors:\n",
      "\n",
      "1. Decision Tree Base:\n",
      "   - Mean Squared Error: 0.2579\n",
      "   - R² Score:           0.8035\n",
      "\n",
      "2. K-Neighbors Base:\n",
      "   - Mean Squared Error: 1.1021\n",
      "   - R² Score:           0.1603\n"
     ]
    }
   ],
   "source": [
    "from sklearn.datasets import fetch_california_housing\n",
    "from sklearn.ensemble import BaggingRegressor\n",
    "from sklearn.tree import DecisionTreeRegressor\n",
    "from sklearn.neighbors import KNeighborsRegressor\n",
    "from sklearn.model_selection import train_test_split\n",
    "from sklearn.metrics import mean_squared_error, r2_score\n",
    "import warnings\n",
    "warnings.filterwarnings(\"ignore\")\n",
    "\n",
    "# Load dataset\n",
    "data = fetch_california_housing()\n",
    "X, y = data.data, data.target\n",
    "\n",
    "# Train-test split\n",
    "X_train, X_test, y_train, y_test = train_test_split(X, y, test_size=0.3, random_state=42)\n",
    "\n",
    "# Define base estimators\n",
    "tree_base = DecisionTreeRegressor()\n",
    "knn_base = KNeighborsRegressor()\n",
    "\n",
    "# Bagging Regressor with Decision Tree\n",
    "bagging_tree = BaggingRegressor(estimator=tree_base, n_estimators=50, random_state=42)\n",
    "bagging_tree.fit(X_train, y_train)\n",
    "y_pred_tree = bagging_tree.predict(X_test)\n",
    "\n",
    "# Bagging Regressor with KNeighbors\n",
    "bagging_knn = BaggingRegressor(estimator=knn_base, n_estimators=50, random_state=42)\n",
    "bagging_knn.fit(X_train, y_train)\n",
    "y_pred_knn = bagging_knn.predict(X_test)\n",
    "\n",
    "# Evaluation\n",
    "mse_tree = mean_squared_error(y_test, y_pred_tree)\n",
    "mse_knn = mean_squared_error(y_test, y_pred_knn)\n",
    "r2_tree = r2_score(y_test, y_pred_tree)\n",
    "r2_knn = r2_score(y_test, y_pred_knn)\n",
    "\n",
    "# Print Results\n",
    "print(\"Performance Comparison of Bagging Regressors:\\n\")\n",
    "print(\"1. Decision Tree Base:\")\n",
    "print(f\"   - Mean Squared Error: {mse_tree:.4f}\")\n",
    "print(f\"   - R² Score:           {r2_tree:.4f}\\n\")\n",
    "\n",
    "print(\"2. K-Neighbors Base:\")\n",
    "print(f\"   - Mean Squared Error: {mse_knn:.4f}\")\n",
    "print(f\"   - R² Score:           {r2_knn:.4f}\")"
   ]
  },
  {
   "cell_type": "markdown",
   "id": "836f7932-681b-4513-b03d-2dff92b7b752",
   "metadata": {},
   "source": [
    "**41.  Train a Random Forest Classifier and evaluate its performance using ROC-AUC Score.**"
   ]
  },
  {
   "cell_type": "code",
   "execution_count": 110,
   "id": "a0de5bab-1e44-4d1f-a094-e8ac009da785",
   "metadata": {},
   "outputs": [
    {
     "name": "stdout",
     "output_type": "stream",
     "text": [
      "ROC-AUC Score: 0.9968\n"
     ]
    },
    {
     "data": {
      "image/png": "[encoded data removed]",
      "text/plain": [
       "<Figure size 600x400 with 1 Axes>"
      ]
     },
     "metadata": {},
     "output_type": "display_data"
    }
   ],
   "source": [
    "from sklearn.datasets import load_breast_cancer\n",
    "from sklearn.ensemble import RandomForestClassifier\n",
    "from sklearn.model_selection import train_test_split\n",
    "from sklearn.metrics import roc_auc_score, roc_curve\n",
    "import matplotlib.pyplot as plt\n",
    "\n",
    "# Load Breast Cancer dataset\n",
    "data = load_breast_cancer()\n",
    "X, y = data.data, data.target\n",
    "\n",
    "# Train-test split\n",
    "X_train, X_test, y_train, y_test = train_test_split(\n",
    "    X, y, test_size=0.3, random_state=42\n",
    ")\n",
    "\n",
    "# Train Random Forest Classifier\n",
    "rf = RandomForestClassifier(n_estimators=100, random_state=42)\n",
    "rf.fit(X_train, y_train)\n",
    "\n",
    "# Predict probabilities for ROC-AUC\n",
    "y_probs = rf.predict_proba(X_test)[:, 1]  # Probability for class 1\n",
    "\n",
    "# Compute ROC-AUC score\n",
    "roc_auc = roc_auc_score(y_test, y_probs)\n",
    "print(f\"ROC-AUC Score: {roc_auc:.4f}\")\n",
    "\n",
    "# Plot ROC Curve\n",
    "fpr, tpr, thresholds = roc_curve(y_test, y_probs)\n",
    "plt.figure(figsize=(6, 4))\n",
    "plt.plot(fpr, tpr, label=f\"ROC Curve (AUC = {roc_auc:.4f})\")\n",
    "plt.plot([0, 1], [0, 1], linestyle='--', color='gray')\n",
    "plt.xlabel(\"False Positive Rate\")\n",
    "plt.ylabel(\"True Positive Rate\")\n",
    "plt.title(\"ROC Curve - Random Forest\")\n",
    "plt.legend()\n",
    "plt.grid(True)\n",
    "plt.show()"
   ]
  },
  {
   "cell_type": "markdown",
   "id": "1af54caf-b6dc-4812-a56b-a7f44b7ccab8",
   "metadata": {},
   "source": [
    "**42. Train a Bagging Classifier and evaluate its performance using cross-validation**"
   ]
  },
  {
   "cell_type": "code",
   "execution_count": 113,
   "id": "8f112d86-b859-4446-8459-ea4be4a91657",
   "metadata": {},
   "outputs": [
    {
     "name": "stdout",
     "output_type": "stream",
     "text": [
      "Cross-validation Accuracy Scores: [0.9122807  0.92105263 0.98245614 0.95614035 1.        ]\n",
      "Mean Accuracy: 0.9544\n"
     ]
    }
   ],
   "source": [
    "from sklearn.datasets import load_breast_cancer\n",
    "from sklearn.ensemble import BaggingClassifier\n",
    "from sklearn.tree import DecisionTreeClassifier\n",
    "from sklearn.model_selection import cross_val_score\n",
    "import numpy as np\n",
    "\n",
    "# Load Breast Cancer dataset\n",
    "data = load_breast_cancer()\n",
    "X, y = data.data, data.target\n",
    "\n",
    "# Define Bagging Classifier with Decision Tree as base estimator\n",
    "bagging_model = BaggingClassifier(\n",
    "    estimator=DecisionTreeClassifier(),\n",
    "    n_estimators=50,\n",
    "    random_state=42\n",
    ")\n",
    "\n",
    "# Evaluate using 5-fold cross-validation\n",
    "scores = cross_val_score(bagging_model, X, y, cv=5, scoring='accuracy')\n",
    "\n",
    "# Print mean and individual fold scores\n",
    "print(\"Cross-validation Accuracy Scores:\", scores)\n",
    "print(f\"Mean Accuracy: {np.mean(scores):.4f}\")"
   ]
  },
  {
   "cell_type": "markdown",
   "id": "bb27a1e9-3242-4fc9-a58c-c1c0e4fc0a19",
   "metadata": {},
   "source": [
    "**43.  Train a Random Forest Classifier and plot the Precision-Recall curve.**"
   ]
  },
  {
   "cell_type": "code",
   "execution_count": 118,
   "id": "f24e55df-144f-4ec9-b3c8-ce091c41dd1b",
   "metadata": {},
   "outputs": [
    {
     "name": "stdout",
     "output_type": "stream",
     "text": [
      "Average Precision Score: 0.9981\n"
     ]
    },
    {
     "data": {
      "image/png": "[encoded data removed]",
      "text/plain": [
       "<Figure size 600x400 with 1 Axes>"
      ]
     },
     "metadata": {},
     "output_type": "display_data"
    }
   ],
   "source": [
    "from sklearn.datasets import load_breast_cancer\n",
    "from sklearn.ensemble import RandomForestClassifier\n",
    "from sklearn.model_selection import train_test_split\n",
    "from sklearn.metrics import precision_recall_curve, average_precision_score\n",
    "import matplotlib.pyplot as plt\n",
    "\n",
    "# Load dataset\n",
    "data = load_breast_cancer()\n",
    "X, y = data.data, data.target\n",
    "\n",
    "# Train-test split\n",
    "X_train, X_test, y_train, y_test = train_test_split(\n",
    "    X, y, test_size=0.3, random_state=42\n",
    ")\n",
    "\n",
    "# Train Random Forest Classifier\n",
    "rf = RandomForestClassifier(n_estimators=100, random_state=42)\n",
    "rf.fit(X_train, y_train)\n",
    "\n",
    "# Predict probabilities for positive class\n",
    "y_probs = rf.predict_proba(X_test)[:, 1]\n",
    "\n",
    "# Compute precision-recall curve\n",
    "precision, recall, thresholds = precision_recall_curve(y_test, y_probs)\n",
    "\n",
    "# Average precision score\n",
    "avg_precision = average_precision_score(y_test, y_probs)\n",
    "print(f\"Average Precision Score: {avg_precision:.4f}\")\n",
    "\n",
    "# Plot the Precision-Recall curve\n",
    "plt.figure(figsize=(6, 4))\n",
    "plt.plot(recall, precision, label=f\"AP = {avg_precision:.4f}\")\n",
    "plt.xlabel(\"Recall\")\n",
    "plt.ylabel(\"Precision\")\n",
    "plt.title(\"Precision-Recall Curve - Random Forest\")\n",
    "plt.legend()\n",
    "plt.grid(True)\n",
    "plt.show()"
   ]
  },
  {
   "cell_type": "markdown",
   "id": "35103d29-93fb-443d-bef3-0ce60b40013f",
   "metadata": {},
   "source": [
    "**44.  Train a Stacking Classifier with Random Forest and Logistic Regression and compare accuracy.**"
   ]
  },
  {
   "cell_type": "code",
   "execution_count": 121,
   "id": "e3a4e099-7b34-4a16-bc81-a56208686524",
   "metadata": {},
   "outputs": [
    {
     "name": "stdout",
     "output_type": "stream",
     "text": [
      "RF Accuracy: 0.9708\n",
      "LR Accuracy: 0.9649\n",
      "\n",
      "STACKING Classifier Accuracy: 0.9708\n"
     ]
    }
   ],
   "source": [
    "from sklearn.datasets import load_breast_cancer\n",
    "from sklearn.ensemble import RandomForestClassifier, StackingClassifier\n",
    "from sklearn.linear_model import LogisticRegression\n",
    "from sklearn.model_selection import train_test_split\n",
    "from sklearn.metrics import accuracy_score\n",
    "\n",
    "# Load dataset\n",
    "data = load_breast_cancer()\n",
    "X, y = data.data, data.target\n",
    "\n",
    "# Train-test split\n",
    "X_train, X_test, y_train, y_test = train_test_split(X, y, test_size=0.3, random_state=42)\n",
    "\n",
    "# Base estimators\n",
    "base_estimators = [\n",
    "    ('rf', RandomForestClassifier(n_estimators=100, random_state=42)),\n",
    "    ('lr', LogisticRegression(max_iter=1000))\n",
    "]\n",
    "\n",
    "# Meta-classifier (final estimator)\n",
    "meta_model = LogisticRegression()\n",
    "\n",
    "# Stacking Classifier\n",
    "stack_model = StackingClassifier(\n",
    "    estimators=base_estimators,\n",
    "    final_estimator=meta_model,\n",
    "    cv=5\n",
    ")\n",
    "\n",
    "# Train all models\n",
    "for name, model in base_estimators:\n",
    "    model.fit(X_train, y_train)\n",
    "    preds = model.predict(X_test)\n",
    "    print(f\"{name.upper()} Accuracy: {accuracy_score(y_test, preds):.4f}\")\n",
    "\n",
    "# Train Stacking Classifier\n",
    "stack_model.fit(X_train, y_train)\n",
    "stack_preds = stack_model.predict(X_test)\n",
    "print(f\"\\nSTACKING Classifier Accuracy: {accuracy_score(y_test, stack_preds):.4f}\")"
   ]
  },
  {
   "cell_type": "markdown",
   "id": "19fb54ee-f391-49df-a6cd-5efdce7ae7f1",
   "metadata": {},
   "source": [
    "**45.  Train a Bagging Regressor with different levels of bootstrap samples and compare performance.**"
   ]
  },
  {
   "cell_type": "code",
   "execution_count": 127,
   "id": "ac7d90e1-c8bc-4558-ac91-8621b667dcd7",
   "metadata": {},
   "outputs": [
    {
     "name": "stdout",
     "output_type": "stream",
     "text": [
      "max_samples = 0.3 --> MSE = 0.2766\n",
      "max_samples = 0.5 --> MSE = 0.2626\n",
      "max_samples = 0.7 --> MSE = 0.2585\n",
      "max_samples = 1.0 --> MSE = 0.2569\n"
     ]
    }
   ],
   "source": [
    "from sklearn.datasets import fetch_california_housing\n",
    "from sklearn.model_selection import train_test_split\n",
    "from sklearn.ensemble import BaggingRegressor\n",
    "from sklearn.tree import DecisionTreeRegressor\n",
    "from sklearn.metrics import mean_squared_error\n",
    "import numpy as np\n",
    "\n",
    "# Load regression dataset\n",
    "data = fetch_california_housing()\n",
    "X, y = data.data, data.target\n",
    "\n",
    "# Train-test split\n",
    "X_train, X_test, y_train, y_test = train_test_split(X, y, test_size=0.3, random_state=42)\n",
    "\n",
    "# Different max_samples values\n",
    "sample_ratios = [0.3, 0.5, 0.7, 1.0]\n",
    "results = {}\n",
    "\n",
    "# Train and evaluate BaggingRegressor for each bootstrap sample size\n",
    "for ratio in sample_ratios:\n",
    "    model = BaggingRegressor(\n",
    "        estimator=DecisionTreeRegressor(),\n",
    "        n_estimators=100,\n",
    "        max_samples=ratio,\n",
    "        random_state=42\n",
    "    )\n",
    "    model.fit(X_train, y_train)\n",
    "    preds = model.predict(X_test)\n",
    "    mse = mean_squared_error(y_test, preds)\n",
    "    results[ratio] = mse\n",
    "    print(f\"max_samples = {ratio:.1f} --> MSE = {mse:.4f}\")"
   ]
  },
  {
   "cell_type": "code",
   "execution_count": null,
   "id": "19bcb90b-ebe1-4394-92d8-c33efb75d64f",
   "metadata": {},
   "outputs": [],
   "source": []
  }
 ],
 "metadata": {
  "kernelspec": {
   "display_name": "Python 3 (ipykernel)",
   "language": "python",
   "name": "python3"
  },
  "language_info": {
   "codemirror_mode": {
    "name": "ipython",
    "version": 3
   },
   "file_extension": ".py",
   "mimetype": "text/x-python",
   "name": "python",
   "nbconvert_exporter": "python",
   "pygments_lexer": "ipython3",
   "version": "3.12.7"
  }
 },
 "nbformat": 4,
 "nbformat_minor": 5
}
