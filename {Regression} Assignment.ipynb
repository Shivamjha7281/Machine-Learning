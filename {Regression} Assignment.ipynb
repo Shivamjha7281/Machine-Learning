{
 "cells": [
  {
   "cell_type": "code",
   "execution_count": 42,
   "id": "fa99e4e6-a8b8-46d8-a6ed-b29799126ec8",
   "metadata": {},
   "outputs": [],
   "source": [
    "import pandas as pd \n",
    "import numpy as np\n",
    "import seaborn as sns\n",
    "import matplotlib.pyplot as plt\n",
    "from IPython.display import Image\n",
    "\n",
    "\n",
    "\n",
    "import warnings\n",
    "warnings.filterwarnings('ignore')"
   ]
  },
  {
   "cell_type": "code",
   "execution_count": null,
   "id": "ec0df892-fb4a-46bb-af79-75e3fa437642",
   "metadata": {},
   "outputs": [],
   "source": []
  },
  {
   "cell_type": "markdown",
   "id": "57ecbcee-7f3b-4727-8df2-3c6ed1360d34",
   "metadata": {},
   "source": [
    "**1. What is Simple Linear Regression?**"
   ]
  },
  {
   "cell_type": "markdown",
   "id": "2e7e4b8e-5711-487c-b02a-666992aad59a",
   "metadata": {},
   "source": [
    "- Simple Linear Regression is a method to predict a numerical value (output) using one independent variable (input) by drawing a straight line that best fits the data.\n",
    "\n",
    "- It assumes there’s a linear relationship between the two variables.\n",
    "\n",
    "- We can think of like \"if we know X, so can we predict Y using a straight line?\"\n",
    "\n",
    "- Example - Predicting Salary from Years of Experience"
   ]
  },
  {
   "cell_type": "raw",
   "id": "4b8c2c7f-043f-46fe-9b41-c9f1665516f7",
   "metadata": {},
   "source": [
    "Predicting Salary from Years of Experience                        Salary (₹)\n",
    "            1                                                      2,50,000\n",
    "            2                                                      3,20,000\n",
    "            3                                                      4,10,000\n",
    "            4                                                      5,00,000\n",
    "            5                                                      5,80,000"
   ]
  },
  {
   "cell_type": "markdown",
   "id": "27f84218-2ece-44e6-a69b-a7bc3b965c44",
   "metadata": {},
   "source": [
    "We want to predict salary based on years of experience.\n",
    "\n",
    "The Linear Regression Line - "
   ]
  },
  {
   "cell_type": "markdown",
   "id": "f896ff0c-09f3-4bbb-8acf-365b952b9eb9",
   "metadata": {},
   "source": [
    "Salary = 80,000 * (Years of Experience) + 1,70,000\n",
    "\n",
    "So if someone has 6 years of experience:\n",
    "\n",
    "Salary = 80,000 * 6 + 1,70,000 = ₹6,50,000"
   ]
  },
  {
   "cell_type": "markdown",
   "id": "7083a9be-e316-4878-891e-792f6a52a51e",
   "metadata": {},
   "source": [
    "- One input variable (Years of Experience)\n",
    "\n",
    "- One output variable (Salary)\n",
    "\n",
    "- Predicts using a straight line equation: y = mx + c"
   ]
  },
  {
   "cell_type": "markdown",
   "id": "e883c903-d26b-48c1-a7e4-a75116dcb2b9",
   "metadata": {},
   "source": [
    "**2. What are the key assumptions of Simple Linear Regression?**"
   ]
  },
  {
   "cell_type": "markdown",
   "id": "15901fc1-af96-4a93-bbcb-f50966f9034e",
   "metadata": {},
   "source": [
    "- Scenario:\n",
    "    - We're predicting Salary based on Years of Experience."
   ]
  },
  {
   "cell_type": "markdown",
   "id": "7b370c98-e1d7-4181-bb79-9486ba47c1c2",
   "metadata": {},
   "source": [
    "-  Linear Relationship\n",
    "    - There should be a straight-line relationship between the input and output.\n",
    "    - As experience increases, salary increases at a steady rate.\n",
    "But if salary suddenly jumps or flattens after 3 years, the relationship isn’t linear.\n",
    "\n",
    "- Independence of Errors\n",
    "    - The errors (residuals) should not be related to each other.\n",
    "    - If we collect salaries of employees from the same company team, their salaries might be connected this breaks the rule.\n",
    "    - Each person’s data should be independent.\n",
    "\n",
    "- Homoscedasticity (Equal Variance of Errors)\n",
    "    - The spread of errors should be roughly the same across all levels of experience.\n",
    "    - If prediction errors are small for juniors but huge for seniors, the model is inconsistent.\n",
    "\n",
    "\n",
    "- Normality of Residuals\n",
    "    - The errors (residuals) should be normally distributed.\n",
    "    - After predicting salary, the leftover errors should follow a bell curve.\n",
    "    - If most predictions are off in one direction (all too high or too low), that’s bad.\n",
    "\n",
    "- No (or minimal) Outliers\n",
    "    - No extreme values that can distort the line\n",
    "    - If one person has 1 year of experience and earns ₹20 lakh, it will pull the line away from other points. "
   ]
  },
  {
   "cell_type": "code",
   "execution_count": null,
   "id": "f28b257e-e75c-40a0-ae5a-8fd5f63cccc1",
   "metadata": {},
   "outputs": [],
   "source": []
  },
  {
   "cell_type": "markdown",
   "id": "bfb1cff5-2abb-4623-b391-be402b7c4d61",
   "metadata": {},
   "source": [
    "**3. What does the coefficient m represent in the equation Y=mX+c ?**"
   ]
  },
  {
   "cell_type": "markdown",
   "id": "c4ac352f-d908-48d7-9a00-9dfdd99ddb49",
   "metadata": {},
   "source": [
    "- Equation :\n",
    "    - Y = mX + c\n",
    "- Y = predicted output\n",
    "- X = input variable\n",
    "- m = slope or coefficient\n",
    "- c = intercept (starting value when X = 0)\n",
    "\n",
    "- m tells you how much Y will change when X increases by 1 unit. It’s the rate of change.\n",
    "\n",
    "- Example - Predicting Salary from Years of Experience\n",
    "    - Let’s say:\n",
    "    > Salary = 80,000 × Experience + 1,70,000\n",
    "    - Here,\n",
    "        - m = 80,000\n",
    "        - c = 1,70,000\n",
    "\n",
    "- Every time experience increases by 1 year, the salary increases by ₹80,000 So:\n",
    "- 1 year → ₹2,50,000\n",
    "- 2 years → ₹3,30,000\n",
    "- 3 years → ₹4,10,000\n",
    "...and so on\n",
    "\n",
    "- This 80,000 is the slope, showing how steep the line is — or how fast salary grows with experience."
   ]
  },
  {
   "cell_type": "markdown",
   "id": "0d5bb0a5-3fd3-41a7-935d-a0a3d2fec298",
   "metadata": {},
   "source": [
    "**4. What does the intercept c represent in the equation Y=mX+c?**"
   ]
  },
  {
   "cell_type": "markdown",
   "id": "bfd7a4a9-0862-4c87-b5c1-30c6d873d82a",
   "metadata": {},
   "source": [
    "- Equation\n",
    "> Y = mX + c\n",
    "\n",
    "- Where:\n",
    "    - Y = predicted output\n",
    "    - X = input variable\n",
    "    - m = slope (how much Y changes with X)\n",
    "    - c = intercept\n",
    "\n",
    "- c is the value of Y when X = 0.\n",
    "\n",
    "- c shows where the regression line crosses the Y-axis.\n",
    "\n",
    "- Let’s take the same salary prediction example:\n",
    "> Salary = 80,000 × Experience + 1,70,000\n",
    "\n",
    "- Here:\n",
    "    - m = 80,000\n",
    "    - c = 1,70,000\n",
    "\n",
    "- When a person has 0 years of experience, their predicted starting salary is ₹1,70,000.\n",
    "This is the base salary — before any experience is added."
   ]
  },
  {
   "cell_type": "markdown",
   "id": "b93599c8-51e3-4b0a-93dd-79ac24ed16f6",
   "metadata": {},
   "source": [
    "**5. How do we calculate the slope m in Simple Linear Regression?**"
   ]
  },
  {
   "cell_type": "markdown",
   "id": "2100c79b-2e6e-48ba-b78d-87d8b0870a2d",
   "metadata": {},
   "source": [
    "- Equation - Y = mX + c\n",
    "\n",
    "- We want to calculate the slope m, which tells us how much Y changes for every 1-unit increase in X.\n",
    "\n",
    "- Formula to Calculate the Slope m: "
   ]
  },
  {
   "attachments": {
    "4eca3d2b-e993-4d53-8f30-1becf1639fa4.png": {
     "image/png": "[encoded data removed]"
    }
   },
   "cell_type": "markdown",
   "id": "14214052-5f6c-4052-8233-62249876df1f",
   "metadata": {},
   "source": [
    "![image.png](attachment:4eca3d2b-e993-4d53-8f30-1becf1639fa4.png)"
   ]
  },
  {
   "attachments": {
    "c74091fb-73a8-4c7d-baf1-75515e307cf9.png": {
     "image/png": "[encoded data removed]"
    }
   },
   "cell_type": "markdown",
   "id": "ea3e65db-6694-4f36-ae18-6008d8736adc",
   "metadata": {},
   "source": [
    "![image.png](attachment:c74091fb-73a8-4c7d-baf1-75515e307cf9.png)"
   ]
  },
  {
   "attachments": {},
   "cell_type": "markdown",
   "id": "7098026a-ad54-42a2-aa1f-5c44c548d357",
   "metadata": {},
   "source": [
    "![slope.jpg](slope.jpg)"
   ]
  },
  {
   "cell_type": "markdown",
   "id": "e639a45d-d68e-4df2-9da8-bcde586125cb",
   "metadata": {},
   "source": [
    "Slope (m) = 80,000 - Which means For every 1 extra year of experience, the salary increases by ₹80,000."
   ]
  },
  {
   "cell_type": "markdown",
   "id": "b2ae207b-479d-4102-b95f-d2705311db7b",
   "metadata": {},
   "source": [
    "**6.  What is the purpose of the least squares method in Simple Linear Regression?**"
   ]
  },
  {
   "cell_type": "markdown",
   "id": "00757ee4-8f07-4eba-9423-3c3fa7fcabdb",
   "metadata": {},
   "source": [
    "Scenario: Predicting a Student's Exam Score Based on Study Hours\n",
    "\n",
    "- Suppose a teacher wants to predict students' exam scores based on how many hours they study. She collects data from several students:"
   ]
  },
  {
   "cell_type": "code",
   "execution_count": 22,
   "id": "5bd79887-cd6e-41db-9061-2c5aad8aba9a",
   "metadata": {},
   "outputs": [
    {
     "data": {
      "text/html": [
       "<div>\n",
       "<style scoped>\n",
       "    .dataframe tbody tr th:only-of-type {\n",
       "        vertical-align: middle;\n",
       "    }\n",
       "\n",
       "    .dataframe tbody tr th {\n",
       "        vertical-align: top;\n",
       "    }\n",
       "\n",
       "    .dataframe thead th {\n",
       "        text-align: right;\n",
       "    }\n",
       "</style>\n",
       "<table border=\"1\" class=\"dataframe\">\n",
       "  <thead>\n",
       "    <tr style=\"text-align: right;\">\n",
       "      <th></th>\n",
       "      <th>Study Hours (X)</th>\n",
       "      <th>Exam Score (Y)</th>\n",
       "    </tr>\n",
       "  </thead>\n",
       "  <tbody>\n",
       "    <tr>\n",
       "      <th>0</th>\n",
       "      <td>1</td>\n",
       "      <td>50</td>\n",
       "    </tr>\n",
       "    <tr>\n",
       "      <th>1</th>\n",
       "      <td>2</td>\n",
       "      <td>55</td>\n",
       "    </tr>\n",
       "    <tr>\n",
       "      <th>2</th>\n",
       "      <td>3</td>\n",
       "      <td>65</td>\n",
       "    </tr>\n",
       "    <tr>\n",
       "      <th>3</th>\n",
       "      <td>4</td>\n",
       "      <td>70</td>\n",
       "    </tr>\n",
       "    <tr>\n",
       "      <th>4</th>\n",
       "      <td>5</td>\n",
       "      <td>75</td>\n",
       "    </tr>\n",
       "  </tbody>\n",
       "</table>\n",
       "</div>"
      ],
      "text/plain": [
       "   Study Hours (X)  Exam Score (Y)\n",
       "0                1              50\n",
       "1                2              55\n",
       "2                3              65\n",
       "3                4              70\n",
       "4                5              75"
      ]
     },
     "execution_count": 22,
     "metadata": {},
     "output_type": "execute_result"
    }
   ],
   "source": [
    "data = {'Study Hours (X)': [1, 2, 3, 4, 5],\n",
    "       'Exam Score (Y)': [50, 55, 65, 70, 75]}\n",
    "\n",
    "df = pd.DataFrame(data)\n",
    "df"
   ]
  },
  {
   "cell_type": "markdown",
   "id": "4d81001b-7c9b-47de-bc29-347097664421",
   "metadata": {},
   "source": [
    "The purpose of the least squares method is to find the best-fitting straight line through the data points so we can predict exam scores based on study hours."
   ]
  },
  {
   "cell_type": "markdown",
   "id": "70110836-3974-47c1-a318-ddecdf8603c4",
   "metadata": {},
   "source": [
    "We want to find a line in the form - Y=mX+b\n",
    "\n",
    "That minimizes the total squared difference between actual scores and predicted scores"
   ]
  },
  {
   "cell_type": "markdown",
   "id": "ae8c0948-a1e2-4195-83e7-2dd039eb7e08",
   "metadata": {},
   "source": [
    "![Regression Image](reg.jpg)"
   ]
  },
  {
   "cell_type": "markdown",
   "id": "bfe3c5bd-e66a-4957-a2d0-831c02ba5d87",
   "metadata": {},
   "source": [
    "This line predicts exam scores based on study hours.\n",
    "E.g., if a student studies for 4 hours:\n",
    "\n",
    "𝑌 = 6.5(4) + 43.5 = 26+43.5 = 69.5 ≈ 70"
   ]
  },
  {
   "cell_type": "markdown",
   "id": "246022f0-309e-4fe8-b783-9c44f40a7a5d",
   "metadata": {},
   "source": [
    "The least squares method helps find this line — Y=6.5X+43.5\n",
    "\n",
    "by minimizing the total squared error between the actual scores and the predicted ones.\n",
    "\n",
    "So we can predict future exam scores accurately based on study hours."
   ]
  },
  {
   "cell_type": "markdown",
   "id": "d919ed30-c98e-4dc8-83c0-0df0b9ef052a",
   "metadata": {},
   "source": [
    "**7.  How is the coefficient of determination (R²) interpreted in Simple Linear Regression?**"
   ]
  },
  {
   "cell_type": "markdown",
   "id": "5779b143-1c2a-40af-8de5-7b9796b192f2",
   "metadata": {},
   "source": [
    "- The coefficient of determination, denoted as R², tells us how well the regression line fits the data.\n",
    "\n",
    "- R² measures how much of the variation in the dependent variable (Y) is explained by the independent variable (X).\n",
    "\n",
    "- Its value ranges from 0 to 1."
   ]
  },
  {
   "cell_type": "code",
   "execution_count": 80,
   "id": "80561249-ae6e-4049-8aab-5e95be42dc1a",
   "metadata": {},
   "outputs": [
    {
     "data": {
      "text/html": [
       "<div>\n",
       "<style scoped>\n",
       "    .dataframe tbody tr th:only-of-type {\n",
       "        vertical-align: middle;\n",
       "    }\n",
       "\n",
       "    .dataframe tbody tr th {\n",
       "        vertical-align: top;\n",
       "    }\n",
       "\n",
       "    .dataframe thead th {\n",
       "        text-align: right;\n",
       "    }\n",
       "</style>\n",
       "<table border=\"1\" class=\"dataframe\">\n",
       "  <thead>\n",
       "    <tr style=\"text-align: right;\">\n",
       "      <th></th>\n",
       "      <th>R² Value</th>\n",
       "      <th>Interpretation</th>\n",
       "    </tr>\n",
       "  </thead>\n",
       "  <tbody>\n",
       "    <tr>\n",
       "      <th>0</th>\n",
       "      <td>0.0</td>\n",
       "      <td>The model explains none of the variation in Y</td>\n",
       "    </tr>\n",
       "    <tr>\n",
       "      <th>1</th>\n",
       "      <td>0.5</td>\n",
       "      <td>The model explains 50% of the variation in Y</td>\n",
       "    </tr>\n",
       "    <tr>\n",
       "      <th>2</th>\n",
       "      <td>1.0</td>\n",
       "      <td>The model explains 100% of the variation in Y ...</td>\n",
       "    </tr>\n",
       "  </tbody>\n",
       "</table>\n",
       "</div>"
      ],
      "text/plain": [
       "   R² Value                                     Interpretation\n",
       "0       0.0      The model explains none of the variation in Y\n",
       "1       0.5       The model explains 50% of the variation in Y\n",
       "2       1.0  The model explains 100% of the variation in Y ..."
      ]
     },
     "execution_count": 80,
     "metadata": {},
     "output_type": "execute_result"
    }
   ],
   "source": [
    "Interpretation = {'R² Value': [0, 0.50, 1], \n",
    "                 'Interpretation': ['The model explains none of the variation in Y',\n",
    "                                   'The model explains 50% of the variation in Y',\n",
    "                                   'The model explains 100% of the variation in Y (perfect fit)']}\n",
    "df = pd.DataFrame(Interpretation)\n",
    "df"
   ]
  },
  {
   "cell_type": "markdown",
   "id": "c26877b7-55d1-4430-9e67-09adbf3790dd",
   "metadata": {},
   "source": [
    "Example (House Price):\n",
    "- If we're predicting house price based on square footage, and R**2 = 0.85\n",
    "- This means 85% of the variation in house prices is explained by square footage.\n",
    "- The remaining 15% is due to other factors (e.g., location, age, condition).\n",
    "- R² tells us how well your model explains the data — higher R² means better fit.  "
   ]
  },
  {
   "cell_type": "code",
   "execution_count": null,
   "id": "fc10ef97-445c-4818-9225-883adf7d7192",
   "metadata": {},
   "outputs": [],
   "source": []
  },
  {
   "cell_type": "markdown",
   "id": "f4f1d268-a9b5-4407-8b9e-c5fa65ed38f0",
   "metadata": {},
   "source": [
    "**8.  What is Multiple Linear Regression?**"
   ]
  },
  {
   "cell_type": "markdown",
   "id": "964d76f5-7661-4f78-931f-f39d60cf618f",
   "metadata": {},
   "source": [
    "Multiple Linear Regression (MLR) is a statistical technique used to predict the value of a dependent variable (Y) based on two or more independent variables (X₁, X₂, X₃, ...)."
   ]
  },
  {
   "cell_type": "markdown",
   "id": "3be9e6d4-3977-4a84-afcd-a936752a1140",
   "metadata": {},
   "source": [
    "- Example - We'are  trying to predict a house price (Price) based on\n",
    "    - Size of the house in square feet\n",
    "    - Number of bedrooms\n",
    "    - Age of the house\n",
    "- Then the equation might look like: "
   ]
  },
  {
   "attachments": {
    "af1f99e4-40ac-4241-a401-37f0d6ce0e79.png": {
     "image/png": "[encoded data removed]"
    }
   },
   "cell_type": "markdown",
   "id": "cf859488-35d8-41b7-8244-9de604edcc73",
   "metadata": {},
   "source": [
    "![image.png](attachment:af1f99e4-40ac-4241-a401-37f0d6ce0e79.png)"
   ]
  },
  {
   "cell_type": "markdown",
   "id": "105068ce-09b3-4bc9-a1ef-048e3552fe2d",
   "metadata": {},
   "source": [
    "Here, We're using multiple factors to estimate the house price — not just one like in simple linear regression."
   ]
  },
  {
   "cell_type": "markdown",
   "id": "ecbd3047-0799-439a-bd72-497726543412",
   "metadata": {},
   "source": [
    "- Multiple Linear Regression models the relationship between one dependent variable and two or more independent variables.\n",
    "- Equation Format -"
   ]
  },
  {
   "attachments": {
    "95b898f5-32e4-4d07-b12e-d4cf20e11d03.png": {
     "image/png": "[encoded data removed]"
    }
   },
   "cell_type": "markdown",
   "id": "8d8b1a37-a8fc-4a2f-844d-5532afb3b2ff",
   "metadata": {},
   "source": [
    "![image.png](attachment:95b898f5-32e4-4d07-b12e-d4cf20e11d03.png)"
   ]
  },
  {
   "cell_type": "markdown",
   "id": "4efc4283-acf2-449e-bdd0-58eb9482185a",
   "metadata": {},
   "source": [
    "- Purpose - It’s used to predict outcomes more accurately when multiple factors influence the result.\n",
    "- Real Use Cases:\n",
    "    - Predicting salary based on education, experience, and age\n",
    "    - Estimating sales using ad budget, season, and number of stores\n",
    "    - Predicting health risk using BMI, age, and blood pressure\n",
    "- Key Benefit:\n",
    "    - It helps to understand the combined effect of several variables on the target — giving better prediction and insight than simple linear regression."
   ]
  },
  {
   "cell_type": "markdown",
   "id": "dd6a4022-8559-4584-bf42-105b0f01d23e",
   "metadata": {},
   "source": [
    "**9. What is the main difference between Simple and Multiple Linear Regression?**"
   ]
  },
  {
   "cell_type": "markdown",
   "id": "56afeb6b-2ab2-4dab-b21c-fd10c61e2f5b",
   "metadata": {},
   "source": [
    "- Simple Linear Regression: One input - One output\n",
    "- Multiple Linear Regression: Many inputs - One output\n",
    "- Simple Linear Regression has Only one Number of Independent Variables (X).\n",
    "- Multiple Linear Regression has Two or more Independent Variables (X).\n",
    "- Simple Linear Regression example -\n",
    "    - Predicting score based on study hours\n",
    "- Multiple Linear Regression example -\n",
    "    - Predicting score based on study hours, sleep hours, and class attendance "
   ]
  },
  {
   "cell_type": "markdown",
   "id": "8bab12d9-6c69-4149-a10c-2a8cca863e80",
   "metadata": {},
   "source": [
    "**10.  What are the key assumptions of Multiple Linear Regression?**"
   ]
  },
  {
   "cell_type": "markdown",
   "id": "f878c897-ff59-4ffc-8c54-5da7ae55c653",
   "metadata": {},
   "source": [
    "Multiple Linear Regression (MLR) relies on several important assumptions:\n",
    "\n",
    "- Linearity\n",
    "    - The relationship between the dependent variable (Y) and each independent variable (X) should be linear.\n",
    "    - Graphically, the data should form a straight-line trend (when other variables are held constant).\n",
    "- Independence of Errors\n",
    "    - The residuals (errors) should be independent of each other.\n",
    "    - Especially important for time series data (no autocorrelation).\n",
    "- Homoscedasticity (Constant Variance of Errors)\n",
    "    - The spread (variance) of residuals should be constant across all levels of the independent variables.\n",
    "    - If not, it may indicate heteroscedasticity — which weakens prediction quality.\n",
    "- Normality of Residuals\n",
    "    - The errors (residuals) should be normally distributed, especially for hypothesis testing (like p-values, confidence intervals).\n",
    "    - Check using a histogram or Q-Q plot of residuals.\n",
    "- No Multicollinearity\n",
    "    - Independent variables should not be highly correlated with each other.\n",
    "    - High multicollinearity makes it hard to know which variable is truly influencing Y.\n",
    "    - Detect using correlation matrix or Variance Inflation Factor (VIF). "
   ]
  },
  {
   "cell_type": "markdown",
   "id": "6df5060c-05de-496c-a0c0-5f0a888ffef6",
   "metadata": {},
   "source": [
    "**11.  What is heteroscedasticity, and how does it affect the results of a Multiple Linear Regression model?**"
   ]
  },
  {
   "cell_type": "markdown",
   "id": "5d418675-77e3-47cf-af5c-28e8cd0fdad1",
   "metadata": {},
   "source": [
    "- Imagine we're predicting monthly spending (Y) of people based on their income (X).\n",
    "    - You collect data from:\n",
    "    - Low-income people\n",
    "    - Middle-income people\n",
    "    - High-income people \n",
    "- As income increases, the variation in spending also increases:"
   ]
  },
  {
   "cell_type": "raw",
   "id": "43b6741d-f3a9-4539-ad44-759c77db883d",
   "metadata": {},
   "source": [
    "Income (₹)\tSpending (₹)\n",
    "10,000\t      6,000\n",
    "20,000\t      12,000\n",
    "30,000\t      17,000\n",
    "50,000\t      45,000\n",
    "80,000\t      30,000 – 75,000 (very spread out)"
   ]
  },
  {
   "cell_type": "markdown",
   "id": "c8d51ab2-7aee-46d7-aa18-9a2302ddb118",
   "metadata": {},
   "source": [
    "- Low-income people have similar spending — very predictable\n",
    "- High-income people vary a lot — some save, some splurge\n",
    "- So, error/residuals are small for low income, large for high income\n",
    "-  This is heteroscedasticity: When the spread of residuals (errors) increases or decreases with the independent variable.\n",
    "\n",
    "How does heteroscedasticity affect the model?\n",
    "- Incorrect standard errors\n",
    "    - This can lead to wrong p-values and confidence intervals\n",
    "- Unreliable hypothesis tests\n",
    "    - We might think a variable is significant when it’s not (or vice versa)\n",
    "- Less efficient estimates\n",
    "    - Coefficients are still unbiased, but not the \"best\" (i.e., they don’t have the smallest variance)\n",
    "- Model diagnostics become misleading\n",
    "    - Harder to trust R², t-tests, etc."
   ]
  },
  {
   "cell_type": "markdown",
   "id": "3a40b340-c7a0-446c-90f4-5555bbfee3ea",
   "metadata": {},
   "source": [
    "**12. How can you improve a Multiple Linear Regression model with high multicollinearity?**"
   ]
  },
  {
   "cell_type": "markdown",
   "id": "e00c6ff6-505c-4a86-afd8-2326e1e9b165",
   "metadata": {},
   "source": [
    "- Suppose we're building a multiple linear regression model to predict house prices using these features:\n",
    "    - X₁: House size in square feet\n",
    "    - X₂: Number of bedrooms\n",
    "    - X₃: Number of bathrooms\n",
    "- What might happen?\n",
    "    - Larger houses often have more bedrooms and more bathrooms. So:\n",
    "    - X₁ (Size), X₂ (Bedrooms), and X₃ (Bathrooms) are strongly correlated with each other\n",
    "    - This creates multicollinearity — where independent variables are highly related to each other.\n",
    "- Why is this a problem?\n",
    "    - It makes it hard to tell which variable is actually affecting the house price\n",
    "    - The model becomes unstable — small changes in data can change coefficients a lot\n",
    "    - p-values and confidence intervals become unreliable\n",
    "- How to improve a model with high multicollinearity?\n",
    "    -  Remove one of the correlated variables\n",
    "        - If two variables are very similar (e.g., bedrooms and house size), remove one\n",
    "        - Example: Keep house size, drop bedrooms\n",
    "    -  Combine variables\n",
    "        - Create a new feature from the correlated ones\n",
    "        - Example: Combine bedrooms + bathrooms into one feature like total rooms\n",
    "    -  Use dimensionality reduction (PCA)\n",
    "        - Use Principal Component Analysis (PCA) to transform correlated variables into uncorrelated components\n",
    "        - More common in advanced models\n",
    "    -  Use Regularization (Ridge or Lasso Regression)\n",
    "        - These techniques reduce the impact of multicollinearity by adding a penalty to large coefficients\n",
    "        - Ridge: Keeps all variables but shrinks them\n",
    "        - Lasso: Can eliminate some variables automatically\n",
    "    -  Check Variance Inflation Factor (VIF)\n",
    "        - Use VIF to detect which variables are causing multicollinearity\n",
    "        - If VIF > 5 or 10, that variable is likely a problem"
   ]
  },
  {
   "cell_type": "markdown",
   "id": "6a6fe770-e2a1-4574-a233-9480d3f2be20",
   "metadata": {},
   "source": [
    "**13. What are some common techniques for transforming categorical variables for use in regression models?**"
   ]
  },
  {
   "cell_type": "markdown",
   "id": "eb8e4b33-b231-4520-b969-a15d0138ad87",
   "metadata": {},
   "source": [
    "- Suppose we're building a regression model to predict used car prices.\n",
    "    - One of your columns is:\n",
    "        - Fuel Type: Petrol, Diesel, CNG\n",
    "        - This is a categorical variable — it's text, not numeric — but regression models require numerical input.\n",
    "        - So we need to transform it."
   ]
  },
  {
   "cell_type": "markdown",
   "id": "69107e32-d970-4426-98af-74ffbba366dc",
   "metadata": {},
   "source": [
    "Common Techniques to Transform Categorical Variables:\n",
    "\n",
    "- One-Hot Encoding\n",
    "    - Creates a new column for each category with 1 or 0 (present or not)\n",
    "    - For Fuel Type\n",
    "    - Used when categories don’t have any natural order\n",
    "    - Use this in most regression cases\n",
    "- Label Encoding\n",
    "    - Assigns a unique number to each category.\n",
    "    - Not ideal for regression unless the variable has ordinal meaning\n",
    "(because the model might assume \"Diesel > Petrol\" just because 1 > 0)\n",
    "- Ordinal Encoding\n",
    "    - Used when the categories have a natural order\n",
    "    - Example: Education: High School < Bachelor's < Master's < PhD\n",
    "    - Works well if higher categories truly represent increasing levels of impact\n",
    "- Target Encoding (advanced)\n",
    "    - Replace each category with the mean of the target variable for that category\n",
    "    - If average car price for:\n",
    "        - Petrol cars = ₹4,00,000\n",
    "        - Diesel cars = ₹6,00,000\n",
    "        - CNG cars = ₹3,50,000\n",
    "        - So we should be careful it Can cause data leakage if not used properly (use cross-validation)"
   ]
  },
  {
   "cell_type": "markdown",
   "id": "3f193be0-aee6-403e-8446-ec2197aef092",
   "metadata": {},
   "source": [
    "**14. What is the role of interaction terms in Multiple Linear Regression?**"
   ]
  },
  {
   "cell_type": "markdown",
   "id": "864bdafc-e8bf-4930-a49c-3808f54faf75",
   "metadata": {},
   "source": [
    "- Suppose we're building a model to predict sales based on\n",
    "    - TV advertising budget (X₁)\n",
    "    - Online advertising budget (X₂)\n",
    "\n",
    "- We might think both independently affect sales — more ads = more sales.\n",
    "- But what if sales increase more than expected when both TV and online ads are used together?\n",
    "- That’s where interaction comes in — the effect of one variable depends on another.\n",
    "\n",
    "- An interaction term in multiple linear regression captures the idea that The combined effect of two variables is different from the sum of their individual effects.\n",
    "\n",
    "Role of Interaction Terms in Regression:\n",
    "- Capture relationships that aren’t additive\n",
    "    - Sometimes, one feature amplifies or weakens another's effect.\n",
    "\n",
    "- Improve model accuracy\n",
    "    - You catch patterns that would be missed with only individual terms.\n",
    "\n",
    "- Make interpretation richer\n",
    "    - Helps in understanding how two variables work together to impact the outcome.\n",
    " \n",
    "- Useful for decision making\n",
    "    - e.g., Don’t just spend on online ads — they only boost sales when paired with TV ads.\n",
    "\n",
    "- Common in real-world fields\n",
    "    - Marketing: TV × Online\n",
    "    - Medicine: Drug dosage × Age\n",
    "    - Education: Study hours × Sleep"
   ]
  },
  {
   "cell_type": "markdown",
   "id": "06a13290-0016-4e54-b844-26b896e35e52",
   "metadata": {},
   "source": [
    "**15. How can the interpretation of intercept differ between Simple and Multiple Linear Regression?**"
   ]
  },
  {
   "cell_type": "markdown",
   "id": "d5c2ecca-11ce-4e42-9189-7a541f426f58",
   "metadata": {},
   "source": [
    "- Suppose We're building a model to predict monthly salary (Y) based on:\n",
    "    - X₁: Years of experience\n",
    "    - X₂: Education level (e.g., High School, Bachelor's, Master's — encoded as 1, 2, 3)\n",
    "- In Simple Linear Regression:\n",
    "    - We only use 1 predictor, say Years of experience.\n",
    "    - Salary = b0 + b1 x (Experience)\n",
    "    - Intercept(b0):\n",
    "        -  Meaning: Salary when experience = 0\n",
    "        -  Example: If b0 = ₹15,000, it means someone with 0 years of experience is expected to earn ₹15,000/month.\n",
    "        -  In simple linear regression, the intercept is easy to interpret because there's only one variable.\n",
    "- In Multiple Linear Regression:\n",
    "    - We use multiple predictors, e.g.:\n",
    "        - Salary = b0 + b1 X (Experience) + b2 X (Education Level)\n",
    "    -  Intercept(b0):\n",
    "        - Meaning: Salary when Experience = 0 AND Education Level = 0\n",
    "        - But in real life, education level = 0 might not make sense (it wasn’t even in the category list)\n",
    "        - In multiple regression, the intercept is harder to interpret — it represents the outcome when all predictors are zero, which might be unrealistic or meaningless.\n",
    "- Difference:\n",
    "    - In simple linear regression, the intercept shows the outcome at X = 0\n",
    "    - In multiple linear regression, it shows the outcome when all predictors are 0 — which might not always make sense in real life.   "
   ]
  },
  {
   "cell_type": "markdown",
   "id": "106c36b1-19e2-4bb4-b43e-923ae6ba5bda",
   "metadata": {},
   "source": [
    "**16.  What is the significance of the slope in regression analysis, and how does it affect predictions?**"
   ]
  },
  {
   "cell_type": "markdown",
   "id": "6f8c670c-29b7-4e83-bbf2-525c9d1a874e",
   "metadata": {},
   "source": [
    "- Suppose we're building a simple linear regression model to predict a student's exam score based on hours studied:\n",
    "- Score = b0 + b1 x (Study Hours)\n",
    "- Let’s say the model gives - Score = 40 + 6 X (Study Hours)\n",
    "- The slope (b₁) is 6\n",
    "\n",
    "Significance of the Slope:\n",
    "- The slope tells us For every 1-hour increase in study time, the predicted exam score increases by 6 points.\n",
    "- 2 Hours - 40 + 6 x 2 = 52\n",
    "- 4 Hourse - 40 + 6 x 4 = 64\n",
    "\n",
    "How it affects predictions:\n",
    "- The steeper the slope, the greater the impact of X on Y.\n",
    "- If the slope is 0 → X has no effect on Y.\n",
    "- If the slope is large → A small change in X leads to a big change in Y.\n",
    "\n",
    "The slope in regression analysis represents the rate of change of the dependent variable (Y) for each unit increase in the independent variable (X), directly affecting how predictions are made."
   ]
  },
  {
   "cell_type": "markdown",
   "id": "845f3cf7-33ba-4de5-abc1-1c367d8c29bb",
   "metadata": {},
   "source": [
    "**17. How does the intercept in a regression model provide context for the relationship between variables?**"
   ]
  },
  {
   "cell_type": "markdown",
   "id": "6bb0676e-3183-415f-b4d5-3d6fa3f1438c",
   "metadata": {},
   "source": [
    "- Suppose we're building a simple linear regression model to predict a person’s monthly salary (Y) based on their years of experience (X).\n",
    "\n",
    "- our model gives: Salary=20,000+5,000×(Experience)\n",
    "- Interpretation of the Intercept:\n",
    "    - The intercept here is ₹20,000.\n",
    "    - That means: When experience = 0, the predicted salary is ₹20,000.\n",
    "    - It represents the starting point — what someone with zero experience is expected to earn.\n",
    "- The intercept in a regression model provides the baseline value of the outcome when input variables are zero, helping us understand where the model starts and giving context to how the independent variables affect the dependent one."
   ]
  },
  {
   "cell_type": "markdown",
   "id": "7b59a8f3-3291-4a62-949f-2cc901c5e91f",
   "metadata": {},
   "source": [
    "**18.  What are the limitations of using R² as a sole measure of model performance?**"
   ]
  },
  {
   "cell_type": "markdown",
   "id": "3c3a6462-82da-48df-b323-da4bb55e9a34",
   "metadata": {},
   "source": [
    "Suppose we're building a model to predict house prices based on:\n",
    "- Size of the house\n",
    "- Number of rooms\n",
    "- Distance from city center\n",
    "- Color of the front door\n",
    "\n",
    "After training the model, we find the R**2 = 0.95 - which means 95% of the variation in house prices  is explained by your model. But here's the catch:\n",
    "\n",
    "- That \"front door color\" is a random feature — it has no actual impact on price.\n",
    "- Because R² increases with more variables, adding it artificially boosts R².\n",
    "- So your model looks good (high R²), but it may perform poorly on new data or make bad predictions.\n",
    "\n",
    "Key Limitations of Using R² Alone:\n",
    "\n",
    "- High R² doesn’t mean accurate predictions – the model can fit the training data well but still make poor predictions on new data.\n",
    "- R² increases with more variables, even irrelevant ones – leading to overfitting.\n",
    "- R² doesn’t show model bias – our model might consistently overestimate or underestimate, but R² won’t show that.\n",
    "- Not suitable for non-linear relationships – R² assumes linear fit and may mislead for complex patterns.\n",
    "- No information about error size – R² doesn’t tell we how far off our predictions are (use RMSE or MAE for that)."
   ]
  },
  {
   "cell_type": "markdown",
   "id": "a537de27-c379-4346-b07d-c49647d2c556",
   "metadata": {},
   "source": [
    "**19. How would you interpret a large standard error for a regression coefficient?**"
   ]
  },
  {
   "cell_type": "markdown",
   "id": "d9034d75-8de4-4fa0-a344-741a74ad089a",
   "metadata": {},
   "source": [
    "Imagine we're analyzing how TV ad spending affects product sales using regression.\n",
    "\n",
    "We build a regression model like:"
   ]
  },
  {
   "cell_type": "code",
   "execution_count": null,
   "id": "5e7b09f5-42c8-4c68-9598-7c1e7d838d2d",
   "metadata": {},
   "outputs": [],
   "source": [
    "Sales = β₀ + β₁ × TV_Ad_Spending + error"
   ]
  },
  {
   "cell_type": "markdown",
   "id": "d69169c4-84ab-4365-82e1-0063e55646f2",
   "metadata": {},
   "source": [
    "Suppose the result shows:\n",
    "- β1 (coefficient for TV ads) = 5\n",
    "- Standard Error of β1 = 4.8\n",
    "- This means the estimate of the effect of TV ads on sales has a high uncertainty. The true effect could be much lower or higher than 5 — maybe even zero\n",
    "- So, even though we found a coefficient, the large standard error says: “ I’m not confident about this number.”\n",
    "\n",
    "Key Interpretations of a Large Standard Error:\n",
    "- Unreliable Coefficient Estimate – A large standard error means the model isn’t sure about the true value of the coefficient.\n",
    "- Low Precision – our predictor (e.g., TV ads) might not have a consistent effect on the outcome, leading to variability in estimates.\n",
    "- Possibly Insignificant Predictor – The variable may not be strongly related to the output; its effect might be due to chance.\n",
    "- Could Indicate Multicollinearity – If two or more predictors are highly correlated, standard errors can inflate.\n",
    "- Wider Confidence Interval – A large standard error results in a wide confidence interval, meaning the true value is uncertain and possibly includes zero."
   ]
  },
  {
   "cell_type": "markdown",
   "id": "dee652ca-9e5b-41f2-a08d-a1b31139c102",
   "metadata": {},
   "source": [
    "**20.  How can heteroscedasticity be identified in residual plots, and why is it important to address it?**"
   ]
  },
  {
   "cell_type": "markdown",
   "id": "a4a3076d-8648-4ef1-932e-fefac10deb0a",
   "metadata": {},
   "source": [
    "Suppose we're analyzing how study hours affect exam scores using a regression model.\n",
    "- After plotting the residuals vs predicted scores, we notice\n",
    "- For students who studied less, the prediction errors (residuals) are small and close together.\n",
    "- For students who studied a lot, the errors are widely spread — some very positive, some very negative.\n",
    "- This pattern creates a fan shape in the residual plot — small spread - increasing spread.\n",
    "- That’s heteroscedasticity: the variance of residuals is not constant.\n",
    "\n",
    "Heteroscedasticity:\n",
    "- How to Identify It – In a residual vs predicted plot, it appears as a funnel/fan shape (spread of residuals increases or decreases).\n",
    "- Why It Matters – It violates a key regression assumption: constant variance of errors (homoscedasticity).\n",
    "- Effect on Inference – It makes standard errors of coefficients unreliable, which can lead to incorrect p-values and confidence intervals.\n",
    "- Can Mask True Relationships – It may hide or distort the true effect of predictors on the outcome.\n",
    "- How to Address It – Use techniques like transforming variables (e.g., log scale), or apply robust standard errors or models like weighted least squares."
   ]
  },
  {
   "cell_type": "markdown",
   "id": "9e98cbd1-6577-435f-ada9-b4e86ea7304f",
   "metadata": {},
   "source": [
    "**21.  What does it mean if a Multiple Linear Regression model has a high R² but low adjusted R²?**"
   ]
  },
  {
   "cell_type": "markdown",
   "id": "73d20828-f974-467d-bdec-93b83d39e714",
   "metadata": {},
   "source": [
    "Suppose we're building a regression model to predict car price using these variables:\n",
    "- Age of the car\n",
    "- Mileage\n",
    "- Engine size\n",
    "- Number of cup holders\n",
    "- Color of floor mats\n",
    "- Shape of gear knob\n",
    "\n",
    "After fitting the model:\n",
    "- R² = 0.92 (seems excellent!)\n",
    "- But Adjusted R² = 0.45\n",
    "\n",
    "- R² increases whenever we add more variables — even useless ones like \"shape of gear knob.\"\n",
    "- Adjusted R² penalizes the model for adding unnecessary variables that don’t improve prediction.\n",
    "\n",
    "So, our model looks great based on R², but Adjusted R² is warning: “we’ve added irrelevant junk just to boost R².”\n",
    "\n",
    "\n",
    "High R² but Low Adjusted R² :\n",
    "- R² can be misleading – It always increases with more predictors, even if they add no real value.\n",
    "- Adjusted R² accounts for model complexity – It adjusts R² down if added variables don’t truly improve the model.\n",
    "- Large gap suggests overfitting – You may be adding variables that fit noise rather than signal.\n",
    "- Low Adjusted R² = low real explanatory power – It means the model isn't actually as good as R² claims.\n",
    "- Fix by removing irrelevant predictors – Use feature selection to keep only meaningful variables."
   ]
  },
  {
   "cell_type": "markdown",
   "id": "2754f318-505d-4f42-987e-bd843f3c02a2",
   "metadata": {},
   "source": [
    "**22. Why is it important to scale variables in Multiple Linear Regression?**"
   ]
  },
  {
   "cell_type": "markdown",
   "id": "3293a0ab-f104-4592-b0f4-1158b6b356ac",
   "metadata": {},
   "source": [
    "Suppose we're building a regression model to predict salary using:\n",
    "- Years of experience (ranges from 1 to 20)\n",
    "- Age (ranges from 22 to 60)\n",
    "- Monthly sales revenue (ranges from ₹10,000 to ₹10,00,000)\n",
    "- These variables have very different scales.\n",
    "- If we don’t scale them:\n",
    "    - The variable with the largest values (monthly revenue) will dominate the model.\n",
    "    - The coefficients become harder to interpret or compare.\n",
    "    - It can also confuse optimization algorithms, especially when regularization is used.\n",
    "\n",
    "\n",
    "Importance of Scaling:\n",
    "- Avoids One Variable Dominating – Large-scale variables can overpower smaller-scale ones in coefficient calculation.\n",
    "- Improves Interpretability – Scaling puts all features on a similar scale, making coefficients more comparable.\n",
    "- Necessary for Regularization (e.g., Ridge/Lasso) – Without scaling, penalization terms become biased toward large-scale variables.\n",
    "- Stabilizes Gradient Descent – In large datasets, scaling helps optimization converge faster and more reliably.\n",
    "- Prevents Numerical Errors – Very large or very small values can cause computational issues or inaccurate results."
   ]
  },
  {
   "cell_type": "markdown",
   "id": "d85c2c45-aa25-4cf8-8e0c-0f0b2cdd0464",
   "metadata": {},
   "source": [
    "**23. What is polynomial regression?**"
   ]
  },
  {
   "cell_type": "markdown",
   "id": "fcf92d68-0261-4176-bdbb-c9df38da9bd8",
   "metadata": {},
   "source": [
    "Imagine we’re analyzing how a car’s speed affects its fuel efficiency (km/l).\n",
    "- At low speeds, fuel efficiency increases.\n",
    "- At medium speeds, it's highest.\n",
    "- At high speeds, it drops again due to air resistance.\n",
    "- This forms a curve, not a straight line.\n",
    "- A Linear Regression would try to fit a straight line — and miss the actual pattern.\n",
    "Instead, Polynomial Regression fits a curved line like:"
   ]
  },
  {
   "cell_type": "code",
   "execution_count": 128,
   "id": "f911f8ce-ffa4-403f-a07f-f5488d590a18",
   "metadata": {},
   "outputs": [],
   "source": [
    "y = β0 + β1x + β2x**2 + ... + βnx**n"
   ]
  },
  {
   "cell_type": "markdown",
   "id": "5b23c2d9-5ad5-4ab1-b079-e321fa24be89",
   "metadata": {},
   "source": [
    "That’s how we capture the true, non-linear relationship.\n",
    "\n",
    "- Models Non-Linear Relationships – It fits a curve (instead of a straight line) to handle complex patterns in data.\n",
    "- Extends Linear Regression – It adds higher-degree terms (like x², x³) to the model but still uses linear coefficients.\n",
    "- More Flexible Fit – Can capture U-shapes, curves, and waves that linear models can’t.\n",
    "- Risk of Overfitting – Higher-degree polynomials may fit training data too well but perform poorly on new data.\n",
    "- Used in Real-Life Scenarios – Ideal for patterns like growth curves, pricing trends, or physical behaviors (e.g., speed vs fuel efficiency)."
   ]
  },
  {
   "cell_type": "markdown",
   "id": "5ed2a787-a46f-4211-85a8-54a602a8c549",
   "metadata": {},
   "source": [
    "**24. How does polynomial regression differ from linear regression?**"
   ]
  },
  {
   "cell_type": "markdown",
   "id": "ffd09c9d-42c5-45a5-b410-77a058c11fd5",
   "metadata": {},
   "source": [
    "Polynomial vs Linear Regression:\n",
    "- Model Shape\n",
    "    - Linear Regression fits a straight line (1st-degree).\n",
    "    - Polynomial Regression fits a curve (2nd-degree or higher).\n",
    "- Type of Relationship Captured\n",
    "    - Linear: Captures only linear (straight-line) relationships.\n",
    "    - Polynomial: Captures non-linear relationships between variables.\n",
    "- Features Used\n",
    "    - Linear: Uses original features (e.g., 𝑥) only.\n",
    "    - Polynomial: Uses transformed features\n",
    "- Model Complexity\n",
    "    - Linear: Simpler, easier to interpret.\n",
    "    - Polynomial: More complex, may overfit if degree is too high.\n",
    "- Equation Form -  "
   ]
  },
  {
   "attachments": {
    "2ce787ef-529a-4343-b126-bc9b8b6f35b5.png": {
     "image/png": "[encoded data removed]"
    }
   },
   "cell_type": "markdown",
   "id": "ed583581-092c-4b2e-9ec8-94194997d111",
   "metadata": {},
   "source": [
    "![image.png](attachment:2ce787ef-529a-4343-b126-bc9b8b6f35b5.png)"
   ]
  },
  {
   "cell_type": "markdown",
   "id": "c2a38bde-9c2f-4710-b6fd-94485fbd92c9",
   "metadata": {},
   "source": [
    "**25. When is polynomial regression used?**"
   ]
  },
  {
   "cell_type": "markdown",
   "id": "851052b6-6d3c-4a6b-ab27-4d8e04399339",
   "metadata": {},
   "source": [
    "Polynomial Regression is Used When:\n",
    "- The Relationship is Non-Linear\n",
    "    - When a straight line doesn't fit the data well, but the curve still follows a smooth, predictable pattern.\n",
    "- There’s a Clear Curve in the Data\n",
    "    - For example, U-shape or inverted U-shape trends (like fuel efficiency vs speed).\n",
    "- Residuals Show a Pattern\n",
    "    - After linear regression, if residuals aren't randomly scattered (e.g., they form a curve), it's a sign to try polynomial regression.\n",
    "- Need for Better Fit without Complex Models\n",
    "    - When you want a more flexible model than linear regression but simpler than advanced ML models (like trees or neural networks).\n",
    "- Modeling Physical or Natural Phenomena\n",
    "    - Useful in real-world cases like projectile motion, growth rates, or economic trends that naturally follow curved paths."
   ]
  },
  {
   "cell_type": "markdown",
   "id": "b5a73b17-68af-4542-9c52-73ea17d8582c",
   "metadata": {},
   "source": [
    "**26.  What is the general equation for polynomial regression?**"
   ]
  },
  {
   "cell_type": "markdown",
   "id": "ec7c17ff-f921-4e54-8e37-25e1277ace66",
   "metadata": {},
   "source": [
    "The general equation for Polynomial Regression of degree n is:"
   ]
  },
  {
   "attachments": {
    "9d5a52db-239a-4653-a6f3-e9bc8cb22442.png": {
     "image/png": "[encoded data removed]"
    }
   },
   "cell_type": "markdown",
   "id": "67a10585-c380-4903-9725-d8a2df98ed86",
   "metadata": {},
   "source": [
    "![image.png](attachment:9d5a52db-239a-4653-a6f3-e9bc8cb22442.png)"
   ]
  },
  {
   "attachments": {
    "f9f79e77-e113-4d56-98f6-f79ab1913363.png": {
     "image/png": "[encoded data removed]"
    }
   },
   "cell_type": "markdown",
   "id": "a0d25d21-ca5c-4bb1-b5cb-9c0b36a71402",
   "metadata": {},
   "source": [
    "![image.png](attachment:f9f79e77-e113-4d56-98f6-f79ab1913363.png)"
   ]
  },
  {
   "cell_type": "markdown",
   "id": "f42cfbc3-31d7-417a-b8cb-48ed008b70a2",
   "metadata": {},
   "source": [
    "**27. Can polynomial regression be applied to multiple variables?**"
   ]
  },
  {
   "cell_type": "markdown",
   "id": "e92c43e0-b0e1-479c-800c-c6d48c5e9e06",
   "metadata": {},
   "source": [
    "Ans - Yes"
   ]
  },
  {
   "cell_type": "markdown",
   "id": "386edf50-b67b-4b91-b220-8208116820cd",
   "metadata": {},
   "source": [
    "- Polynomial regression can be extended to multiple variables, allowing the model to learn non-linear relationships between two or more predictors and the target variable.\n",
    "\n",
    "- It includes higher-degree terms (e.g., squares, cubes) and interaction terms (e.g., product of two variables) for capturing complex dependencies.\n",
    "\n",
    "- The model remains linear in terms of coefficients, even though it fits a non-linear surface in the feature space.\n",
    "\n",
    "- The number of features increases rapidly with the polynomial degree and number of variables, making the model more complex.\n",
    "\n",
    "- Scaling and regularization are often necessary to ensure stable training and to reduce the risk of overfitting."
   ]
  },
  {
   "cell_type": "markdown",
   "id": "4e5066fa-5a69-474d-b456-99491c127d8a",
   "metadata": {},
   "source": [
    "**28. What are the limitations of polynomial regression?**"
   ]
  },
  {
   "cell_type": "markdown",
   "id": "dae66045-3d2e-4230-9f9f-c778cc5a05a0",
   "metadata": {},
   "source": [
    "- Overfitting - High-degree polynomials can model noise in the data, reducing generalization to new/unseen data.\n",
    "\n",
    "- Increased Model Complexity - As the polynomial degree increases, the number of terms grows rapidly, making the model harder to interpret and computationally heavy.\n",
    "\n",
    "- Extrapolation is Unreliable- Predictions outside the range of the training data can become extremely inaccurate due to sharp curve behavior.\n",
    "\n",
    "- Sensitive to Outliers - Outliers can significantly distort the shape of the polynomial curve, affecting the overall model performance.\n",
    "\n",
    "- Multicollinearity Risk Polynomial features (like - x, x**2, x**3) can be highly correlated, which may lead to unstable coefficient estimates."
   ]
  },
  {
   "cell_type": "markdown",
   "id": "c4a9f461-9323-4c17-9438-ab20b030e6ba",
   "metadata": {},
   "source": [
    "**29. What methods can be used to evaluate model fit when selecting the degree of a polynomial?**"
   ]
  },
  {
   "cell_type": "markdown",
   "id": "94f1c6cb-3215-4677-826b-342507e00cf9",
   "metadata": {},
   "source": [
    "- Cross-Validation (e.g., K-Fold Cross-Validation) - Helps assess how well the model generalizes to unseen data and prevents overfitting.\n",
    "\n",
    "- Mean Squared Error (MSE) or Root Mean Squared Error (RMSE) - Measures the average squared difference between predicted and actual values; lower values indicate better fit.\n",
    "\n",
    "- Adjusted R**2 - Adjusts R ** 2 for the number of predictors; helps penalize unnecessary complexity from high-degree polynomials.\n",
    "\n",
    "- Validation Curve Analysis - Plotting model performance (e.g., MSE) across different polynomial degrees to identify the optimal complexity.\n",
    "\n",
    "- Regularization Techniques (e.g., Ridge, Lasso) - Used in combination with polynomial features to control overfitting while still modeling non-linearity."
   ]
  },
  {
   "cell_type": "markdown",
   "id": "beba01f6-af36-4814-98ef-8bb1c3064294",
   "metadata": {},
   "source": [
    "**30. Why is visualization important in polynomial regression?**"
   ]
  },
  {
   "cell_type": "markdown",
   "id": "0b5678e1-076f-4adc-b284-386f9ddf84f0",
   "metadata": {},
   "source": [
    "- Reveals Non-Linear Relationships - Helps visually confirm whether a curved (non-linear) pattern exists between the features and the target variable.\n",
    "\n",
    "- Detects Overfitting or Underfitting - Visual plots can show if the model is too wiggly (overfitting) or too flat (underfitting), which numerical metrics alone may not reveal clearly.\n",
    "\n",
    "- Improves Model Interpretation - Visualization aids in understanding how the model behaves across the input range and how each term contributes to the overall fit.\n",
    "\n",
    "- Assists in Degree Selection - By plotting polynomial curves of different degrees, one can choose the best balance between bias and variance.\n",
    "\n",
    "- Validates Residual Patterns - Visualizing residuals helps detect issues like non-constant variance or patterns that the model has failed to capture."
   ]
  },
  {
   "cell_type": "markdown",
   "id": "bccfdef6-5527-44b3-a3fd-ebc7bf299b40",
   "metadata": {},
   "source": [
    "**31. How is polynomial regression implemented in Python?**"
   ]
  },
  {
   "cell_type": "markdown",
   "id": "f2afdee9-1dca-491d-95c6-7cc39ce8ea86",
   "metadata": {},
   "source": [
    "- Import Required Libraries - Use libraries like numpy, pandas, matplotlib for data handling and visualization, and scikit-learn for modeling.\n",
    "\n",
    "- Prepare the Data - Split your dataset into input features (X) and target variable (y), then optionally divide into training and testing sets.\n",
    "\n",
    "- Generate Polynomial Features - Use PolynomialFeatures from sklearn.preprocessing to create polynomial and interaction terms based on the desired degree.\n",
    "\n",
    "- Fit the Model - Use LinearRegression from sklearn.linear_model to fit the model on the transformed polynomial features.\n",
    "\n",
    "- Evaluate the Model - Use metrics like R², MSE, or cross_val_score to assess performance and avoid overfitting."
   ]
  },
  {
   "cell_type": "code",
   "execution_count": null,
   "id": "45402a89-4881-427a-a850-2d4fe94c36cc",
   "metadata": {},
   "outputs": [],
   "source": []
  }
 ],
 "metadata": {
  "kernelspec": {
   "display_name": "Python 3 (ipykernel)",
   "language": "python",
   "name": "python3"
  },
  "language_info": {
   "codemirror_mode": {
    "name": "ipython",
    "version": 3
   },
   "file_extension": ".py",
   "mimetype": "text/x-python",
   "name": "python",
   "nbconvert_exporter": "python",
   "pygments_lexer": "ipython3",
   "version": "3.12.7"
  }
 },
 "nbformat": 4,
 "nbformat_minor": 5
}
