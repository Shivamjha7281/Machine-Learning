{
 "cells": [
  {
   "cell_type": "code",
   "execution_count": 90,
   "id": "86549d4a-6506-4214-ada4-8d99df70871c",
   "metadata": {},
   "outputs": [],
   "source": [
    "import pandas as pd\n",
    "import seaborn as sns\n",
    "import numpy as np\n",
    "import matplotlib.pyplot as plt\n",
    "from datetime import datetime\n",
    "\n",
    "import warnings \n",
    "warnings.filterwarnings('ignore')"
   ]
  },
  {
   "cell_type": "code",
   "execution_count": 2,
   "id": "5ea8f621-ba80-4363-a59d-98cdfca6fac3",
   "metadata": {},
   "outputs": [],
   "source": [
    "df = pd.read_csv('BIKE DETAILS.csv')"
   ]
  },
  {
   "cell_type": "code",
   "execution_count": 3,
   "id": "177613ca-4704-47f1-97d2-d0c8e891800c",
   "metadata": {},
   "outputs": [
    {
     "data": {
      "text/html": [
       "<div>\n",
       "<style scoped>\n",
       "    .dataframe tbody tr th:only-of-type {\n",
       "        vertical-align: middle;\n",
       "    }\n",
       "\n",
       "    .dataframe tbody tr th {\n",
       "        vertical-align: top;\n",
       "    }\n",
       "\n",
       "    .dataframe thead th {\n",
       "        text-align: right;\n",
       "    }\n",
       "</style>\n",
       "<table border=\"1\" class=\"dataframe\">\n",
       "  <thead>\n",
       "    <tr style=\"text-align: right;\">\n",
       "      <th></th>\n",
       "      <th>selling_price</th>\n",
       "      <th>year</th>\n",
       "      <th>km_driven</th>\n",
       "      <th>ex_showroom_price</th>\n",
       "    </tr>\n",
       "  </thead>\n",
       "  <tbody>\n",
       "    <tr>\n",
       "      <th>count</th>\n",
       "      <td>1061.000000</td>\n",
       "      <td>1061.000000</td>\n",
       "      <td>1061.000000</td>\n",
       "      <td>6.260000e+02</td>\n",
       "    </tr>\n",
       "    <tr>\n",
       "      <th>mean</th>\n",
       "      <td>59638.151744</td>\n",
       "      <td>2013.867107</td>\n",
       "      <td>34359.833176</td>\n",
       "      <td>8.795871e+04</td>\n",
       "    </tr>\n",
       "    <tr>\n",
       "      <th>std</th>\n",
       "      <td>56304.291973</td>\n",
       "      <td>4.301191</td>\n",
       "      <td>51623.152702</td>\n",
       "      <td>7.749659e+04</td>\n",
       "    </tr>\n",
       "    <tr>\n",
       "      <th>min</th>\n",
       "      <td>5000.000000</td>\n",
       "      <td>1988.000000</td>\n",
       "      <td>350.000000</td>\n",
       "      <td>3.049000e+04</td>\n",
       "    </tr>\n",
       "    <tr>\n",
       "      <th>25%</th>\n",
       "      <td>28000.000000</td>\n",
       "      <td>2011.000000</td>\n",
       "      <td>13500.000000</td>\n",
       "      <td>5.485200e+04</td>\n",
       "    </tr>\n",
       "    <tr>\n",
       "      <th>50%</th>\n",
       "      <td>45000.000000</td>\n",
       "      <td>2015.000000</td>\n",
       "      <td>25000.000000</td>\n",
       "      <td>7.275250e+04</td>\n",
       "    </tr>\n",
       "    <tr>\n",
       "      <th>75%</th>\n",
       "      <td>70000.000000</td>\n",
       "      <td>2017.000000</td>\n",
       "      <td>43000.000000</td>\n",
       "      <td>8.703150e+04</td>\n",
       "    </tr>\n",
       "    <tr>\n",
       "      <th>max</th>\n",
       "      <td>760000.000000</td>\n",
       "      <td>2020.000000</td>\n",
       "      <td>880000.000000</td>\n",
       "      <td>1.278000e+06</td>\n",
       "    </tr>\n",
       "  </tbody>\n",
       "</table>\n",
       "</div>"
      ],
      "text/plain": [
       "       selling_price         year      km_driven  ex_showroom_price\n",
       "count    1061.000000  1061.000000    1061.000000       6.260000e+02\n",
       "mean    59638.151744  2013.867107   34359.833176       8.795871e+04\n",
       "std     56304.291973     4.301191   51623.152702       7.749659e+04\n",
       "min      5000.000000  1988.000000     350.000000       3.049000e+04\n",
       "25%     28000.000000  2011.000000   13500.000000       5.485200e+04\n",
       "50%     45000.000000  2015.000000   25000.000000       7.275250e+04\n",
       "75%     70000.000000  2017.000000   43000.000000       8.703150e+04\n",
       "max    760000.000000  2020.000000  880000.000000       1.278000e+06"
      ]
     },
     "execution_count": 3,
     "metadata": {},
     "output_type": "execute_result"
    }
   ],
   "source": [
    "df.head()\n",
    "df.describe()"
   ]
  },
  {
   "cell_type": "code",
   "execution_count": 4,
   "id": "a231a23a-e895-4216-88a6-b262d5e0232f",
   "metadata": {},
   "outputs": [
    {
     "data": {
      "text/plain": [
       "Index(['name', 'selling_price', 'year', 'seller_type', 'owner', 'km_driven',\n",
       "       'ex_showroom_price'],\n",
       "      dtype='object')"
      ]
     },
     "execution_count": 4,
     "metadata": {},
     "output_type": "execute_result"
    }
   ],
   "source": [
    "df.columns"
   ]
  },
  {
   "cell_type": "code",
   "execution_count": 5,
   "id": "89624ecd-76fc-436e-b106-e925ea691d5d",
   "metadata": {},
   "outputs": [
    {
     "name": "stdout",
     "output_type": "stream",
     "text": [
      "<class 'pandas.core.frame.DataFrame'>\n",
      "RangeIndex: 1061 entries, 0 to 1060\n",
      "Data columns (total 7 columns):\n",
      " #   Column             Non-Null Count  Dtype  \n",
      "---  ------             --------------  -----  \n",
      " 0   name               1061 non-null   object \n",
      " 1   selling_price      1061 non-null   int64  \n",
      " 2   year               1061 non-null   int64  \n",
      " 3   seller_type        1061 non-null   object \n",
      " 4   owner              1061 non-null   object \n",
      " 5   km_driven          1061 non-null   int64  \n",
      " 6   ex_showroom_price  626 non-null    float64\n",
      "dtypes: float64(1), int64(3), object(3)\n",
      "memory usage: 58.2+ KB\n"
     ]
    }
   ],
   "source": [
    "df.info()"
   ]
  },
  {
   "cell_type": "markdown",
   "id": "6d2a2197-9222-4a10-bc58-42029bc9ce60",
   "metadata": {},
   "source": [
    "# Preparing the data"
   ]
  },
  {
   "cell_type": "code",
   "execution_count": 7,
   "id": "d22aa203-6492-40f1-bb95-43c1c201d17b",
   "metadata": {},
   "outputs": [
    {
     "data": {
      "text/plain": [
       "435"
      ]
     },
     "execution_count": 7,
     "metadata": {},
     "output_type": "execute_result"
    }
   ],
   "source": [
    "df['ex_showroom_price'].isnull().sum()"
   ]
  },
  {
   "cell_type": "code",
   "execution_count": 8,
   "id": "0df84fb3-2afb-4176-82d8-1b76a93aeb3c",
   "metadata": {},
   "outputs": [],
   "source": [
    "#Fill missing ex_showroom_price with median\n",
    "df['ex_showroom_price'].fillna(df['ex_showroom_price'].median(), inplace = True)"
   ]
  },
  {
   "cell_type": "code",
   "execution_count": 9,
   "id": "cf0192a8-0634-455a-a948-b6560cd2995f",
   "metadata": {},
   "outputs": [
    {
     "data": {
      "text/plain": [
       "0"
      ]
     },
     "execution_count": 9,
     "metadata": {},
     "output_type": "execute_result"
    }
   ],
   "source": [
    "df['ex_showroom_price'].isnull().sum()"
   ]
  },
  {
   "cell_type": "code",
   "execution_count": 10,
   "id": "9a0f59ae-6d1a-4c45-aa5a-40a88b1dc939",
   "metadata": {},
   "outputs": [
    {
     "data": {
      "text/plain": [
       "name                 0\n",
       "selling_price        0\n",
       "year                 0\n",
       "seller_type          0\n",
       "owner                0\n",
       "km_driven            0\n",
       "ex_showroom_price    0\n",
       "dtype: int64"
      ]
     },
     "execution_count": 10,
     "metadata": {},
     "output_type": "execute_result"
    }
   ],
   "source": [
    "#Checking for missing values\n",
    "df.isnull().sum()"
   ]
  },
  {
   "cell_type": "code",
   "execution_count": 11,
   "id": "5ad1fb50-e66f-490c-95d3-3e50fb3f71b3",
   "metadata": {},
   "outputs": [
    {
     "data": {
      "text/plain": [
       "6"
      ]
     },
     "execution_count": 11,
     "metadata": {},
     "output_type": "execute_result"
    }
   ],
   "source": [
    "#Checking if there are duplicate rows\n",
    "df.duplicated().sum()"
   ]
  },
  {
   "cell_type": "code",
   "execution_count": 12,
   "id": "2bd8f2cb-2ba9-4b9c-b4f2-2274d956ff50",
   "metadata": {},
   "outputs": [],
   "source": [
    "#Removing duplicate rows\n",
    "df.drop_duplicates(inplace = True)"
   ]
  },
  {
   "cell_type": "code",
   "execution_count": 13,
   "id": "67bd27f1-51b0-4b14-8e64-6ab2a7101bd3",
   "metadata": {},
   "outputs": [
    {
     "data": {
      "text/plain": [
       "0"
      ]
     },
     "execution_count": 13,
     "metadata": {},
     "output_type": "execute_result"
    }
   ],
   "source": [
    "df.duplicated().sum()"
   ]
  },
  {
   "cell_type": "code",
   "execution_count": 14,
   "id": "e86ff57a-5c2b-4864-9522-6121acb65a47",
   "metadata": {},
   "outputs": [
    {
     "data": {
      "text/html": [
       "<div>\n",
       "<style scoped>\n",
       "    .dataframe tbody tr th:only-of-type {\n",
       "        vertical-align: middle;\n",
       "    }\n",
       "\n",
       "    .dataframe tbody tr th {\n",
       "        vertical-align: top;\n",
       "    }\n",
       "\n",
       "    .dataframe thead th {\n",
       "        text-align: right;\n",
       "    }\n",
       "</style>\n",
       "<table border=\"1\" class=\"dataframe\">\n",
       "  <thead>\n",
       "    <tr style=\"text-align: right;\">\n",
       "      <th></th>\n",
       "      <th>name</th>\n",
       "      <th>selling_price</th>\n",
       "      <th>year</th>\n",
       "      <th>seller_type</th>\n",
       "      <th>owner</th>\n",
       "      <th>km_driven</th>\n",
       "      <th>ex_showroom_price</th>\n",
       "    </tr>\n",
       "  </thead>\n",
       "  <tbody>\n",
       "    <tr>\n",
       "      <th>0</th>\n",
       "      <td>Royal Enfield Classic 350</td>\n",
       "      <td>175000</td>\n",
       "      <td>2019</td>\n",
       "      <td>Individual</td>\n",
       "      <td>1st owner</td>\n",
       "      <td>350</td>\n",
       "      <td>72752.5</td>\n",
       "    </tr>\n",
       "    <tr>\n",
       "      <th>1</th>\n",
       "      <td>Honda Dio</td>\n",
       "      <td>45000</td>\n",
       "      <td>2017</td>\n",
       "      <td>Individual</td>\n",
       "      <td>1st owner</td>\n",
       "      <td>5650</td>\n",
       "      <td>72752.5</td>\n",
       "    </tr>\n",
       "    <tr>\n",
       "      <th>2</th>\n",
       "      <td>Royal Enfield Classic Gunmetal Grey</td>\n",
       "      <td>150000</td>\n",
       "      <td>2018</td>\n",
       "      <td>Individual</td>\n",
       "      <td>1st owner</td>\n",
       "      <td>12000</td>\n",
       "      <td>148114.0</td>\n",
       "    </tr>\n",
       "    <tr>\n",
       "      <th>3</th>\n",
       "      <td>Yamaha Fazer FI V 2.0 [2016-2018]</td>\n",
       "      <td>65000</td>\n",
       "      <td>2015</td>\n",
       "      <td>Individual</td>\n",
       "      <td>1st owner</td>\n",
       "      <td>23000</td>\n",
       "      <td>89643.0</td>\n",
       "    </tr>\n",
       "    <tr>\n",
       "      <th>4</th>\n",
       "      <td>Yamaha SZ [2013-2014]</td>\n",
       "      <td>20000</td>\n",
       "      <td>2011</td>\n",
       "      <td>Individual</td>\n",
       "      <td>2nd owner</td>\n",
       "      <td>21000</td>\n",
       "      <td>72752.5</td>\n",
       "    </tr>\n",
       "  </tbody>\n",
       "</table>\n",
       "</div>"
      ],
      "text/plain": [
       "                                  name  selling_price  year seller_type  \\\n",
       "0            Royal Enfield Classic 350         175000  2019  Individual   \n",
       "1                            Honda Dio          45000  2017  Individual   \n",
       "2  Royal Enfield Classic Gunmetal Grey         150000  2018  Individual   \n",
       "3    Yamaha Fazer FI V 2.0 [2016-2018]          65000  2015  Individual   \n",
       "4                Yamaha SZ [2013-2014]          20000  2011  Individual   \n",
       "\n",
       "       owner  km_driven  ex_showroom_price  \n",
       "0  1st owner        350            72752.5  \n",
       "1  1st owner       5650            72752.5  \n",
       "2  1st owner      12000           148114.0  \n",
       "3  1st owner      23000            89643.0  \n",
       "4  2nd owner      21000            72752.5  "
      ]
     },
     "execution_count": 14,
     "metadata": {},
     "output_type": "execute_result"
    }
   ],
   "source": [
    "df.head()"
   ]
  },
  {
   "cell_type": "markdown",
   "id": "5a85c282-1ef7-4e9c-a415-e7f1ff3dc3bd",
   "metadata": {},
   "source": [
    "**1. What is the range of selling prices in the dataset?**"
   ]
  },
  {
   "cell_type": "markdown",
   "id": "e4d1c33a-e836-4624-9f9a-d70f883b3080",
   "metadata": {},
   "source": [
    "Ans:- "
   ]
  },
  {
   "cell_type": "code",
   "execution_count": 17,
   "id": "145b9afc-2c50-4abc-b308-0ffda6335866",
   "metadata": {},
   "outputs": [
    {
     "name": "stdout",
     "output_type": "stream",
     "text": [
      "5000\n",
      "760000\n"
     ]
    }
   ],
   "source": [
    "# Finding the minimum value of Selling price\n",
    "min_selling_price = df['selling_price'].min()\n",
    "max_selling_price = df['selling_price'].max()\n",
    "print(min_selling_price)\n",
    "print(max_selling_price)"
   ]
  },
  {
   "cell_type": "code",
   "execution_count": 18,
   "id": "d3a0e4b1-8907-4b16-826b-b14331418e1a",
   "metadata": {},
   "outputs": [],
   "source": [
    "range_of_selling_prices = max_selling_price - min_selling_price"
   ]
  },
  {
   "cell_type": "code",
   "execution_count": 19,
   "id": "b927efaf-4433-43ac-bb19-adc364b0f272",
   "metadata": {},
   "outputs": [
    {
     "data": {
      "text/plain": [
       "755000"
      ]
     },
     "execution_count": 19,
     "metadata": {},
     "output_type": "execute_result"
    }
   ],
   "source": [
    "range_of_selling_prices"
   ]
  },
  {
   "cell_type": "code",
   "execution_count": null,
   "id": "58a33468-2cd8-4e7f-8bbe-7a7256343364",
   "metadata": {},
   "outputs": [],
   "source": []
  },
  {
   "cell_type": "markdown",
   "id": "682bd843-80f5-4f3f-9313-804a7a0ac935",
   "metadata": {},
   "source": [
    "**2. What is the median selling price for bikes in the dataset?**"
   ]
  },
  {
   "cell_type": "markdown",
   "id": "3adb989e-284f-4377-8190-074281bab0e8",
   "metadata": {},
   "source": [
    "Ans:-"
   ]
  },
  {
   "cell_type": "code",
   "execution_count": 22,
   "id": "dec7fc41-b4b3-4f45-b796-6aa9e025403b",
   "metadata": {},
   "outputs": [],
   "source": [
    "median_selling_price = df['selling_price'].median()"
   ]
  },
  {
   "cell_type": "code",
   "execution_count": 23,
   "id": "fa8203e4-e8c9-4db8-8195-bc544f4c4430",
   "metadata": {},
   "outputs": [
    {
     "data": {
      "text/plain": [
       "45000.0"
      ]
     },
     "execution_count": 23,
     "metadata": {},
     "output_type": "execute_result"
    }
   ],
   "source": [
    "median_selling_price"
   ]
  },
  {
   "cell_type": "code",
   "execution_count": null,
   "id": "8372b934-d33f-4f5f-806d-b2bc580b8cc3",
   "metadata": {},
   "outputs": [],
   "source": []
  },
  {
   "cell_type": "markdown",
   "id": "29b12a20-c477-4c9e-b014-76fd87414ffc",
   "metadata": {},
   "source": [
    "**3.  What is the most common seller type?**"
   ]
  },
  {
   "cell_type": "markdown",
   "id": "c8be1cd7-42ed-4139-95dd-70c972af3c64",
   "metadata": {},
   "source": [
    "Ans :-"
   ]
  },
  {
   "cell_type": "code",
   "execution_count": 26,
   "id": "6bca9c17-791f-418e-afa3-11b706098515",
   "metadata": {},
   "outputs": [],
   "source": [
    "most_common_seller_type = df['seller_type'].value_counts()"
   ]
  },
  {
   "cell_type": "code",
   "execution_count": 27,
   "id": "2eebded0-ed74-4a20-ab2a-723ebcbc2eac",
   "metadata": {},
   "outputs": [
    {
     "data": {
      "text/plain": [
       "seller_type\n",
       "Individual    1049\n",
       "Dealer           6\n",
       "Name: count, dtype: int64"
      ]
     },
     "execution_count": 27,
     "metadata": {},
     "output_type": "execute_result"
    }
   ],
   "source": [
    "most_common_seller_type"
   ]
  },
  {
   "cell_type": "markdown",
   "id": "51681608-4944-41f3-a216-e3f6765c864b",
   "metadata": {},
   "source": [
    "So the most common seller type is \"Individual(1049)\" seller_type."
   ]
  },
  {
   "cell_type": "code",
   "execution_count": null,
   "id": "786efe87-777c-4323-90e4-6fe5fa673276",
   "metadata": {},
   "outputs": [],
   "source": []
  },
  {
   "cell_type": "markdown",
   "id": "1f469865-805d-4b0d-b4af-f65ab4ea02d5",
   "metadata": {},
   "source": [
    "**4. How many bikes have driven more than 50,000 kilometers?**"
   ]
  },
  {
   "cell_type": "markdown",
   "id": "f63b7bfe-01e7-435f-ab3b-baa09a3bb54d",
   "metadata": {},
   "source": [
    "Ans :-"
   ]
  },
  {
   "cell_type": "code",
   "execution_count": 31,
   "id": "d9d761ae-98bf-4682-8da8-07b2bf207014",
   "metadata": {},
   "outputs": [],
   "source": [
    "bikes_driven_more_than_50000_kilometers = df[df['km_driven'] > 50000].shape[0] #filtering the column"
   ]
  },
  {
   "cell_type": "code",
   "execution_count": 32,
   "id": "6e3fb50b-f984-441d-84e3-9ca5c701afff",
   "metadata": {},
   "outputs": [
    {
     "data": {
      "text/plain": [
       "168"
      ]
     },
     "execution_count": 32,
     "metadata": {},
     "output_type": "execute_result"
    }
   ],
   "source": [
    "bikes_driven_more_than_50000_kilometers"
   ]
  },
  {
   "cell_type": "markdown",
   "id": "593a6b05-2cbf-4c35-a713-cbdf010b2440",
   "metadata": {},
   "source": [
    "So, 168 bike have driven more than 50,000 kilometers."
   ]
  },
  {
   "cell_type": "code",
   "execution_count": null,
   "id": "08e00d6b-2450-48c0-9342-786da49bb0a6",
   "metadata": {},
   "outputs": [],
   "source": []
  },
  {
   "cell_type": "markdown",
   "id": "8fb9b31d-d86d-45ed-8651-43fbbad250c9",
   "metadata": {},
   "source": [
    "**5.  What is the average km_driven value for each ownership type?**"
   ]
  },
  {
   "cell_type": "markdown",
   "id": "e9d08a23-80fa-4f04-9938-7b1403a7999a",
   "metadata": {},
   "source": [
    "Ans:-"
   ]
  },
  {
   "cell_type": "markdown",
   "id": "4c89c52b-f85e-4f72-8c97-3342ff8e1d0e",
   "metadata": {},
   "source": [
    "- We need to:\n",
    "    - Group the data by 'owner'\n",
    "    - For each group, calculate the average of 'km_driven'"
   ]
  },
  {
   "cell_type": "code",
   "execution_count": 37,
   "id": "9cdffa94-c00f-419b-9fcb-43266d7902f4",
   "metadata": {},
   "outputs": [],
   "source": [
    "average_km_driven_value_for_each_ownership_type = df.groupby('owner')['km_driven'].mean()"
   ]
  },
  {
   "cell_type": "code",
   "execution_count": 38,
   "id": "b09f13ea-cb45-4dac-b4a2-55cfd67f8dcd",
   "metadata": {},
   "outputs": [
    {
     "name": "stdout",
     "output_type": "stream",
     "text": [
      "owner\n",
      "1st owner     32732.710240\n",
      "2nd owner     39288.991870\n",
      "3rd owner     33292.181818\n",
      "4th owner    311500.000000\n",
      "Name: km_driven, dtype: float64\n"
     ]
    }
   ],
   "source": [
    "print(average_km_driven_value_for_each_ownership_type)"
   ]
  },
  {
   "cell_type": "code",
   "execution_count": null,
   "id": "5d1a0d4e-b050-48e6-acde-f88aca8b278d",
   "metadata": {},
   "outputs": [],
   "source": []
  },
  {
   "cell_type": "markdown",
   "id": "557f1cd4-1b4c-4e3b-8c8b-c577195836a7",
   "metadata": {},
   "source": [
    "**6. What proportion of bikes are from the year 2015 or older?**"
   ]
  },
  {
   "cell_type": "markdown",
   "id": "373ce4cc-2e41-4763-a944-d8b12dfb2b27",
   "metadata": {},
   "source": [
    "Ans :-"
   ]
  },
  {
   "cell_type": "code",
   "execution_count": 41,
   "id": "54ff5f2a-8528-4788-8608-c774729a94b7",
   "metadata": {},
   "outputs": [
    {
     "data": {
      "text/plain": [
       "597"
      ]
     },
     "execution_count": 41,
     "metadata": {},
     "output_type": "execute_result"
    }
   ],
   "source": [
    "bikes_2015_or_older_count = df[df['year'] <= 2015].shape[0]\n",
    "bikes_2015_or_older_count"
   ]
  },
  {
   "cell_type": "code",
   "execution_count": 42,
   "id": "e25956f0-3ebe-4a62-8d41-62528e4a8306",
   "metadata": {},
   "outputs": [
    {
     "data": {
      "text/plain": [
       "1055"
      ]
     },
     "execution_count": 42,
     "metadata": {},
     "output_type": "execute_result"
    }
   ],
   "source": [
    "total_bikes_count = df.shape[0]\n",
    "total_bikes_count"
   ]
  },
  {
   "cell_type": "code",
   "execution_count": 43,
   "id": "44f28558-894c-423e-a28e-7878a7dceccb",
   "metadata": {},
   "outputs": [
    {
     "data": {
      "text/plain": [
       "56.58767772511848"
      ]
     },
     "execution_count": 43,
     "metadata": {},
     "output_type": "execute_result"
    }
   ],
   "source": [
    "proportion_bikes_2025_or_older = (bikes_2015_or_older_count / total_bikes_count * 100)\n",
    "proportion_bikes_2025_or_older"
   ]
  },
  {
   "cell_type": "code",
   "execution_count": 44,
   "id": "bfee74ab-3bf5-4e46-84b6-07ece1304406",
   "metadata": {},
   "outputs": [
    {
     "name": "stdout",
     "output_type": "stream",
     "text": [
      "proportion_bikes_2025_or_older: 56.59%\n"
     ]
    }
   ],
   "source": [
    "print(f\"proportion_bikes_2025_or_older: {proportion_bikes_2025_or_older:.2f}%\")"
   ]
  },
  {
   "cell_type": "markdown",
   "id": "90eea5ab-af4b-4e23-bd85-5dfde1783276",
   "metadata": {},
   "source": [
    "So, proportion of bikes are from the year 2015 or older is 56.59%."
   ]
  },
  {
   "cell_type": "code",
   "execution_count": null,
   "id": "73cc7b9b-26fb-44f6-a959-532caa941bb7",
   "metadata": {},
   "outputs": [],
   "source": []
  },
  {
   "cell_type": "markdown",
   "id": "dc0191a8-c751-41fe-a6fe-2c9f49e7dc5f",
   "metadata": {},
   "source": [
    "**7. What is the trend of missing values across the dataset?**"
   ]
  },
  {
   "cell_type": "code",
   "execution_count": 47,
   "id": "11103c3e-a271-4742-b1e2-5e17f9081108",
   "metadata": {},
   "outputs": [
    {
     "data": {
      "text/plain": [
       "name                 0\n",
       "selling_price        0\n",
       "year                 0\n",
       "seller_type          0\n",
       "owner                0\n",
       "km_driven            0\n",
       "ex_showroom_price    0\n",
       "dtype: int64"
      ]
     },
     "execution_count": 47,
     "metadata": {},
     "output_type": "execute_result"
    }
   ],
   "source": [
    "df.isnull().sum()"
   ]
  },
  {
   "cell_type": "markdown",
   "id": "0bcb7435-43e5-417c-91c2-86ad9fff35d3",
   "metadata": {},
   "source": [
    "There are no missing values in the dataset. All columns are complete and clean, so no imputation or data cleaning is required for null values."
   ]
  },
  {
   "cell_type": "code",
   "execution_count": null,
   "id": "871fcd19-1ddd-45a4-95d8-cad824346e72",
   "metadata": {},
   "outputs": [],
   "source": []
  },
  {
   "cell_type": "markdown",
   "id": "e0d65dc3-cc9d-4e48-9931-ca8d1a9d71d0",
   "metadata": {},
   "source": [
    "**8. What is the highest ex_showroom_price recorded, and for which bike?**"
   ]
  },
  {
   "cell_type": "code",
   "execution_count": 50,
   "id": "117855ef-5835-4f59-bb10-80040711a29b",
   "metadata": {},
   "outputs": [
    {
     "data": {
      "text/plain": [
       "1278000.0"
      ]
     },
     "execution_count": 50,
     "metadata": {},
     "output_type": "execute_result"
    }
   ],
   "source": [
    "df['ex_showroom_price'].max()"
   ]
  },
  {
   "cell_type": "code",
   "execution_count": 51,
   "id": "6a7d44e2-4d65-44cf-a679-7ffcd067d56e",
   "metadata": {},
   "outputs": [
    {
     "data": {
      "text/html": [
       "<div>\n",
       "<style scoped>\n",
       "    .dataframe tbody tr th:only-of-type {\n",
       "        vertical-align: middle;\n",
       "    }\n",
       "\n",
       "    .dataframe tbody tr th {\n",
       "        vertical-align: top;\n",
       "    }\n",
       "\n",
       "    .dataframe thead th {\n",
       "        text-align: right;\n",
       "    }\n",
       "</style>\n",
       "<table border=\"1\" class=\"dataframe\">\n",
       "  <thead>\n",
       "    <tr style=\"text-align: right;\">\n",
       "      <th></th>\n",
       "      <th>name</th>\n",
       "      <th>selling_price</th>\n",
       "      <th>year</th>\n",
       "      <th>seller_type</th>\n",
       "      <th>owner</th>\n",
       "      <th>km_driven</th>\n",
       "      <th>ex_showroom_price</th>\n",
       "    </tr>\n",
       "  </thead>\n",
       "  <tbody>\n",
       "    <tr>\n",
       "      <th>134</th>\n",
       "      <td>Harley-Davidson Street Bob</td>\n",
       "      <td>750000</td>\n",
       "      <td>2013</td>\n",
       "      <td>Individual</td>\n",
       "      <td>2nd owner</td>\n",
       "      <td>12000</td>\n",
       "      <td>1278000.0</td>\n",
       "    </tr>\n",
       "  </tbody>\n",
       "</table>\n",
       "</div>"
      ],
      "text/plain": [
       "                           name  selling_price  year seller_type      owner  \\\n",
       "134  Harley-Davidson Street Bob         750000  2013  Individual  2nd owner   \n",
       "\n",
       "     km_driven  ex_showroom_price  \n",
       "134      12000          1278000.0  "
      ]
     },
     "execution_count": 51,
     "metadata": {},
     "output_type": "execute_result"
    }
   ],
   "source": [
    "df[df['ex_showroom_price'] == df['ex_showroom_price'].max()]"
   ]
  },
  {
   "cell_type": "markdown",
   "id": "972db44e-3c3d-4fa7-88c2-cd78a2a5b46c",
   "metadata": {},
   "source": [
    "So,  \"1278000\" is the highest ex_showroom_price recorded and for \"Harley-Davidson Street Bob\" bike."
   ]
  },
  {
   "cell_type": "code",
   "execution_count": null,
   "id": "11669603-d329-41c5-9ce1-7da6a7d25def",
   "metadata": {},
   "outputs": [],
   "source": []
  },
  {
   "cell_type": "markdown",
   "id": "ba5d9069-72a0-41ab-bcd5-84217955669c",
   "metadata": {},
   "source": [
    "**9. What is the total number of bikes listed by each seller type?**"
   ]
  },
  {
   "cell_type": "markdown",
   "id": "f1f34a20-0abd-4ac7-89df-7d788f2b83c3",
   "metadata": {},
   "source": [
    "Ans :- "
   ]
  },
  {
   "cell_type": "code",
   "execution_count": 55,
   "id": "00e42408-2c1b-4b0c-bf70-6326d1f450b6",
   "metadata": {},
   "outputs": [
    {
     "data": {
      "text/plain": [
       "seller_type\n",
       "Individual    1049\n",
       "Dealer           6\n",
       "Name: count, dtype: int64"
      ]
     },
     "execution_count": 55,
     "metadata": {},
     "output_type": "execute_result"
    }
   ],
   "source": [
    "df['seller_type'].value_counts()"
   ]
  },
  {
   "cell_type": "markdown",
   "id": "5fa04e8b-8099-4086-ae37-9e99d966630d",
   "metadata": {},
   "source": [
    "- So, We have total two seller_type :\n",
    "    -  \"Individual\" has 1,049 total number of bikes listed.\n",
    "    -  \"Dealer\" has 6 total number of bikes listed."
   ]
  },
  {
   "cell_type": "code",
   "execution_count": null,
   "id": "69553350-e420-45c1-be07-91bcffc4ba3b",
   "metadata": {},
   "outputs": [],
   "source": []
  },
  {
   "cell_type": "markdown",
   "id": "59179c33-f8ed-48fe-adce-8b7ddbbd0651",
   "metadata": {},
   "source": [
    "**10. What is the relationship between selling_price and km_driven for first-owner bikes?**"
   ]
  },
  {
   "cell_type": "markdown",
   "id": "4d3e939d-77a3-448a-a61e-841f1c7664f7",
   "metadata": {},
   "source": [
    "Ans:-"
   ]
  },
  {
   "cell_type": "code",
   "execution_count": 59,
   "id": "897450b3-4d1f-429f-a838-e71bea67211e",
   "metadata": {},
   "outputs": [],
   "source": [
    "first_owner_df = df[df['owner'] == '1st owner' ]"
   ]
  },
  {
   "cell_type": "code",
   "execution_count": 60,
   "id": "3beb580a-cc85-4aee-b3a9-59fd38847347",
   "metadata": {},
   "outputs": [
    {
     "data": {
      "image/png": "[encoded data removed]",
      "text/plain": [
       "<Figure size 640x480 with 1 Axes>"
      ]
     },
     "metadata": {},
     "output_type": "display_data"
    }
   ],
   "source": [
    "sns.scatterplot(data=first_owner_df, x = 'km_driven', y = 'selling_price')\n",
    "plt.title('relationship between selling_price and km_driven for first-owner bikes')\n",
    "plt.grid()\n",
    "plt.show()"
   ]
  },
  {
   "cell_type": "markdown",
   "id": "3deb116e-d68c-48d6-a6bb-336b06116c86",
   "metadata": {},
   "source": [
    "The relationship between selling_price and km_driven - \n",
    "> Bikes with lower kilometers driven tend to have higher selling prices, showing buyers prefer less-used vehicles."
   ]
  },
  {
   "cell_type": "code",
   "execution_count": null,
   "id": "403c4053-227b-4f6e-9392-1e348457caa3",
   "metadata": {},
   "outputs": [],
   "source": []
  },
  {
   "cell_type": "markdown",
   "id": "46a85f1d-b0ec-4a8c-9720-4cec7c7ea882",
   "metadata": {},
   "source": [
    "**11.  Identify and remove outliers in the km_driven column using the IQR method.**"
   ]
  },
  {
   "cell_type": "code",
   "execution_count": 63,
   "id": "13a8a040-2cae-4d41-a3fc-b1510165326e",
   "metadata": {},
   "outputs": [
    {
     "name": "stdout",
     "output_type": "stream",
     "text": [
      "38\n"
     ]
    }
   ],
   "source": [
    "#detecting the outliers\n",
    "\n",
    "#Calculate IQR\n",
    "Q1 = df['km_driven'].quantile(0.25)\n",
    "Q3 = df['km_driven'].quantile(0.75)\n",
    "IQR = Q3 - Q1\n",
    "\n",
    "# Set bounds\n",
    "lower_bound = Q1 - 1.5 * IQR\n",
    "upper_bound = Q3 + 1.5 * IQR\n",
    "\n",
    "#Detect outliers\n",
    "outliers = df[(df['km_driven'] < lower_bound) | (df['km_driven'] > upper_bound)]\n",
    "\n",
    "#View outlier rows\n",
    "print(outliers.shape[0])\n",
    "# print(outliers[['km_driven']])"
   ]
  },
  {
   "cell_type": "code",
   "execution_count": 64,
   "id": "67b1a48e-cdbe-4ab4-b5a6-382d9ab58ff5",
   "metadata": {},
   "outputs": [],
   "source": [
    "#Removing the outliers\n",
    "df_cleaned = df[(df['km_driven'] >= lower_bound) & (df['km_driven'] <= upper_bound)]"
   ]
  },
  {
   "cell_type": "code",
   "execution_count": 65,
   "id": "b05d45f1-ac8c-41f3-95b2-959b95dcaf38",
   "metadata": {},
   "outputs": [
    {
     "name": "stdout",
     "output_type": "stream",
     "text": [
      "Original data shape (1055, 7)\n",
      "Cleaned data shape (1017, 7)\n"
     ]
    }
   ],
   "source": [
    "print('Original data shape', df.shape)\n",
    "print('Cleaned data shape', df_cleaned.shape)"
   ]
  },
  {
   "cell_type": "code",
   "execution_count": null,
   "id": "0989ac2e-376e-486a-87a2-80596eb3ffaf",
   "metadata": {},
   "outputs": [],
   "source": []
  },
  {
   "cell_type": "markdown",
   "id": "f6106ea7-6fe0-424a-a44f-e850ad088eb6",
   "metadata": {},
   "source": [
    "**12.  Perform a bivariate analysis to visualize the relationship between year and selling_price.**"
   ]
  },
  {
   "cell_type": "markdown",
   "id": "a87c294e-2c6a-49db-be97-9c181e817c31",
   "metadata": {},
   "source": [
    "Ans:-"
   ]
  },
  {
   "cell_type": "code",
   "execution_count": 68,
   "id": "1e3a4dd7-95e8-4185-aa9c-fff38571050f",
   "metadata": {},
   "outputs": [
    {
     "data": {
      "image/png": "[encoded data removed]",
      "text/plain": [
       "<Figure size 1200x600 with 1 Axes>"
      ]
     },
     "metadata": {},
     "output_type": "display_data"
    }
   ],
   "source": [
    "year_and_selling_price = df[['year', 'selling_price']]\n",
    "\n",
    "plt.figure(figsize = (12, 6))\n",
    "sns.boxplot(x = 'year', y = 'selling_price', data = df)\n",
    "plt.xticks(rotation = 45)\n",
    "plt.title('relationship between year and selling_price')\n",
    "plt.xlabel('year')\n",
    "plt.ylabel('selling_price')\n",
    "plt.show()"
   ]
  },
  {
   "cell_type": "markdown",
   "id": "521caf97-12ad-4e7d-8f52-7361c49c6ce6",
   "metadata": {},
   "source": [
    "Insights -\n",
    "\n",
    "The box plot shows that selling_price increases with newer bike years.\n",
    "Bikes made before 2005 have low and consistent prices, while those from 2015 onward show a wide range and higher medians.\n",
    "Outliers are common in recent years, possibly due to high-end models or data anomalies.\n",
    "Overall, there is a positive relationship between bike year and selling_price."
   ]
  },
  {
   "cell_type": "markdown",
   "id": "205b0c99-60ea-48fc-a6af-503e9658853a",
   "metadata": {},
   "source": [
    "**13.  What is the average depreciation in selling price based on the bike's age (current year - manufacturing \n",
    "year).**"
   ]
  },
  {
   "cell_type": "code",
   "execution_count": 74,
   "id": "11891021-9a16-40ac-a2bd-bafc111b526f",
   "metadata": {},
   "outputs": [
    {
     "data": {
      "text/plain": [
       "Index(['name', 'selling_price', 'year', 'seller_type', 'owner', 'km_driven',\n",
       "       'ex_showroom_price'],\n",
       "      dtype='object')"
      ]
     },
     "execution_count": 74,
     "metadata": {},
     "output_type": "execute_result"
    }
   ],
   "source": [
    "df.columns"
   ]
  },
  {
   "cell_type": "code",
   "execution_count": 115,
   "id": "620ebf16-282b-4f54-8b1f-98452db676e0",
   "metadata": {},
   "outputs": [],
   "source": [
    "#calculating bike age\n",
    "current_year = datetime.now().year\n",
    "df['bike_age'] = current_year - df['year']"
   ]
  },
  {
   "cell_type": "code",
   "execution_count": 125,
   "id": "7df8aef1-ad58-4266-84f9-df1d3f9deaad",
   "metadata": {},
   "outputs": [],
   "source": [
    "#grouping data by bike_age and finding the average of selling price\n",
    "grouped_df = df.groupby('bike_age')['selling_price'].mean().reset_index()"
   ]
  },
  {
   "cell_type": "code",
   "execution_count": 137,
   "id": "114458db-d13b-4fdc-b105-b076b8f8f98d",
   "metadata": {},
   "outputs": [
    {
     "data": {
      "image/png": "[encoded data removed]",
      "text/plain": [
       "<Figure size 640x480 with 1 Axes>"
      ]
     },
     "metadata": {},
     "output_type": "display_data"
    }
   ],
   "source": [
    "#ploting bike_age and average selling_price\n",
    "sns.lineplot(x = 'bike_age', y = 'selling_price', data = grouped_df)\n",
    "plt.title('average selling_price vs bike_age')\n",
    "plt.xlabel('Bike Age (Years)')\n",
    "plt.ylabel('Average Selling Price (₹)')\n",
    "plt.grid()\n",
    "plt.show()"
   ]
  },
  {
   "cell_type": "code",
   "execution_count": 143,
   "id": "b5f6b9d6-bb2b-4eb3-87f9-ae111f9d0e6b",
   "metadata": {},
   "outputs": [],
   "source": [
    "grouped_df['Depreciation'] = grouped_df['selling_price'].diff(periods = -1) # next year - current year"
   ]
  },
  {
   "cell_type": "code",
   "execution_count": 152,
   "id": "da78ad5e-a00f-4231-ba54-39c82cc705ef",
   "metadata": {},
   "outputs": [
    {
     "name": "stdout",
     "output_type": "stream",
     "text": [
      "Average Depreciation per Year = ₹6049.38\n"
     ]
    }
   ],
   "source": [
    "average_depreciation = grouped_df['Depreciation'].mean()\n",
    "print(f\"Average Depreciation per Year = ₹{average_depreciation:.2f}\")"
   ]
  },
  {
   "cell_type": "markdown",
   "id": "7b1bc42d-bc5e-4482-b287-087658f4d5eb",
   "metadata": {},
   "source": [
    "So, The average depreciation in selling price based on the bike's age (current year - manufacturing year) is ₹6049.38."
   ]
  },
  {
   "cell_type": "code",
   "execution_count": null,
   "id": "6ef76f53-0bc0-4a30-aa34-1295fb16edd0",
   "metadata": {},
   "outputs": [],
   "source": []
  },
  {
   "cell_type": "markdown",
   "id": "a79528bf-425f-4083-adb5-480fac397a89",
   "metadata": {},
   "source": [
    "**14. Which bike names are priced significantly above the average price for their manufacturing year?**"
   ]
  },
  {
   "cell_type": "markdown",
   "id": "331e0b81-3b3a-41be-b186-88e2e9337af6",
   "metadata": {},
   "source": [
    "Ans - So, 232 bikes are priced significantly above the average price for their manufacturing year."
   ]
  },
  {
   "cell_type": "code",
   "execution_count": 156,
   "id": "77ccde3a-3c00-4f69-acdd-926aac5455d5",
   "metadata": {},
   "outputs": [
    {
     "data": {
      "text/plain": [
       "Index(['name', 'selling_price', 'year', 'seller_type', 'owner', 'km_driven',\n",
       "       'ex_showroom_price', 'bike_age'],\n",
       "      dtype='object')"
      ]
     },
     "execution_count": 156,
     "metadata": {},
     "output_type": "execute_result"
    }
   ],
   "source": [
    "df.columns"
   ]
  },
  {
   "cell_type": "code",
   "execution_count": 180,
   "id": "f4c87a0d-fba4-49e9-ae2f-f0053af430a6",
   "metadata": {},
   "outputs": [],
   "source": [
    "avg_price_by_year = df.groupby('year')['selling_price'].mean().reset_index()\n",
    "avg_price_by_year.rename(columns = {'selling_price':'yearly_avg_price'}, inplace = True)"
   ]
  },
  {
   "cell_type": "code",
   "execution_count": 184,
   "id": "763ffb1c-7a7b-48fd-b4ea-93f1e0418599",
   "metadata": {},
   "outputs": [],
   "source": [
    "df = df.merge(avg_price_by_year, on='year')"
   ]
  },
  {
   "cell_type": "code",
   "execution_count": 192,
   "id": "750dd6c9-e568-407b-b11e-726033d2c76f",
   "metadata": {},
   "outputs": [],
   "source": [
    "df['price_difference'] = df['selling_price'] - df['yearly_avg_price']"
   ]
  },
  {
   "cell_type": "code",
   "execution_count": 199,
   "id": "3b971ce7-0988-475e-8089-1f388a19ef0c",
   "metadata": {},
   "outputs": [],
   "source": [
    "df_above_avg = df[df['price_difference'] > 0.2 * df['yearly_avg_price']]"
   ]
  },
  {
   "cell_type": "code",
   "execution_count": 209,
   "id": "c85ea77a-0031-46c8-9c75-8421a158f798",
   "metadata": {},
   "outputs": [
    {
     "data": {
      "text/html": [
       "<div>\n",
       "<style scoped>\n",
       "    .dataframe tbody tr th:only-of-type {\n",
       "        vertical-align: middle;\n",
       "    }\n",
       "\n",
       "    .dataframe tbody tr th {\n",
       "        vertical-align: top;\n",
       "    }\n",
       "\n",
       "    .dataframe thead th {\n",
       "        text-align: right;\n",
       "    }\n",
       "</style>\n",
       "<table border=\"1\" class=\"dataframe\">\n",
       "  <thead>\n",
       "    <tr style=\"text-align: right;\">\n",
       "      <th></th>\n",
       "      <th>name</th>\n",
       "      <th>year</th>\n",
       "      <th>selling_price</th>\n",
       "      <th>yearly_avg_price</th>\n",
       "    </tr>\n",
       "  </thead>\n",
       "  <tbody>\n",
       "    <tr>\n",
       "      <th>0</th>\n",
       "      <td>Royal Enfield Classic 350</td>\n",
       "      <td>2019</td>\n",
       "      <td>175000</td>\n",
       "      <td>119689.511628</td>\n",
       "    </tr>\n",
       "    <tr>\n",
       "      <th>2</th>\n",
       "      <td>Royal Enfield Classic Gunmetal Grey</td>\n",
       "      <td>2018</td>\n",
       "      <td>150000</td>\n",
       "      <td>87603.915385</td>\n",
       "    </tr>\n",
       "    <tr>\n",
       "      <th>7</th>\n",
       "      <td>Royal Enfield Bullet 350 [2007-2011]</td>\n",
       "      <td>2008</td>\n",
       "      <td>180000</td>\n",
       "      <td>34289.285714</td>\n",
       "    </tr>\n",
       "    <tr>\n",
       "      <th>13</th>\n",
       "      <td>Yamaha YZF R3</td>\n",
       "      <td>2019</td>\n",
       "      <td>365000</td>\n",
       "      <td>119689.511628</td>\n",
       "    </tr>\n",
       "    <tr>\n",
       "      <th>17</th>\n",
       "      <td>Yamaha YZF R15 S</td>\n",
       "      <td>2010</td>\n",
       "      <td>40000</td>\n",
       "      <td>31993.220339</td>\n",
       "    </tr>\n",
       "    <tr>\n",
       "      <th>...</th>\n",
       "      <td>...</td>\n",
       "      <td>...</td>\n",
       "      <td>...</td>\n",
       "      <td>...</td>\n",
       "    </tr>\n",
       "    <tr>\n",
       "      <th>978</th>\n",
       "      <td>Royal Enfield Classic 500</td>\n",
       "      <td>2014</td>\n",
       "      <td>95000</td>\n",
       "      <td>48668.131868</td>\n",
       "    </tr>\n",
       "    <tr>\n",
       "      <th>979</th>\n",
       "      <td>Royal Enfield Classic 500</td>\n",
       "      <td>2011</td>\n",
       "      <td>90000</td>\n",
       "      <td>35655.721311</td>\n",
       "    </tr>\n",
       "    <tr>\n",
       "      <th>999</th>\n",
       "      <td>TVS Apache RTR 160</td>\n",
       "      <td>2014</td>\n",
       "      <td>60000</td>\n",
       "      <td>48668.131868</td>\n",
       "    </tr>\n",
       "    <tr>\n",
       "      <th>1002</th>\n",
       "      <td>Bajaj Pulsar 220 F</td>\n",
       "      <td>2012</td>\n",
       "      <td>52000</td>\n",
       "      <td>35976.637681</td>\n",
       "    </tr>\n",
       "    <tr>\n",
       "      <th>1017</th>\n",
       "      <td>Bajaj Avenger 220 dtsi</td>\n",
       "      <td>2012</td>\n",
       "      <td>45000</td>\n",
       "      <td>35976.637681</td>\n",
       "    </tr>\n",
       "  </tbody>\n",
       "</table>\n",
       "<p>232 rows × 4 columns</p>\n",
       "</div>"
      ],
      "text/plain": [
       "                                      name  year  selling_price  \\\n",
       "0                Royal Enfield Classic 350  2019         175000   \n",
       "2      Royal Enfield Classic Gunmetal Grey  2018         150000   \n",
       "7     Royal Enfield Bullet 350 [2007-2011]  2008         180000   \n",
       "13                           Yamaha YZF R3  2019         365000   \n",
       "17                        Yamaha YZF R15 S  2010          40000   \n",
       "...                                    ...   ...            ...   \n",
       "978              Royal Enfield Classic 500  2014          95000   \n",
       "979              Royal Enfield Classic 500  2011          90000   \n",
       "999                     TVS Apache RTR 160  2014          60000   \n",
       "1002                    Bajaj Pulsar 220 F  2012          52000   \n",
       "1017                Bajaj Avenger 220 dtsi  2012          45000   \n",
       "\n",
       "      yearly_avg_price  \n",
       "0        119689.511628  \n",
       "2         87603.915385  \n",
       "7         34289.285714  \n",
       "13       119689.511628  \n",
       "17        31993.220339  \n",
       "...                ...  \n",
       "978       48668.131868  \n",
       "979       35655.721311  \n",
       "999       48668.131868  \n",
       "1002      35976.637681  \n",
       "1017      35976.637681  \n",
       "\n",
       "[232 rows x 4 columns]"
      ]
     },
     "execution_count": 209,
     "metadata": {},
     "output_type": "execute_result"
    }
   ],
   "source": [
    "df_above_avg[['name', 'year', 'selling_price', 'yearly_avg_price']]"
   ]
  },
  {
   "cell_type": "markdown",
   "id": "deaacd7d-4460-4b9a-8ad2-810d4f2e920e",
   "metadata": {},
   "source": []
  },
  {
   "cell_type": "markdown",
   "id": "e4d2ea20-1e3b-4928-9d24-ec51589abcc0",
   "metadata": {},
   "source": [
    "**15. Develop a correlation matrix for numeric columns and visualize it using a heatmap.**"
   ]
  },
  {
   "cell_type": "code",
   "execution_count": 248,
   "id": "4a2894aa-983e-4b12-aea3-626df9977ebc",
   "metadata": {},
   "outputs": [],
   "source": [
    "#only numeric columns\n",
    "numeric_df = df.select_dtypes(include = 'number')"
   ]
  },
  {
   "cell_type": "code",
   "execution_count": 252,
   "id": "7ed8787d-3259-4a9b-be0c-0b48aa2cc9a1",
   "metadata": {},
   "outputs": [],
   "source": [
    "#correlation matrix for numeric columns\n",
    "corr_matrix = numeric_df.corr()"
   ]
  },
  {
   "cell_type": "code",
   "execution_count": 254,
   "id": "8d29e319-b986-4098-bd10-cc6f04c69b48",
   "metadata": {},
   "outputs": [
    {
     "data": {
      "image/png": "[encoded data removed]",
      "text/plain": [
       "<Figure size 1000x600 with 2 Axes>"
      ]
     },
     "metadata": {},
     "output_type": "display_data"
    }
   ],
   "source": [
    "#Visualizing using heatmap\n",
    "plt.figure(figsize = (10, 6))\n",
    "sns.heatmap(corr_matrix, annot = True, cmap = 'coolwarm', fmt = '.2f')\n",
    "plt.title('Correlation matrix')\n",
    "plt.show()"
   ]
  },
  {
   "cell_type": "markdown",
   "id": "60faf9f6-0e86-43f7-9b52-5ec1ff6e4cd4",
   "metadata": {},
   "source": [
    "From the correlation matrix, we observe that selling price is strongly influenced by:\n",
    "- Ex-showroom price (0.74)\n",
    "- Price difference from yearly average (0.87)\n",
    "\n",
    "There's a strong negative correlation between bike age and both selling price (-0.40) and yearly average price (-0.80), confirming expected depreciation trends.\n",
    "\n",
    "Surprisingly, kilometers driven shows very weak correlation with selling price (-0.21), indicating it may not be a significant factor in pricing in this dataset."
   ]
  },
  {
   "cell_type": "code",
   "execution_count": null,
   "id": "28ae7a70-eb70-490b-8115-f5ecd59b7927",
   "metadata": {},
   "outputs": [],
   "source": []
  }
 ],
 "metadata": {
  "kernelspec": {
   "display_name": "Python 3 (ipykernel)",
   "language": "python",
   "name": "python3"
  },
  "language_info": {
   "codemirror_mode": {
    "name": "ipython",
    "version": 3
   },
   "file_extension": ".py",
   "mimetype": "text/x-python",
   "name": "python",
   "nbconvert_exporter": "python",
   "pygments_lexer": "ipython3",
   "version": "3.12.7"
  }
 },
 "nbformat": 4,
 "nbformat_minor": 5
}
